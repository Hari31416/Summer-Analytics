{
 "cells": [
  {
   "cell_type": "code",
   "execution_count": 1,
   "metadata": {},
   "outputs": [],
   "source": [
    "import pandas as pd\n",
    "from sklearn.preprocessing import LabelEncoder, OneHotEncoder\n",
    "from sklearn.model_selection import train_test_split\n",
    "from sklearn.preprocessing import StandardScaler\n",
    "from sklearn.linear_model import LinearRegression, ElasticNet\n",
    "from sklearn.metrics import mean_squared_error, r2_score, mean_absolute_error\n",
    "from sklearn.tree import DecisionTreeRegressor\n",
    "from sklearn.ensemble import RandomForestRegressor, GradientBoostingRegressor\n",
    "from sklearn.svm import SVR\n",
    "from sklearn.neighbors import KNeighborsRegressor\n",
    "from sklearn.pipeline import Pipeline\n",
    "from sklearn.compose import ColumnTransformer\n",
    "from xgboost import XGBRegressor"
   ]
  },
  {
   "cell_type": "code",
   "execution_count": 28,
   "metadata": {},
   "outputs": [],
   "source": [
    "train = pd.read_csv(\"data/train_final.csv\")\n",
    "test = pd.read_csv(\"data/test_final.csv\")\n",
    "target = pd.read_csv(\"data/target.csv\")"
   ]
  },
  {
   "cell_type": "code",
   "execution_count": 29,
   "metadata": {},
   "outputs": [
    {
     "data": {
      "text/html": [
       "<div>\n",
       "<style scoped>\n",
       "    .dataframe tbody tr th:only-of-type {\n",
       "        vertical-align: middle;\n",
       "    }\n",
       "\n",
       "    .dataframe tbody tr th {\n",
       "        vertical-align: top;\n",
       "    }\n",
       "\n",
       "    .dataframe thead th {\n",
       "        text-align: right;\n",
       "    }\n",
       "</style>\n",
       "<table border=\"1\" class=\"dataframe\">\n",
       "  <thead>\n",
       "    <tr style=\"text-align: right;\">\n",
       "      <th></th>\n",
       "      <th>count</th>\n",
       "      <th>mean</th>\n",
       "      <th>std</th>\n",
       "      <th>min</th>\n",
       "      <th>25%</th>\n",
       "      <th>50%</th>\n",
       "      <th>75%</th>\n",
       "      <th>max</th>\n",
       "    </tr>\n",
       "  </thead>\n",
       "  <tbody>\n",
       "    <tr>\n",
       "      <th>Rating</th>\n",
       "      <td>15730.0</td>\n",
       "      <td>4.012873</td>\n",
       "      <td>0.298440</td>\n",
       "      <td>0.0</td>\n",
       "      <td>3.9</td>\n",
       "      <td>4.0</td>\n",
       "      <td>4.20</td>\n",
       "      <td>5.0</td>\n",
       "    </tr>\n",
       "    <tr>\n",
       "      <th>actprice1</th>\n",
       "      <td>15730.0</td>\n",
       "      <td>1369.286777</td>\n",
       "      <td>1240.900227</td>\n",
       "      <td>42.0</td>\n",
       "      <td>699.0</td>\n",
       "      <td>999.0</td>\n",
       "      <td>1299.00</td>\n",
       "      <td>13499.0</td>\n",
       "    </tr>\n",
       "    <tr>\n",
       "      <th>norating1</th>\n",
       "      <td>15730.0</td>\n",
       "      <td>2925.868404</td>\n",
       "      <td>11605.447095</td>\n",
       "      <td>0.0</td>\n",
       "      <td>50.0</td>\n",
       "      <td>267.0</td>\n",
       "      <td>1379.25</td>\n",
       "      <td>289973.0</td>\n",
       "    </tr>\n",
       "    <tr>\n",
       "      <th>noreviews1</th>\n",
       "      <td>15730.0</td>\n",
       "      <td>408.397266</td>\n",
       "      <td>1737.269600</td>\n",
       "      <td>0.0</td>\n",
       "      <td>7.0</td>\n",
       "      <td>38.0</td>\n",
       "      <td>198.00</td>\n",
       "      <td>45448.0</td>\n",
       "    </tr>\n",
       "    <tr>\n",
       "      <th>star_5f</th>\n",
       "      <td>15730.0</td>\n",
       "      <td>1599.965035</td>\n",
       "      <td>6233.811271</td>\n",
       "      <td>0.0</td>\n",
       "      <td>30.0</td>\n",
       "      <td>153.0</td>\n",
       "      <td>789.00</td>\n",
       "      <td>151193.0</td>\n",
       "    </tr>\n",
       "    <tr>\n",
       "      <th>star_4f</th>\n",
       "      <td>15730.0</td>\n",
       "      <td>662.491545</td>\n",
       "      <td>2843.657075</td>\n",
       "      <td>0.0</td>\n",
       "      <td>12.0</td>\n",
       "      <td>61.0</td>\n",
       "      <td>304.00</td>\n",
       "      <td>74037.0</td>\n",
       "    </tr>\n",
       "    <tr>\n",
       "      <th>star_3f</th>\n",
       "      <td>15730.0</td>\n",
       "      <td>360.168023</td>\n",
       "      <td>1416.859022</td>\n",
       "      <td>0.0</td>\n",
       "      <td>7.0</td>\n",
       "      <td>34.0</td>\n",
       "      <td>172.00</td>\n",
       "      <td>34978.0</td>\n",
       "    </tr>\n",
       "    <tr>\n",
       "      <th>star_2f</th>\n",
       "      <td>15730.0</td>\n",
       "      <td>155.085188</td>\n",
       "      <td>558.650254</td>\n",
       "      <td>0.0</td>\n",
       "      <td>3.0</td>\n",
       "      <td>17.0</td>\n",
       "      <td>77.00</td>\n",
       "      <td>11705.0</td>\n",
       "    </tr>\n",
       "    <tr>\n",
       "      <th>star_1f</th>\n",
       "      <td>15730.0</td>\n",
       "      <td>275.500572</td>\n",
       "      <td>958.589075</td>\n",
       "      <td>0.0</td>\n",
       "      <td>6.0</td>\n",
       "      <td>30.0</td>\n",
       "      <td>140.00</td>\n",
       "      <td>18060.0</td>\n",
       "    </tr>\n",
       "    <tr>\n",
       "      <th>fulfilled1</th>\n",
       "      <td>15730.0</td>\n",
       "      <td>0.601526</td>\n",
       "      <td>0.489600</td>\n",
       "      <td>0.0</td>\n",
       "      <td>0.0</td>\n",
       "      <td>1.0</td>\n",
       "      <td>1.00</td>\n",
       "      <td>1.0</td>\n",
       "    </tr>\n",
       "  </tbody>\n",
       "</table>\n",
       "</div>"
      ],
      "text/plain": [
       "              count         mean           std   min    25%    50%      75%  \\\n",
       "Rating      15730.0     4.012873      0.298440   0.0    3.9    4.0     4.20   \n",
       "actprice1   15730.0  1369.286777   1240.900227  42.0  699.0  999.0  1299.00   \n",
       "norating1   15730.0  2925.868404  11605.447095   0.0   50.0  267.0  1379.25   \n",
       "noreviews1  15730.0   408.397266   1737.269600   0.0    7.0   38.0   198.00   \n",
       "star_5f     15730.0  1599.965035   6233.811271   0.0   30.0  153.0   789.00   \n",
       "star_4f     15730.0   662.491545   2843.657075   0.0   12.0   61.0   304.00   \n",
       "star_3f     15730.0   360.168023   1416.859022   0.0    7.0   34.0   172.00   \n",
       "star_2f     15730.0   155.085188    558.650254   0.0    3.0   17.0    77.00   \n",
       "star_1f     15730.0   275.500572    958.589075   0.0    6.0   30.0   140.00   \n",
       "fulfilled1  15730.0     0.601526      0.489600   0.0    0.0    1.0     1.00   \n",
       "\n",
       "                 max  \n",
       "Rating           5.0  \n",
       "actprice1    13499.0  \n",
       "norating1   289973.0  \n",
       "noreviews1   45448.0  \n",
       "star_5f     151193.0  \n",
       "star_4f      74037.0  \n",
       "star_3f      34978.0  \n",
       "star_2f      11705.0  \n",
       "star_1f      18060.0  \n",
       "fulfilled1       1.0  "
      ]
     },
     "execution_count": 29,
     "metadata": {},
     "output_type": "execute_result"
    }
   ],
   "source": [
    "train.describe().T"
   ]
  },
  {
   "cell_type": "code",
   "execution_count": 30,
   "metadata": {},
   "outputs": [
    {
     "data": {
      "text/html": [
       "<div>\n",
       "<style scoped>\n",
       "    .dataframe tbody tr th:only-of-type {\n",
       "        vertical-align: middle;\n",
       "    }\n",
       "\n",
       "    .dataframe tbody tr th {\n",
       "        vertical-align: top;\n",
       "    }\n",
       "\n",
       "    .dataframe thead th {\n",
       "        text-align: right;\n",
       "    }\n",
       "</style>\n",
       "<table border=\"1\" class=\"dataframe\">\n",
       "  <thead>\n",
       "    <tr style=\"text-align: right;\">\n",
       "      <th></th>\n",
       "      <th>count</th>\n",
       "      <th>mean</th>\n",
       "      <th>std</th>\n",
       "      <th>min</th>\n",
       "      <th>25%</th>\n",
       "      <th>50%</th>\n",
       "      <th>75%</th>\n",
       "      <th>max</th>\n",
       "    </tr>\n",
       "  </thead>\n",
       "  <tbody>\n",
       "    <tr>\n",
       "      <th>Rating</th>\n",
       "      <td>5244.0</td>\n",
       "      <td>4.015580</td>\n",
       "      <td>0.311346</td>\n",
       "      <td>0.0</td>\n",
       "      <td>3.9</td>\n",
       "      <td>4.0</td>\n",
       "      <td>4.20</td>\n",
       "      <td>5.0</td>\n",
       "    </tr>\n",
       "    <tr>\n",
       "      <th>actprice1</th>\n",
       "      <td>5244.0</td>\n",
       "      <td>1378.657895</td>\n",
       "      <td>1280.630070</td>\n",
       "      <td>139.0</td>\n",
       "      <td>699.0</td>\n",
       "      <td>999.0</td>\n",
       "      <td>1299.00</td>\n",
       "      <td>15999.0</td>\n",
       "    </tr>\n",
       "    <tr>\n",
       "      <th>norating1</th>\n",
       "      <td>5244.0</td>\n",
       "      <td>2988.580092</td>\n",
       "      <td>12881.253715</td>\n",
       "      <td>1.0</td>\n",
       "      <td>66.0</td>\n",
       "      <td>307.0</td>\n",
       "      <td>1428.00</td>\n",
       "      <td>289973.0</td>\n",
       "    </tr>\n",
       "    <tr>\n",
       "      <th>noreviews1</th>\n",
       "      <td>5244.0</td>\n",
       "      <td>415.491037</td>\n",
       "      <td>1910.726669</td>\n",
       "      <td>0.0</td>\n",
       "      <td>9.0</td>\n",
       "      <td>44.0</td>\n",
       "      <td>214.25</td>\n",
       "      <td>45448.0</td>\n",
       "    </tr>\n",
       "    <tr>\n",
       "      <th>star_5f</th>\n",
       "      <td>5244.0</td>\n",
       "      <td>1545.586003</td>\n",
       "      <td>6544.085444</td>\n",
       "      <td>0.0</td>\n",
       "      <td>32.0</td>\n",
       "      <td>156.0</td>\n",
       "      <td>756.50</td>\n",
       "      <td>151193.0</td>\n",
       "    </tr>\n",
       "    <tr>\n",
       "      <th>star_4f</th>\n",
       "      <td>5244.0</td>\n",
       "      <td>639.785469</td>\n",
       "      <td>2991.065223</td>\n",
       "      <td>0.0</td>\n",
       "      <td>12.0</td>\n",
       "      <td>61.0</td>\n",
       "      <td>310.25</td>\n",
       "      <td>74037.0</td>\n",
       "    </tr>\n",
       "    <tr>\n",
       "      <th>star_3f</th>\n",
       "      <td>5244.0</td>\n",
       "      <td>356.356789</td>\n",
       "      <td>1632.732834</td>\n",
       "      <td>0.0</td>\n",
       "      <td>7.0</td>\n",
       "      <td>34.0</td>\n",
       "      <td>166.00</td>\n",
       "      <td>49924.0</td>\n",
       "    </tr>\n",
       "    <tr>\n",
       "      <th>star_2f</th>\n",
       "      <td>5244.0</td>\n",
       "      <td>154.139969</td>\n",
       "      <td>611.006799</td>\n",
       "      <td>0.0</td>\n",
       "      <td>3.0</td>\n",
       "      <td>16.0</td>\n",
       "      <td>75.00</td>\n",
       "      <td>12629.0</td>\n",
       "    </tr>\n",
       "    <tr>\n",
       "      <th>star_1f</th>\n",
       "      <td>5244.0</td>\n",
       "      <td>260.807018</td>\n",
       "      <td>1017.789008</td>\n",
       "      <td>0.0</td>\n",
       "      <td>5.0</td>\n",
       "      <td>26.0</td>\n",
       "      <td>120.25</td>\n",
       "      <td>23139.0</td>\n",
       "    </tr>\n",
       "    <tr>\n",
       "      <th>fulfilled1</th>\n",
       "      <td>5244.0</td>\n",
       "      <td>0.604500</td>\n",
       "      <td>0.489004</td>\n",
       "      <td>0.0</td>\n",
       "      <td>0.0</td>\n",
       "      <td>1.0</td>\n",
       "      <td>1.00</td>\n",
       "      <td>1.0</td>\n",
       "    </tr>\n",
       "  </tbody>\n",
       "</table>\n",
       "</div>"
      ],
      "text/plain": [
       "             count         mean           std    min    25%    50%      75%  \\\n",
       "Rating      5244.0     4.015580      0.311346    0.0    3.9    4.0     4.20   \n",
       "actprice1   5244.0  1378.657895   1280.630070  139.0  699.0  999.0  1299.00   \n",
       "norating1   5244.0  2988.580092  12881.253715    1.0   66.0  307.0  1428.00   \n",
       "noreviews1  5244.0   415.491037   1910.726669    0.0    9.0   44.0   214.25   \n",
       "star_5f     5244.0  1545.586003   6544.085444    0.0   32.0  156.0   756.50   \n",
       "star_4f     5244.0   639.785469   2991.065223    0.0   12.0   61.0   310.25   \n",
       "star_3f     5244.0   356.356789   1632.732834    0.0    7.0   34.0   166.00   \n",
       "star_2f     5244.0   154.139969    611.006799    0.0    3.0   16.0    75.00   \n",
       "star_1f     5244.0   260.807018   1017.789008    0.0    5.0   26.0   120.25   \n",
       "fulfilled1  5244.0     0.604500      0.489004    0.0    0.0    1.0     1.00   \n",
       "\n",
       "                 max  \n",
       "Rating           5.0  \n",
       "actprice1    15999.0  \n",
       "norating1   289973.0  \n",
       "noreviews1   45448.0  \n",
       "star_5f     151193.0  \n",
       "star_4f      74037.0  \n",
       "star_3f      49924.0  \n",
       "star_2f      12629.0  \n",
       "star_1f      23139.0  \n",
       "fulfilled1       1.0  "
      ]
     },
     "execution_count": 30,
     "metadata": {},
     "output_type": "execute_result"
    }
   ],
   "source": [
    "test.describe().T"
   ]
  },
  {
   "cell_type": "code",
   "execution_count": 31,
   "metadata": {},
   "outputs": [
    {
     "data": {
      "text/plain": [
       "title          object\n",
       "Rating        float64\n",
       "maincateg      object\n",
       "platform       object\n",
       "actprice1       int64\n",
       "norating1     float64\n",
       "noreviews1    float64\n",
       "star_5f       float64\n",
       "star_4f       float64\n",
       "star_3f       float64\n",
       "star_2f         int64\n",
       "star_1f       float64\n",
       "fulfilled1      int64\n",
       "combo            bool\n",
       "category       object\n",
       "dtype: object"
      ]
     },
     "execution_count": 31,
     "metadata": {},
     "output_type": "execute_result"
    }
   ],
   "source": [
    "train.dtypes"
   ]
  },
  {
   "cell_type": "code",
   "execution_count": 32,
   "metadata": {},
   "outputs": [
    {
     "data": {
      "text/plain": [
       "Index(['title', 'Rating', 'maincateg', 'platform', 'actprice1', 'norating1',\n",
       "       'noreviews1', 'star_5f', 'star_4f', 'star_3f', 'star_2f', 'star_1f',\n",
       "       'fulfilled1', 'combo', 'category'],\n",
       "      dtype='object')"
      ]
     },
     "execution_count": 32,
     "metadata": {},
     "output_type": "execute_result"
    }
   ],
   "source": [
    "train.columns"
   ]
  },
  {
   "cell_type": "code",
   "execution_count": 33,
   "metadata": {},
   "outputs": [],
   "source": [
    "train.drop(\"title\", axis=1, inplace=True)\n",
    "# test_id = test.id\n",
    "test.drop(\"title\", axis=1, inplace=True)\n",
    "\n",
    "X = train\n",
    "y = target\n",
    "assert X.shape[1] == test.shape[1], \"X and test have different number of columns\""
   ]
  },
  {
   "cell_type": "code",
   "execution_count": 34,
   "metadata": {},
   "outputs": [],
   "source": [
    "columns_to_one_hot = [\"maincateg\", \"category\", \"platform\", \"combo\"]\n",
    "columns_to_standardize = [\"actprice1\", 'norating1', 'noreviews1', 'star_5f', \n",
    "    'star_4f', 'star_3f', 'star_2f', 'star_1f',]"
   ]
  },
  {
   "cell_type": "code",
   "execution_count": 35,
   "metadata": {},
   "outputs": [],
   "source": [
    "X_train, X_test, y_train, y_test = train_test_split(X, y, test_size=0.2, random_state=42)"
   ]
  },
  {
   "cell_type": "code",
   "execution_count": 16,
   "metadata": {},
   "outputs": [],
   "source": [
    "# X_dev, X_test, y_dev, y_test = train_test_split(X_test, y_test, test_size=0.5, random_state=42)"
   ]
  },
  {
   "cell_type": "code",
   "execution_count": 36,
   "metadata": {},
   "outputs": [
    {
     "data": {
      "text/plain": [
       "(12584, 3146)"
      ]
     },
     "execution_count": 36,
     "metadata": {},
     "output_type": "execute_result"
    }
   ],
   "source": [
    "len(X_train), len(X_test)"
   ]
  },
  {
   "cell_type": "code",
   "execution_count": 37,
   "metadata": {},
   "outputs": [],
   "source": [
    "label_encoder = LabelEncoder()\n",
    "one_hot_encoder = OneHotEncoder(sparse=False)\n",
    "standardizer = StandardScaler()\n",
    "\n",
    "preprocessor = ColumnTransformer(\n",
    "    [\n",
    "        (\"one_hot_encoder\", one_hot_encoder, columns_to_one_hot),\n",
    "        (\"standardizer\", standardizer, columns_to_standardize)],\n",
    "    remainder=\"passthrough\"\n",
    ")"
   ]
  },
  {
   "cell_type": "code",
   "execution_count": 38,
   "metadata": {},
   "outputs": [],
   "source": [
    "preprocessor.fit(X_train)\n",
    "X_train = preprocessor.transform(X_train)\n",
    "# X_dev = preprocessor.transform(X_dev)\n",
    "X_test = preprocessor.transform(X_test)\n",
    "test = preprocessor.transform(test)"
   ]
  },
  {
   "cell_type": "code",
   "execution_count": 39,
   "metadata": {},
   "outputs": [],
   "source": [
    "assert X_train.shape[1] == test.shape[1], \"X and test have different number of columns\""
   ]
  },
  {
   "cell_type": "code",
   "execution_count": 51,
   "metadata": {},
   "outputs": [
    {
     "data": {
      "text/plain": [
       "(array([ 0.        ,  0.        ,  0.        ,  0.        ,  0.        ,\n",
       "         0.        ,  0.        ,  0.        ,  0.        ,  0.        ,\n",
       "         0.        ,  0.        ,  0.        ,  0.        ,  0.        ,\n",
       "         0.        ,  0.        , -0.96847596, -0.25124309, -0.23788562,\n",
       "        -0.258778  , -0.23556195, -0.25551057, -0.27874569, -0.28748864,\n",
       "         0.        ,  0.        ]),\n",
       " array([ 0.        ,  0.        ,  0.        ,  0.        ,  0.        ,\n",
       "         0.        ,  0.        ,  0.        ,  0.        ,  0.        ,\n",
       "         0.        ,  0.        ,  0.        ,  0.        ,  0.        ,\n",
       "         0.        ,  0.        , -0.99526439, -0.25115692, -0.23788562,\n",
       "        -0.258778  , -0.23556195, -0.25551057, -0.27874569, -0.28748864,\n",
       "         0.        ,  0.        ]))"
      ]
     },
     "execution_count": 51,
     "metadata": {},
     "output_type": "execute_result"
    }
   ],
   "source": [
    "X_train.min(axis=0), test.min(axis=0)"
   ]
  },
  {
   "cell_type": "markdown",
   "metadata": {},
   "source": [
    "# Models"
   ]
  },
  {
   "cell_type": "markdown",
   "metadata": {},
   "source": [
    "## Base Model"
   ]
  },
  {
   "cell_type": "code",
   "execution_count": 45,
   "metadata": {},
   "outputs": [
    {
     "name": "stdout",
     "output_type": "stream",
     "text": [
      "Linear Regression On Test Set:\n",
      "R2: 0.8214036593164931\n",
      "MAE: 181.5240980610299\n",
      "RMSE: 287.34810108818095\n",
      "\n",
      "\n",
      "Linear Regression On Train Set:\n",
      "R2: 0.8023614612722689\n",
      "MAE: 182.80386366119677\n",
      "RMSE: 285.1834423376068\n"
     ]
    }
   ],
   "source": [
    "lr = LinearRegression(positive=True)\n",
    "lr.fit(X_train, y_train)\n",
    "y_pred = lr.predict(X_test)\n",
    "print(\"Linear Regression On Test Set:\")\n",
    "print(\"R2:\", r2_score(y_test, y_pred))\n",
    "print(\"MAE:\", mean_absolute_error(y_test, y_pred))\n",
    "print(\"RMSE:\", mean_squared_error(y_test, y_pred)**0.5)\n",
    "print(\"\\n\")\n",
    "print(\"Linear Regression On Train Set:\")\n",
    "y_pred_t = lr.predict(X_train)\n",
    "print(\"R2:\", r2_score(y_train, y_pred_t))\n",
    "print(\"MAE:\", mean_absolute_error(y_train, y_pred_t))\n",
    "print(\"RMSE:\", mean_squared_error(y_train, y_pred_t)**0.5)"
   ]
  },
  {
   "cell_type": "code",
   "execution_count": 41,
   "metadata": {},
   "outputs": [
    {
     "name": "stdout",
     "output_type": "stream",
     "text": [
      "XGBR On test Set:\n",
      "R2: 0.9085789875077412\n",
      "MAE: 110.49827334142687\n",
      "RMSE: 205.58672428778644\n",
      "\n",
      "\n",
      "XGBR On Train Set:\n",
      "R2: 0.9688170369830018\n",
      "MAE: 75.62243969366192\n",
      "RMSE: 113.27841915234771\n"
     ]
    }
   ],
   "source": [
    "xgbr = XGBRegressor(n_estimators=1000, max_depth=4, learning_rate=0.1)\n",
    "xgbr.fit(X_train, y_train)\n",
    "y_pred = xgbr.predict(X_test)\n",
    "print(\"XGBR On test Set:\")\n",
    "print(\"R2:\", r2_score(y_test, y_pred))\n",
    "print(\"MAE:\", mean_absolute_error(y_test, y_pred))\n",
    "print(\"RMSE:\", mean_squared_error(y_test, y_pred)**0.5)\n",
    "print(\"\\n\")\n",
    "print(\"XGBR On Train Set:\")\n",
    "y_pred_t = xgbr.predict(X_train)\n",
    "print(\"R2:\", r2_score(y_train, y_pred_t))\n",
    "print(\"MAE:\", mean_absolute_error(y_train, y_pred_t))\n",
    "print(\"RMSE:\", mean_squared_error(y_train, y_pred_t)**0.5)"
   ]
  },
  {
   "cell_type": "code",
   "execution_count": 63,
   "metadata": {},
   "outputs": [
    {
     "name": "stdout",
     "output_type": "stream",
     "text": [
      "rfr On Test Set:\n",
      "R2: 0.8640384138491943\n",
      "MAE: 155.30687622438677\n",
      "RMSE: 250.71491139561184\n",
      "\n",
      "\n",
      "rfr On Train Set:\n",
      "R2: 0.8624752515979218\n",
      "MAE: 152.56851417410965\n",
      "RMSE: 237.89149705847623\n"
     ]
    }
   ],
   "source": [
    "rfr = RandomForestRegressor(n_estimators=1000, max_depth=6, n_jobs=4)\n",
    "rfr.fit(X_train, y_train)\n",
    "y_pred = rfr.predict(X_test)\n",
    "print(\"rfr On Test Set:\")\n",
    "print(\"R2:\", r2_score(y_test, y_pred))\n",
    "print(\"MAE:\", mean_absolute_error(y_test, y_pred))\n",
    "print(\"RMSE:\", mean_squared_error(y_test, y_pred)**0.5)\n",
    "print(\"\\n\")\n",
    "print(\"rfr On Train Set:\")\n",
    "y_pred_t = rfr.predict(X_train)\n",
    "print(\"R2:\", r2_score(y_train, y_pred_t))\n",
    "print(\"MAE:\", mean_absolute_error(y_train, y_pred_t))\n",
    "print(\"RMSE:\", mean_squared_error(y_train, y_pred_t)**0.5)"
   ]
  },
  {
   "cell_type": "code",
   "execution_count": 34,
   "metadata": {},
   "outputs": [
    {
     "name": "stdout",
     "output_type": "stream",
     "text": [
      "rfr On Test Set:\n",
      "R2: 0.8843644285706092\n",
      "MAE: 140.37400816642264\n",
      "RMSE: 231.21594415304895\n",
      "\n",
      "\n",
      "rfr On Train Set:\n",
      "R2: 0.9038352083942\n",
      "MAE: 130.08123969009722\n",
      "RMSE: 198.92828440371628\n"
     ]
    }
   ],
   "source": [
    "y_pred = rfr.predict(X_test)\n",
    "print(\"rfr On Test Set:\")\n",
    "print(\"R2:\", r2_score(y_test, y_pred))\n",
    "print(\"MAE:\", mean_absolute_error(y_test, y_pred))\n",
    "print(\"RMSE:\", mean_squared_error(y_test, y_pred)**0.5)\n",
    "print(\"\\n\")\n",
    "print(\"rfr On Train Set:\")\n",
    "y_pred_t = rfr.predict(X_train)\n",
    "print(\"R2:\", r2_score(y_train, y_pred_t))\n",
    "print(\"MAE:\", mean_absolute_error(y_train, y_pred_t))\n",
    "print(\"RMSE:\", mean_squared_error(y_train, y_pred_t)**0.5)"
   ]
  },
  {
   "cell_type": "code",
   "execution_count": 30,
   "metadata": {},
   "outputs": [
    {
     "name": "stdout",
     "output_type": "stream",
     "text": [
      "svr On Test Set:\n",
      "R2: 0.41497833269179396\n",
      "MAE: 257.3077333123637\n",
      "MSE: 270468.10485040746\n",
      "\n",
      "\n",
      "svr On Train Set:\n",
      "R2: 0.4266329229337835\n",
      "MAE: 244.90816648362159\n",
      "MSE: 235944.43125092195\n"
     ]
    }
   ],
   "source": [
    "svr = SVR()\n",
    "svr.fit(X_train, y_train)\n",
    "y_pred = svr.predict(X_test)\n",
    "print(\"svr On Test Set:\")\n",
    "print(\"R2:\", r2_score(y_test, y_pred))\n",
    "print(\"MAE:\", mean_absolute_error(y_test, y_pred))\n",
    "print(\"MSE:\", mean_squared_error(y_test, y_pred))\n",
    "print(\"\\n\")\n",
    "print(\"svr On Train Set:\")\n",
    "y_pred_t = svr.predict(X_train)\n",
    "print(\"R2:\", r2_score(y_train, y_pred_t))\n",
    "print(\"MAE:\", mean_absolute_error(y_train, y_pred_t))\n",
    "print(\"MSE:\", mean_squared_error(y_train, y_pred_t))"
   ]
  },
  {
   "cell_type": "markdown",
   "metadata": {},
   "source": [
    "Let's do a grid search for the xgbr."
   ]
  },
  {
   "cell_type": "code",
   "execution_count": 17,
   "metadata": {},
   "outputs": [
    {
     "name": "stdout",
     "output_type": "stream",
     "text": [
      "Fitting 3 folds for each of 27 candidates, totalling 81 fits\n",
      "[CV 1/3; 1/27] START booster=gbtree, learning_rate=0.1, max_depth=2, n_estimators=1500[CV 3/3; 1/27] START booster=gbtree, learning_rate=0.1, max_depth=2, n_estimators=1500\n",
      "\n",
      "[CV 2/3; 3/27] START booster=gbtree, learning_rate=0.1, max_depth=2, n_estimators=3000\n",
      "[CV 3/3; 2/27] START booster=gbtree, learning_rate=0.1, max_depth=2, n_estimators=2000\n",
      "[CV 2/3; 2/27] START booster=gbtree, learning_rate=0.1, max_depth=2, n_estimators=2000\n",
      "[CV 1/3; 3/27] START booster=gbtree, learning_rate=0.1, max_depth=2, n_estimators=3000\n",
      "[CV 2/3; 1/27] START booster=gbtree, learning_rate=0.1, max_depth=2, n_estimators=1500\n",
      "[CV 1/3; 2/27] START booster=gbtree, learning_rate=0.1, max_depth=2, n_estimators=2000\n",
      "[CV 2/3; 1/27] END booster=gbtree, learning_rate=0.1, max_depth=2, n_estimators=1500;, score=0.866 total time=  32.0s\n",
      "[CV 3/3; 3/27] START booster=gbtree, learning_rate=0.1, max_depth=2, n_estimators=3000\n",
      "[CV 3/3; 1/27] END booster=gbtree, learning_rate=0.1, max_depth=2, n_estimators=1500;, score=0.856 total time=  33.8s\n",
      "[CV 1/3; 4/27] START booster=gbtree, learning_rate=0.1, max_depth=4, n_estimators=1500\n",
      "[CV 1/3; 1/27] END booster=gbtree, learning_rate=0.1, max_depth=2, n_estimators=1500;, score=0.845 total time=  34.5s\n",
      "[CV 2/3; 4/27] START booster=gbtree, learning_rate=0.1, max_depth=4, n_estimators=1500\n",
      "[CV 1/3; 2/27] END booster=gbtree, learning_rate=0.1, max_depth=2, n_estimators=2000;, score=0.847 total time=  44.1s\n",
      "[CV 3/3; 4/27] START booster=gbtree, learning_rate=0.1, max_depth=4, n_estimators=1500\n",
      "[CV 3/3; 2/27] END booster=gbtree, learning_rate=0.1, max_depth=2, n_estimators=2000;, score=0.857 total time=  45.6s\n",
      "[CV 1/3; 5/27] START booster=gbtree, learning_rate=0.1, max_depth=4, n_estimators=2000\n",
      "[CV 2/3; 2/27] END booster=gbtree, learning_rate=0.1, max_depth=2, n_estimators=2000;, score=0.868 total time=  48.0s\n",
      "[CV 2/3; 5/27] START booster=gbtree, learning_rate=0.1, max_depth=4, n_estimators=2000\n",
      "[CV 1/3; 3/27] END booster=gbtree, learning_rate=0.1, max_depth=2, n_estimators=3000;, score=0.849 total time= 1.3min\n",
      "[CV 3/3; 5/27] START booster=gbtree, learning_rate=0.1, max_depth=4, n_estimators=2000\n",
      "[CV 2/3; 3/27] END booster=gbtree, learning_rate=0.1, max_depth=2, n_estimators=3000;, score=0.870 total time= 1.3min\n",
      "[CV 1/3; 6/27] START booster=gbtree, learning_rate=0.1, max_depth=4, n_estimators=3000\n",
      "[CV 1/3; 4/27] END booster=gbtree, learning_rate=0.1, max_depth=4, n_estimators=1500;, score=0.880 total time= 1.5min\n",
      "[CV 2/3; 6/27] START booster=gbtree, learning_rate=0.1, max_depth=4, n_estimators=3000\n",
      "[CV 3/3; 3/27] END booster=gbtree, learning_rate=0.1, max_depth=2, n_estimators=3000;, score=0.857 total time= 1.7min\n",
      "[CV 3/3; 6/27] START booster=gbtree, learning_rate=0.1, max_depth=4, n_estimators=3000\n",
      "[CV 2/3; 4/27] END booster=gbtree, learning_rate=0.1, max_depth=4, n_estimators=1500;, score=0.896 total time= 1.6min\n",
      "[CV 1/3; 7/27] START booster=gbtree, learning_rate=0.1, max_depth=8, n_estimators=1500\n",
      "[CV 3/3; 4/27] END booster=gbtree, learning_rate=0.1, max_depth=4, n_estimators=1500;, score=0.878 total time= 1.6min\n",
      "[CV 2/3; 7/27] START booster=gbtree, learning_rate=0.1, max_depth=8, n_estimators=1500\n",
      "[CV 2/3; 5/27] END booster=gbtree, learning_rate=0.1, max_depth=4, n_estimators=2000;, score=0.896 total time= 2.0min\n",
      "[CV 3/3; 7/27] START booster=gbtree, learning_rate=0.1, max_depth=8, n_estimators=1500\n",
      "[CV 1/3; 5/27] END booster=gbtree, learning_rate=0.1, max_depth=4, n_estimators=2000;, score=0.881 total time= 2.1min\n",
      "[CV 1/3; 8/27] START booster=gbtree, learning_rate=0.1, max_depth=8, n_estimators=2000\n",
      "[CV 3/3; 5/27] END booster=gbtree, learning_rate=0.1, max_depth=4, n_estimators=2000;, score=0.879 total time= 1.9min\n",
      "[CV 2/3; 8/27] START booster=gbtree, learning_rate=0.1, max_depth=8, n_estimators=2000\n",
      "[CV 1/3; 6/27] END booster=gbtree, learning_rate=0.1, max_depth=4, n_estimators=3000;, score=0.882 total time= 2.7min\n",
      "[CV 3/3; 8/27] START booster=gbtree, learning_rate=0.1, max_depth=8, n_estimators=2000\n",
      "[CV 2/3; 6/27] END booster=gbtree, learning_rate=0.1, max_depth=4, n_estimators=3000;, score=0.897 total time= 2.7min\n",
      "[CV 1/3; 9/27] START booster=gbtree, learning_rate=0.1, max_depth=8, n_estimators=3000\n",
      "[CV 3/3; 6/27] END booster=gbtree, learning_rate=0.1, max_depth=4, n_estimators=3000;, score=0.879 total time= 2.7min\n",
      "[CV 2/3; 9/27] START booster=gbtree, learning_rate=0.1, max_depth=8, n_estimators=3000\n",
      "[CV 1/3; 7/27] END booster=gbtree, learning_rate=0.1, max_depth=8, n_estimators=1500;, score=0.887 total time= 2.9min\n",
      "[CV 3/3; 9/27] START booster=gbtree, learning_rate=0.1, max_depth=8, n_estimators=3000\n",
      "[CV 2/3; 7/27] END booster=gbtree, learning_rate=0.1, max_depth=8, n_estimators=1500;, score=0.897 total time= 3.1min\n",
      "[CV 1/3; 10/27] START booster=gbtree, learning_rate=0.2, max_depth=2, n_estimators=1500\n",
      "[CV 3/3; 7/27] END booster=gbtree, learning_rate=0.1, max_depth=8, n_estimators=1500;, score=0.884 total time= 2.8min\n",
      "[CV 2/3; 10/27] START booster=gbtree, learning_rate=0.2, max_depth=2, n_estimators=1500\n",
      "[CV 1/3; 10/27] END booster=gbtree, learning_rate=0.2, max_depth=2, n_estimators=1500;, score=0.849 total time=  47.5s\n",
      "[CV 3/3; 10/27] START booster=gbtree, learning_rate=0.2, max_depth=2, n_estimators=1500\n",
      "[CV 2/3; 10/27] END booster=gbtree, learning_rate=0.2, max_depth=2, n_estimators=1500;, score=0.870 total time=  51.7s\n",
      "[CV 1/3; 11/27] START booster=gbtree, learning_rate=0.2, max_depth=2, n_estimators=2000\n",
      "[CV 3/3; 10/27] END booster=gbtree, learning_rate=0.2, max_depth=2, n_estimators=1500;, score=0.858 total time=  44.4s\n",
      "[CV 2/3; 11/27] START booster=gbtree, learning_rate=0.2, max_depth=2, n_estimators=2000\n",
      "[CV 1/3; 8/27] END booster=gbtree, learning_rate=0.1, max_depth=8, n_estimators=2000;, score=0.887 total time= 4.3min\n",
      "[CV 3/3; 11/27] START booster=gbtree, learning_rate=0.2, max_depth=2, n_estimators=2000\n",
      "[CV 1/3; 11/27] END booster=gbtree, learning_rate=0.2, max_depth=2, n_estimators=2000;, score=0.849 total time=  56.4s\n",
      "[CV 1/3; 12/27] START booster=gbtree, learning_rate=0.2, max_depth=2, n_estimators=3000\n",
      "[CV 2/3; 8/27] END booster=gbtree, learning_rate=0.1, max_depth=8, n_estimators=2000;, score=0.897 total time= 4.5min\n",
      "[CV 2/3; 12/27] START booster=gbtree, learning_rate=0.2, max_depth=2, n_estimators=3000\n",
      "[CV 2/3; 11/27] END booster=gbtree, learning_rate=0.2, max_depth=2, n_estimators=2000;, score=0.872 total time=  43.9s\n",
      "[CV 3/3; 12/27] START booster=gbtree, learning_rate=0.2, max_depth=2, n_estimators=3000\n",
      "[CV 3/3; 8/27] END booster=gbtree, learning_rate=0.1, max_depth=8, n_estimators=2000;, score=0.884 total time= 3.9min\n",
      "[CV 1/3; 13/27] START booster=gbtree, learning_rate=0.2, max_depth=4, n_estimators=1500\n",
      "[CV 3/3; 11/27] END booster=gbtree, learning_rate=0.2, max_depth=2, n_estimators=2000;, score=0.858 total time=  44.2s\n",
      "[CV 2/3; 13/27] START booster=gbtree, learning_rate=0.2, max_depth=4, n_estimators=1500\n",
      "[CV 1/3; 12/27] END booster=gbtree, learning_rate=0.2, max_depth=2, n_estimators=3000;, score=0.850 total time= 1.3min\n",
      "[CV 3/3; 13/27] START booster=gbtree, learning_rate=0.2, max_depth=4, n_estimators=1500\n",
      "[CV 2/3; 12/27] END booster=gbtree, learning_rate=0.2, max_depth=2, n_estimators=3000;, score=0.873 total time= 1.4min\n",
      "[CV 1/3; 14/27] START booster=gbtree, learning_rate=0.2, max_depth=4, n_estimators=2000\n",
      "[CV 3/3; 12/27] END booster=gbtree, learning_rate=0.2, max_depth=2, n_estimators=3000;, score=0.856 total time= 1.4min\n",
      "[CV 2/3; 14/27] START booster=gbtree, learning_rate=0.2, max_depth=4, n_estimators=2000\n",
      "[CV 1/3; 13/27] END booster=gbtree, learning_rate=0.2, max_depth=4, n_estimators=1500;, score=0.880 total time= 1.4min\n",
      "[CV 3/3; 14/27] START booster=gbtree, learning_rate=0.2, max_depth=4, n_estimators=2000\n",
      "[CV 2/3; 13/27] END booster=gbtree, learning_rate=0.2, max_depth=4, n_estimators=1500;, score=0.895 total time= 1.4min\n",
      "[CV 1/3; 15/27] START booster=gbtree, learning_rate=0.2, max_depth=4, n_estimators=3000\n",
      "[CV 3/3; 13/27] END booster=gbtree, learning_rate=0.2, max_depth=4, n_estimators=1500;, score=0.877 total time= 1.4min\n",
      "[CV 2/3; 15/27] START booster=gbtree, learning_rate=0.2, max_depth=4, n_estimators=3000\n",
      "[CV 1/3; 9/27] END booster=gbtree, learning_rate=0.1, max_depth=8, n_estimators=3000;, score=0.887 total time= 6.0min\n",
      "[CV 3/3; 15/27] START booster=gbtree, learning_rate=0.2, max_depth=4, n_estimators=3000\n",
      "[CV 2/3; 14/27] END booster=gbtree, learning_rate=0.2, max_depth=4, n_estimators=2000;, score=0.894 total time= 1.7min\n",
      "[CV 1/3; 16/27] START booster=gbtree, learning_rate=0.2, max_depth=8, n_estimators=1500\n",
      "[CV 1/3; 14/27] END booster=gbtree, learning_rate=0.2, max_depth=4, n_estimators=2000;, score=0.879 total time= 1.9min\n",
      "[CV 2/3; 16/27] START booster=gbtree, learning_rate=0.2, max_depth=8, n_estimators=1500\n",
      "[CV 2/3; 9/27] END booster=gbtree, learning_rate=0.1, max_depth=8, n_estimators=3000;, score=0.897 total time= 6.1min\n",
      "[CV 3/3; 16/27] START booster=gbtree, learning_rate=0.2, max_depth=8, n_estimators=1500\n",
      "[CV 3/3; 14/27] END booster=gbtree, learning_rate=0.2, max_depth=4, n_estimators=2000;, score=0.877 total time= 1.8min\n",
      "[CV 1/3; 17/27] START booster=gbtree, learning_rate=0.2, max_depth=8, n_estimators=2000\n",
      "[CV 3/3; 9/27] END booster=gbtree, learning_rate=0.1, max_depth=8, n_estimators=3000;, score=0.884 total time= 6.3min\n",
      "[CV 2/3; 17/27] START booster=gbtree, learning_rate=0.2, max_depth=8, n_estimators=2000\n",
      "[CV 1/3; 15/27] END booster=gbtree, learning_rate=0.2, max_depth=4, n_estimators=3000;, score=0.879 total time= 2.7min\n",
      "[CV 3/3; 17/27] START booster=gbtree, learning_rate=0.2, max_depth=8, n_estimators=2000\n",
      "[CV 2/3; 15/27] END booster=gbtree, learning_rate=0.2, max_depth=4, n_estimators=3000;, score=0.894 total time= 2.8min\n",
      "[CV 1/3; 18/27] START booster=gbtree, learning_rate=0.2, max_depth=8, n_estimators=3000\n",
      "[CV 3/3; 15/27] END booster=gbtree, learning_rate=0.2, max_depth=4, n_estimators=3000;, score=0.877 total time= 2.6min\n",
      "[CV 2/3; 18/27] START booster=gbtree, learning_rate=0.2, max_depth=8, n_estimators=3000\n",
      "[CV 1/3; 16/27] END booster=gbtree, learning_rate=0.2, max_depth=8, n_estimators=1500;, score=0.886 total time= 3.1min\n",
      "[CV 3/3; 18/27] START booster=gbtree, learning_rate=0.2, max_depth=8, n_estimators=3000\n",
      "[CV 3/3; 16/27] END booster=gbtree, learning_rate=0.2, max_depth=8, n_estimators=1500;, score=0.881 total time= 3.2min\n",
      "[CV 1/3; 19/27] START booster=gbtree, learning_rate=0.3, max_depth=2, n_estimators=1500\n",
      "[CV 2/3; 16/27] END booster=gbtree, learning_rate=0.2, max_depth=8, n_estimators=1500;, score=0.896 total time= 3.4min\n",
      "[CV 2/3; 19/27] START booster=gbtree, learning_rate=0.3, max_depth=2, n_estimators=1500\n",
      "[CV 1/3; 19/27] END booster=gbtree, learning_rate=0.3, max_depth=2, n_estimators=1500;, score=0.852 total time=  42.8s\n",
      "[CV 3/3; 19/27] START booster=gbtree, learning_rate=0.3, max_depth=2, n_estimators=1500\n",
      "[CV 2/3; 19/27] END booster=gbtree, learning_rate=0.3, max_depth=2, n_estimators=1500;, score=0.871 total time=  43.2s\n",
      "[CV 1/3; 20/27] START booster=gbtree, learning_rate=0.3, max_depth=2, n_estimators=2000\n",
      "[CV 1/3; 17/27] END booster=gbtree, learning_rate=0.2, max_depth=8, n_estimators=2000;, score=0.886 total time= 4.3min\n",
      "[CV 2/3; 20/27] START booster=gbtree, learning_rate=0.3, max_depth=2, n_estimators=2000\n",
      "[CV 2/3; 17/27] END booster=gbtree, learning_rate=0.2, max_depth=8, n_estimators=2000;, score=0.896 total time= 4.1min\n",
      "[CV 3/3; 20/27] START booster=gbtree, learning_rate=0.3, max_depth=2, n_estimators=2000\n",
      "[CV 3/3; 19/27] END booster=gbtree, learning_rate=0.3, max_depth=2, n_estimators=1500;, score=0.859 total time=  47.8s\n",
      "[CV 1/3; 21/27] START booster=gbtree, learning_rate=0.3, max_depth=2, n_estimators=3000\n",
      "[CV 1/3; 20/27] END booster=gbtree, learning_rate=0.3, max_depth=2, n_estimators=2000;, score=0.851 total time=  52.0s\n",
      "[CV 2/3; 21/27] START booster=gbtree, learning_rate=0.3, max_depth=2, n_estimators=3000\n",
      "[CV 3/3; 17/27] END booster=gbtree, learning_rate=0.2, max_depth=8, n_estimators=2000;, score=0.881 total time= 4.0min\n",
      "[CV 3/3; 21/27] START booster=gbtree, learning_rate=0.3, max_depth=2, n_estimators=3000\n",
      "[CV 2/3; 20/27] END booster=gbtree, learning_rate=0.3, max_depth=2, n_estimators=2000;, score=0.872 total time=  47.8s\n",
      "[CV 1/3; 22/27] START booster=gbtree, learning_rate=0.3, max_depth=4, n_estimators=1500\n",
      "[CV 3/3; 20/27] END booster=gbtree, learning_rate=0.3, max_depth=2, n_estimators=2000;, score=0.858 total time=  51.8s\n",
      "[CV 2/3; 22/27] START booster=gbtree, learning_rate=0.3, max_depth=4, n_estimators=1500\n",
      "[CV 1/3; 21/27] END booster=gbtree, learning_rate=0.3, max_depth=2, n_estimators=3000;, score=0.853 total time= 1.4min\n",
      "[CV 3/3; 22/27] START booster=gbtree, learning_rate=0.3, max_depth=4, n_estimators=1500\n",
      "[CV 2/3; 21/27] END booster=gbtree, learning_rate=0.3, max_depth=2, n_estimators=3000;, score=0.872 total time= 1.3min\n",
      "[CV 1/3; 23/27] START booster=gbtree, learning_rate=0.3, max_depth=4, n_estimators=2000\n",
      "[CV 3/3; 21/27] END booster=gbtree, learning_rate=0.3, max_depth=2, n_estimators=3000;, score=0.856 total time= 1.4min\n",
      "[CV 2/3; 23/27] START booster=gbtree, learning_rate=0.3, max_depth=4, n_estimators=2000\n",
      "[CV 1/3; 22/27] END booster=gbtree, learning_rate=0.3, max_depth=4, n_estimators=1500;, score=0.878 total time= 1.4min\n",
      "[CV 3/3; 23/27] START booster=gbtree, learning_rate=0.3, max_depth=4, n_estimators=2000\n",
      "[CV 2/3; 22/27] END booster=gbtree, learning_rate=0.3, max_depth=4, n_estimators=1500;, score=0.894 total time= 1.6min\n",
      "[CV 1/3; 24/27] START booster=gbtree, learning_rate=0.3, max_depth=4, n_estimators=3000\n",
      "[CV 1/3; 18/27] END booster=gbtree, learning_rate=0.2, max_depth=8, n_estimators=3000;, score=0.886 total time= 5.1min\n",
      "[CV 2/3; 24/27] START booster=gbtree, learning_rate=0.3, max_depth=4, n_estimators=3000\n",
      "[CV 3/3; 22/27] END booster=gbtree, learning_rate=0.3, max_depth=4, n_estimators=1500;, score=0.877 total time= 1.4min\n",
      "[CV 3/3; 24/27] START booster=gbtree, learning_rate=0.3, max_depth=4, n_estimators=3000\n",
      "[CV 2/3; 18/27] END booster=gbtree, learning_rate=0.2, max_depth=8, n_estimators=3000;, score=0.896 total time= 5.1min\n",
      "[CV 1/3; 25/27] START booster=gbtree, learning_rate=0.3, max_depth=8, n_estimators=1500\n",
      "[CV 1/3; 23/27] END booster=gbtree, learning_rate=0.3, max_depth=4, n_estimators=2000;, score=0.878 total time= 1.7min\n",
      "[CV 2/3; 25/27] START booster=gbtree, learning_rate=0.3, max_depth=8, n_estimators=1500\n",
      "[CV 3/3; 18/27] END booster=gbtree, learning_rate=0.2, max_depth=8, n_estimators=3000;, score=0.881 total time= 5.2min\n",
      "[CV 3/3; 25/27] START booster=gbtree, learning_rate=0.3, max_depth=8, n_estimators=1500\n",
      "[CV 2/3; 23/27] END booster=gbtree, learning_rate=0.3, max_depth=4, n_estimators=2000;, score=0.894 total time= 1.6min\n",
      "[CV 1/3; 26/27] START booster=gbtree, learning_rate=0.3, max_depth=8, n_estimators=2000\n",
      "[CV 3/3; 23/27] END booster=gbtree, learning_rate=0.3, max_depth=4, n_estimators=2000;, score=0.877 total time= 1.8min\n",
      "[CV 2/3; 26/27] START booster=gbtree, learning_rate=0.3, max_depth=8, n_estimators=2000\n",
      "[CV 2/3; 24/27] END booster=gbtree, learning_rate=0.3, max_depth=4, n_estimators=3000;, score=0.893 total time= 2.7min\n",
      "[CV 3/3; 26/27] START booster=gbtree, learning_rate=0.3, max_depth=8, n_estimators=2000\n",
      "[CV 1/3; 24/27] END booster=gbtree, learning_rate=0.3, max_depth=4, n_estimators=3000;, score=0.878 total time= 2.9min\n",
      "[CV 1/3; 27/27] START booster=gbtree, learning_rate=0.3, max_depth=8, n_estimators=3000\n",
      "[CV 3/3; 24/27] END booster=gbtree, learning_rate=0.3, max_depth=4, n_estimators=3000;, score=0.877 total time= 2.8min\n",
      "[CV 2/3; 27/27] START booster=gbtree, learning_rate=0.3, max_depth=8, n_estimators=3000\n",
      "[CV 1/3; 25/27] END booster=gbtree, learning_rate=0.3, max_depth=8, n_estimators=1500;, score=0.879 total time= 3.2min\n",
      "[CV 3/3; 27/27] START booster=gbtree, learning_rate=0.3, max_depth=8, n_estimators=3000\n",
      "[CV 2/3; 25/27] END booster=gbtree, learning_rate=0.3, max_depth=8, n_estimators=1500;, score=0.901 total time= 3.3min\n",
      "[CV 3/3; 25/27] END booster=gbtree, learning_rate=0.3, max_depth=8, n_estimators=1500;, score=0.880 total time= 3.1min\n",
      "[CV 1/3; 26/27] END booster=gbtree, learning_rate=0.3, max_depth=8, n_estimators=2000;, score=0.879 total time= 3.3min\n",
      "[CV 2/3; 26/27] END booster=gbtree, learning_rate=0.3, max_depth=8, n_estimators=2000;, score=0.901 total time= 3.3min\n",
      "[CV 3/3; 26/27] END booster=gbtree, learning_rate=0.3, max_depth=8, n_estimators=2000;, score=0.880 total time= 2.6min\n",
      "[CV 1/3; 27/27] END booster=gbtree, learning_rate=0.3, max_depth=8, n_estimators=3000;, score=0.879 total time= 2.6min\n",
      "[CV 2/3; 27/27] END booster=gbtree, learning_rate=0.3, max_depth=8, n_estimators=3000;, score=0.901 total time= 2.2min\n",
      "[CV 3/3; 27/27] END booster=gbtree, learning_rate=0.3, max_depth=8, n_estimators=3000;, score=0.880 total time= 1.8min\n"
     ]
    },
    {
     "data": {
      "text/plain": [
       "GridSearchCV(cv=3,\n",
       "             estimator=XGBRegressor(base_score=None, booster=None,\n",
       "                                    colsample_bylevel=None,\n",
       "                                    colsample_bynode=None,\n",
       "                                    colsample_bytree=None,\n",
       "                                    enable_categorical=False, gamma=None,\n",
       "                                    gpu_id=None, importance_type=None,\n",
       "                                    interaction_constraints=None,\n",
       "                                    learning_rate=None, max_delta_step=None,\n",
       "                                    max_depth=None, min_child_weight=None,\n",
       "                                    missing=nan, monotone_constraints=None,\n",
       "                                    n_estimators=100, n_jobs=None,\n",
       "                                    num_parallel_tree=None, predictor=None,\n",
       "                                    random_state=None, reg_alpha=None,\n",
       "                                    reg_lambda=None, scale_pos_weight=None,\n",
       "                                    subsample=None, tree_method=None,\n",
       "                                    validate_parameters=None, verbosity=None),\n",
       "             n_jobs=-1,\n",
       "             param_grid={'booster': ['gbtree'],\n",
       "                         'learning_rate': [0.1, 0.2, 0.3],\n",
       "                         'max_depth': [2, 4, 8],\n",
       "                         'n_estimators': [1500, 2000, 3000]},\n",
       "             verbose=10)"
      ]
     },
     "execution_count": 17,
     "metadata": {},
     "output_type": "execute_result"
    }
   ],
   "source": [
    "from sklearn.model_selection import GridSearchCV\n",
    "params = {\n",
    "    \"n_estimators\": [1500, 2000, 3000],\n",
    "    \"max_depth\": [2, 4, 8],\n",
    "    \"learning_rate\": [0.1,0.2, 0.3],\n",
    "    \"booster\": [\"gbtree\"],\n",
    "}\n",
    "\n",
    "base_model = XGBRegressor()\n",
    "grid_search = GridSearchCV(base_model, params, cv=3, n_jobs=-1, verbose=10)\n",
    "grid_search.fit(X_train, y_train)"
   ]
  },
  {
   "cell_type": "code",
   "execution_count": 18,
   "metadata": {},
   "outputs": [
    {
     "data": {
      "text/plain": [
       "0.8895123915370542"
      ]
     },
     "execution_count": 18,
     "metadata": {},
     "output_type": "execute_result"
    }
   ],
   "source": [
    "grid_search.best_score_"
   ]
  },
  {
   "cell_type": "code",
   "execution_count": 16,
   "metadata": {},
   "outputs": [
    {
     "name": "stdout",
     "output_type": "stream",
     "text": [
      "XGBR On Test Set:\n",
      "R2: 0.9094067675501246\n",
      "MAE: 97.86719559986578\n",
      "MSE: 41883.20067824357\n",
      "\n",
      "\n",
      "XGBR On Train Set:\n",
      "R2: 0.991287236873442\n",
      "MAE: 37.40795654774622\n",
      "MSE: 3585.360971610742\n"
     ]
    }
   ],
   "source": [
    "xgbr = XGBRegressor(learning_rate=0.3, max_depth=4, n_estimators=1000, booster=\"gbtree\")\n",
    "xgbr.fit(X_train, y_train)\n",
    "y_pred = xgbr.predict(X_test)\n",
    "print(\"XGBR On Test Set:\")\n",
    "print(\"R2:\", r2_score(y_test, y_pred))\n",
    "print(\"MAE:\", mean_absolute_error(y_test, y_pred))\n",
    "print(\"MSE:\", mean_squared_error(y_test, y_pred))\n",
    "print(\"\\n\")\n",
    "print(\"XGBR On Train Set:\")\n",
    "y_pred_t = xgbr.predict(X_train)\n",
    "print(\"R2:\", r2_score(y_train, y_pred_t))\n",
    "print(\"MAE:\", mean_absolute_error(y_train, y_pred_t))\n",
    "print(\"MSE:\", mean_squared_error(y_train, y_pred_t))"
   ]
  },
  {
   "cell_type": "code",
   "execution_count": 21,
   "metadata": {},
   "outputs": [
    {
     "name": "stdout",
     "output_type": "stream",
     "text": [
      "XGBR On Test Set:\n",
      "R2: 0.9094067675501246\n",
      "MAE: 97.86719559986578\n",
      "MSE: 41883.20067824357\n",
      "\n",
      "\n",
      "XGBR On Train Set:\n",
      "R2: 0.991287236873442\n",
      "MAE: 37.40795654774622\n",
      "MSE: 3585.360971610742\n"
     ]
    }
   ],
   "source": [
    "import numpy as np\n",
    "y_pred = np.abs(xgbr.predict(X_test))\n",
    "print(\"XGBR On Test Set:\")\n",
    "print(\"R2:\", r2_score(y_test, y_pred))\n",
    "print(\"MAE:\", mean_absolute_error(y_test, y_pred))\n",
    "print(\"MSE:\", mean_squared_error(y_test, y_pred))\n",
    "print(\"\\n\")\n",
    "print(\"XGBR On Train Set:\")\n",
    "y_pred_t = np.abs(xgbr.predict(X_train))\n",
    "print(\"R2:\", r2_score(y_train, y_pred_t))\n",
    "print(\"MAE:\", mean_absolute_error(y_train, y_pred_t))\n",
    "print(\"MSE:\", mean_squared_error(y_train, y_pred_t))"
   ]
  },
  {
   "cell_type": "code",
   "execution_count": 22,
   "metadata": {},
   "outputs": [],
   "source": [
    "preds = xgbr.predict(test)"
   ]
  },
  {
   "cell_type": "code",
   "execution_count": 42,
   "metadata": {},
   "outputs": [],
   "source": [
    "sample = pd.read_csv('data/Sample__submission.csv')"
   ]
  },
  {
   "cell_type": "code",
   "execution_count": 53,
   "metadata": {},
   "outputs": [
    {
     "data": {
      "text/plain": [
       "count    5244.000000\n",
       "mean      691.179944\n",
       "std       596.309156\n",
       "min        16.070312\n",
       "25%       376.417969\n",
       "50%       511.496094\n",
       "75%       688.851562\n",
       "max      7309.648438\n",
       "Name: price1, dtype: float64"
      ]
     },
     "execution_count": 53,
     "metadata": {},
     "output_type": "execute_result"
    }
   ],
   "source": [
    "import numpy as np\n",
    "preds = lr.predict(test)\n",
    "sample['price1'] = np.abs(preds)\n",
    "sample['price1'].describe()"
   ]
  },
  {
   "cell_type": "code",
   "execution_count": 64,
   "metadata": {},
   "outputs": [
    {
     "data": {
      "text/plain": [
       "count    5244.000000\n",
       "mean      677.209561\n",
       "std       536.053291\n",
       "min       225.746408\n",
       "25%       448.070001\n",
       "50%       457.356946\n",
       "75%       603.277634\n",
       "max      3230.266872\n",
       "Name: price1, dtype: float64"
      ]
     },
     "execution_count": 64,
     "metadata": {},
     "output_type": "execute_result"
    }
   ],
   "source": [
    "preds = rfr.predict(test)\n",
    "sample['price1'] = np.abs(preds)\n",
    "sample['price1'].describe()"
   ]
  },
  {
   "cell_type": "code",
   "execution_count": 54,
   "metadata": {},
   "outputs": [],
   "source": [
    "sample.to_csv('data/submission_3.csv', index=False)"
   ]
  },
  {
   "cell_type": "code",
   "execution_count": 28,
   "metadata": {},
   "outputs": [
    {
     "data": {
      "text/plain": [
       "(12584, 27)"
      ]
     },
     "execution_count": 28,
     "metadata": {},
     "output_type": "execute_result"
    }
   ],
   "source": [
    "X_train.shape"
   ]
  }
 ],
 "metadata": {
  "kernelspec": {
   "display_name": "Python 3.7.13 ('data-science')",
   "language": "python",
   "name": "python3"
  },
  "language_info": {
   "codemirror_mode": {
    "name": "ipython",
    "version": 3
   },
   "file_extension": ".py",
   "mimetype": "text/x-python",
   "name": "python",
   "nbconvert_exporter": "python",
   "pygments_lexer": "ipython3",
   "version": "3.7.13"
  },
  "orig_nbformat": 4,
  "vscode": {
   "interpreter": {
    "hash": "2efee1efa502125d01e6b4768ba06d9453d29f3642bfd14ad5d4a769de82e88c"
   }
  }
 },
 "nbformat": 4,
 "nbformat_minor": 2
}
