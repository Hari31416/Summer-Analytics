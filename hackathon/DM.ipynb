{
 "cells": [
  {
   "cell_type": "code",
   "execution_count": 33,
   "metadata": {},
   "outputs": [],
   "source": [
    "import pandas as pd\n",
    "import tensorflow.keras.layers as tfl\n",
    "import tensorflow as tf\n",
    "from tensorflow.keras.models import Sequential, Model\n",
    "\n",
    "from sklearn.compose import ColumnTransformer\n",
    "from sklearn.model_selection import train_test_split\n",
    "from sklearn.preprocessing import LabelEncoder, OneHotEncoder, StandardScaler"
   ]
  },
  {
   "cell_type": "code",
   "execution_count": 34,
   "metadata": {},
   "outputs": [],
   "source": [
    "train = pd.read_csv(\"data/train_prepared.csv\")\n",
    "test = pd.read_csv(\"data/test_prepared.csv\")"
   ]
  },
  {
   "cell_type": "code",
   "execution_count": 35,
   "metadata": {},
   "outputs": [
    {
     "data": {
      "text/plain": [
       "Index(['id', 'Rating', 'maincateg', 'platform', 'price1', 'actprice1',\n",
       "       'norating1', 'noreviews1', 'star_5f', 'star_4f', 'star_3f', 'star_2f',\n",
       "       'star_1f', 'fulfilled1', 'combo', 'category'],\n",
       "      dtype='object')"
      ]
     },
     "execution_count": 35,
     "metadata": {},
     "output_type": "execute_result"
    }
   ],
   "source": [
    "train.columns"
   ]
  },
  {
   "cell_type": "code",
   "execution_count": 36,
   "metadata": {},
   "outputs": [],
   "source": [
    "train.drop(\"id\", axis=1, inplace=True)\n",
    "test_id = test.id\n",
    "test.drop(\"id\", axis=1, inplace=True)\n",
    "\n",
    "X = train.drop([\"price1\"], axis=1)\n",
    "y = train[\"price1\"]\n",
    "assert X.shape[1] == test.shape[1], \"X and test have different number of columns\""
   ]
  },
  {
   "cell_type": "code",
   "execution_count": 37,
   "metadata": {},
   "outputs": [],
   "source": [
    "columns_to_one_hot = [\"maincateg\", \"category\", \"platform\", \"combo\"]\n",
    "columns_to_standardize = [\"actprice1\", 'norating1', 'noreviews1', 'star_5f', \n",
    "    'star_4f', 'star_3f', 'star_2f', 'star_1f',]"
   ]
  },
  {
   "cell_type": "code",
   "execution_count": 38,
   "metadata": {},
   "outputs": [],
   "source": [
    "X_train, X_test, y_train, y_test = train_test_split(X, y, test_size=0.2, random_state=42)"
   ]
  },
  {
   "cell_type": "code",
   "execution_count": 40,
   "metadata": {},
   "outputs": [],
   "source": [
    "label_encoder = LabelEncoder()\n",
    "one_hot_encoder = OneHotEncoder(sparse=False)\n",
    "standardizer = StandardScaler()\n",
    "\n",
    "preprocessor = ColumnTransformer(\n",
    "    [\n",
    "        (\"one_hot_encoder\", one_hot_encoder, columns_to_one_hot),\n",
    "        # (\"standardizer\", standardizer, columns_to_standardize)\n",
    "        ],\n",
    "    remainder=\"passthrough\"\n",
    ")"
   ]
  },
  {
   "cell_type": "code",
   "execution_count": 41,
   "metadata": {},
   "outputs": [],
   "source": [
    "preprocessor.fit(X_train)\n",
    "X_train = preprocessor.transform(X_train)\n",
    "X_test = preprocessor.transform(X_test)\n",
    "test = preprocessor.transform(test)"
   ]
  },
  {
   "cell_type": "code",
   "execution_count": 42,
   "metadata": {},
   "outputs": [],
   "source": [
    "assert X_train.shape[1] == test.shape[1], \"X and test have different number of columns\""
   ]
  },
  {
   "cell_type": "code",
   "execution_count": 43,
   "metadata": {},
   "outputs": [],
   "source": [
    "input_shape = X_test.shape[1]"
   ]
  },
  {
   "cell_type": "code",
   "execution_count": 44,
   "metadata": {},
   "outputs": [
    {
     "name": "stdout",
     "output_type": "stream",
     "text": [
      "Model: \"model_2\"\n",
      "_________________________________________________________________\n",
      " Layer (type)                Output Shape              Param #   \n",
      "=================================================================\n",
      " input_3 (InputLayer)        [(None, 27)]              0         \n",
      "                                                                 \n",
      " dense_13 (Dense)            (None, 256)               7168      \n",
      "                                                                 \n",
      " dense_14 (Dense)            (None, 128)               32896     \n",
      "                                                                 \n",
      " dense_15 (Dense)            (None, 64)                8256      \n",
      "                                                                 \n",
      " dense_16 (Dense)            (None, 32)                2080      \n",
      "                                                                 \n",
      " dense_17 (Dense)            (None, 16)                528       \n",
      "                                                                 \n",
      " dense_18 (Dense)            (None, 8)                 136       \n",
      "                                                                 \n",
      " dense_19 (Dense)            (None, 1)                 9         \n",
      "                                                                 \n",
      "=================================================================\n",
      "Total params: 51,073\n",
      "Trainable params: 51,073\n",
      "Non-trainable params: 0\n",
      "_________________________________________________________________\n"
     ]
    }
   ],
   "source": [
    "input_ = tfl.Input(shape=(input_shape,))\n",
    "x = tfl.Dense(units=256, activation=\"relu\")(input_)\n",
    "x = tfl.Dense(units=128, activation=\"relu\")(x)\n",
    "x = tfl.Dense(units=64, activation=\"relu\")(x)\n",
    "x = tfl.Dense(units=32, activation=\"relu\")(x)\n",
    "x = tfl.Dense(units=16, activation=\"relu\")(x)\n",
    "x = tfl.Dense(units=8, activation=\"relu\")(x)\n",
    "output = tfl.Dense(units=1, activation=\"linear\")(x)\n",
    "model = Model(inputs=input_, outputs=output)\n",
    "model.summary()"
   ]
  },
  {
   "cell_type": "code",
   "execution_count": 45,
   "metadata": {},
   "outputs": [],
   "source": [
    "model.compile(loss=\"mse\", optimizer=\"adam\", metrics=[\"mse\", \"mae\"])"
   ]
  },
  {
   "cell_type": "code",
   "execution_count": 46,
   "metadata": {},
   "outputs": [
    {
     "name": "stdout",
     "output_type": "stream",
     "text": [
      "Epoch 1/20\n",
      "394/394 [==============================] - 12s 19ms/step - loss: 138722.3594 - mse: 138722.3594 - mae: 232.1292 - val_loss: 115599.1484 - val_mse: 115599.1484 - val_mae: 209.2851\n",
      "Epoch 2/20\n",
      "394/394 [==============================] - 6s 16ms/step - loss: 117456.4766 - mse: 117456.4766 - mae: 223.0858 - val_loss: 142779.5625 - val_mse: 142779.5625 - val_mae: 238.4545\n",
      "Epoch 3/20\n",
      "394/394 [==============================] - 4s 9ms/step - loss: 112137.0625 - mse: 112137.0625 - mae: 217.8696 - val_loss: 110814.3906 - val_mse: 110814.3906 - val_mae: 204.1973\n",
      "Epoch 4/20\n",
      "394/394 [==============================] - 4s 10ms/step - loss: 106752.9062 - mse: 106752.9062 - mae: 211.1568 - val_loss: 108026.6406 - val_mse: 108026.6406 - val_mae: 214.3644\n",
      "Epoch 5/20\n",
      "394/394 [==============================] - 4s 10ms/step - loss: 97771.5781 - mse: 97771.5781 - mae: 201.7287 - val_loss: 97976.7031 - val_mse: 97976.7031 - val_mae: 188.3756\n",
      "Epoch 6/20\n",
      "394/394 [==============================] - 4s 10ms/step - loss: 90792.8594 - mse: 90792.8594 - mae: 191.7432 - val_loss: 89251.6953 - val_mse: 89251.6953 - val_mae: 185.2789\n",
      "Epoch 7/20\n",
      "394/394 [==============================] - 4s 9ms/step - loss: 96799.1328 - mse: 96799.1328 - mae: 200.4597 - val_loss: 99909.1172 - val_mse: 99909.1172 - val_mae: 202.8301\n",
      "Epoch 8/20\n",
      "394/394 [==============================] - 4s 9ms/step - loss: 93002.0000 - mse: 93002.0000 - mae: 193.4812 - val_loss: 94304.2266 - val_mse: 94304.2266 - val_mae: 202.2838\n",
      "Epoch 9/20\n",
      "394/394 [==============================] - 4s 10ms/step - loss: 95762.4297 - mse: 95762.4297 - mae: 198.9714 - val_loss: 91095.1797 - val_mse: 91095.1797 - val_mae: 190.2534\n",
      "Epoch 10/20\n",
      "394/394 [==============================] - 4s 10ms/step - loss: 88862.0078 - mse: 88862.0078 - mae: 188.8397 - val_loss: 89968.3828 - val_mse: 89968.3828 - val_mae: 189.3165\n",
      "Epoch 11/20\n",
      "394/394 [==============================] - 4s 9ms/step - loss: 90010.7188 - mse: 90010.7188 - mae: 188.5192 - val_loss: 99733.4141 - val_mse: 99733.4141 - val_mae: 201.9041\n",
      "Epoch 12/20\n",
      "394/394 [==============================] - 4s 10ms/step - loss: 87552.1953 - mse: 87552.1953 - mae: 186.5644 - val_loss: 86066.7500 - val_mse: 86066.7500 - val_mae: 181.1819\n",
      "Epoch 13/20\n",
      "394/394 [==============================] - 4s 10ms/step - loss: 88664.9219 - mse: 88664.9219 - mae: 187.1736 - val_loss: 86970.2422 - val_mse: 86970.2422 - val_mae: 182.8502\n",
      "Epoch 14/20\n",
      "394/394 [==============================] - 4s 9ms/step - loss: 88839.0469 - mse: 88839.0469 - mae: 188.7639 - val_loss: 84884.4375 - val_mse: 84884.4375 - val_mae: 181.6157\n",
      "Epoch 15/20\n",
      "394/394 [==============================] - 4s 9ms/step - loss: 87026.6641 - mse: 87026.6641 - mae: 185.6646 - val_loss: 83815.3750 - val_mse: 83815.3750 - val_mae: 180.4253\n",
      "Epoch 16/20\n",
      "394/394 [==============================] - 4s 10ms/step - loss: 85226.0938 - mse: 85226.0938 - mae: 182.6445 - val_loss: 95129.2344 - val_mse: 95129.2344 - val_mae: 195.2220\n",
      "Epoch 17/20\n",
      "394/394 [==============================] - 4s 10ms/step - loss: 87194.6094 - mse: 87194.6094 - mae: 185.7683 - val_loss: 92263.0781 - val_mse: 92263.0781 - val_mae: 187.0322\n",
      "Epoch 18/20\n",
      "394/394 [==============================] - 4s 10ms/step - loss: 88737.6562 - mse: 88737.6562 - mae: 188.0663 - val_loss: 85401.3906 - val_mse: 85401.3906 - val_mae: 181.1660\n",
      "Epoch 19/20\n",
      "394/394 [==============================] - 4s 11ms/step - loss: 83948.5859 - mse: 83948.5859 - mae: 182.1191 - val_loss: 83753.1172 - val_mse: 83753.1172 - val_mae: 177.1151\n",
      "Epoch 20/20\n",
      "394/394 [==============================] - 4s 10ms/step - loss: 85369.2031 - mse: 85369.2031 - mae: 183.2533 - val_loss: 92144.8438 - val_mse: 92144.8438 - val_mae: 198.1084\n"
     ]
    }
   ],
   "source": [
    "history = model.fit(X_train, y_train, epochs=20, validation_data=(X_test, y_test))"
   ]
  },
  {
   "cell_type": "code",
   "execution_count": 28,
   "metadata": {},
   "outputs": [
    {
     "name": "stdout",
     "output_type": "stream",
     "text": [
      "164/164 [==============================] - 7s 4ms/step\n"
     ]
    },
    {
     "data": {
      "text/plain": [
       "array([416.96716, 315.97168, 493.39142, ..., 432.57184, 260.3942 ,\n",
       "       657.8312 ], dtype=float32)"
      ]
     },
     "execution_count": 28,
     "metadata": {},
     "output_type": "execute_result"
    }
   ],
   "source": [
    "preds = model.predict(test)\n",
    "preds = tf.squeeze(preds).numpy()\n",
    "preds"
   ]
  },
  {
   "cell_type": "code",
   "execution_count": 29,
   "metadata": {},
   "outputs": [],
   "source": [
    "sample = pd.read_csv('data/Sample__submission.csv')"
   ]
  },
  {
   "cell_type": "code",
   "execution_count": 31,
   "metadata": {},
   "outputs": [],
   "source": [
    "sample.price1 = preds\n",
    "sample.to_csv('data/submission_final.csv', index=False)"
   ]
  },
  {
   "cell_type": "code",
   "execution_count": 32,
   "metadata": {},
   "outputs": [
    {
     "name": "stdout",
     "output_type": "stream",
     "text": [
      "Successfully submitted to Final Capstone Project\n"
     ]
    },
    {
     "name": "stderr",
     "output_type": "stream",
     "text": [
      "\n",
      "  0%|          | 0.00/82.3k [00:00<?, ?B/s]\n",
      " 10%|▉         | 8.00k/82.3k [00:00<00:01, 60.3kB/s]\n",
      "100%|██████████| 82.3k/82.3k [00:05<00:00, 14.4kB/s]\n"
     ]
    }
   ],
   "source": [
    "!kaggle competitions submit -c sa2022 -f data/submission_final.csv -m \"\""
   ]
  }
 ],
 "metadata": {
  "kernelspec": {
   "display_name": "Python 3.8.5",
   "language": "python",
   "name": "python3"
  },
  "language_info": {
   "codemirror_mode": {
    "name": "ipython",
    "version": 3
   },
   "file_extension": ".py",
   "mimetype": "text/x-python",
   "name": "python",
   "nbconvert_exporter": "python",
   "pygments_lexer": "ipython3",
   "version": "3.8.5"
  },
  "orig_nbformat": 4,
  "vscode": {
   "interpreter": {
    "hash": "98a06921e42c4ae689d578665f28201be7cad9b45c4149f8887161f1353af971"
   }
  }
 },
 "nbformat": 4,
 "nbformat_minor": 2
}
