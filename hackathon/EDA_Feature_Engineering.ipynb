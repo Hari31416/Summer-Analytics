{
 "cells": [
  {
   "cell_type": "code",
   "execution_count": 18,
   "metadata": {},
   "outputs": [],
   "source": [
    "import pandas as pd\n",
    "import numpy as np\n",
    "import matplotlib.pyplot as plt\n",
    "import seaborn as sns\n",
    "import random\n",
    "import warnings\n",
    "warnings.filterwarnings('ignore')\n",
    "plt.rcdefaults()"
   ]
  },
  {
   "cell_type": "code",
   "execution_count": 19,
   "metadata": {},
   "outputs": [],
   "source": [
    "train_o = pd.read_csv(\"data/train.csv\")\n",
    "test_o = pd.read_csv(\"data/test.csv\")\n",
    "train = train_o.copy()\n",
    "test = test_o.copy()"
   ]
  },
  {
   "cell_type": "code",
   "execution_count": 3,
   "metadata": {},
   "outputs": [
    {
     "name": "stdout",
     "output_type": "stream",
     "text": [
      "<class 'pandas.core.frame.DataFrame'>\n",
      "RangeIndex: 15730 entries, 0 to 15729\n",
      "Data columns (total 16 columns):\n",
      " #   Column      Non-Null Count  Dtype  \n",
      "---  ------      --------------  -----  \n",
      " 0   id          15730 non-null  int64  \n",
      " 1   title       15730 non-null  object \n",
      " 2   Rating      15730 non-null  float64\n",
      " 3   maincateg   15204 non-null  object \n",
      " 4   platform    15730 non-null  object \n",
      " 5   price1      15730 non-null  int64  \n",
      " 6   actprice1   15730 non-null  int64  \n",
      " 7   Offer %     15730 non-null  object \n",
      " 8   norating1   15052 non-null  float64\n",
      " 9   noreviews1  15152 non-null  float64\n",
      " 10  star_5f     15142 non-null  float64\n",
      " 11  star_4f     15191 non-null  float64\n",
      " 12  star_3f     15499 non-null  float64\n",
      " 13  star_2f     15730 non-null  int64  \n",
      " 14  star_1f     15730 non-null  int64  \n",
      " 15  fulfilled1  15730 non-null  int64  \n",
      "dtypes: float64(6), int64(6), object(4)\n",
      "memory usage: 1.9+ MB\n"
     ]
    }
   ],
   "source": [
    "train.info()"
   ]
  },
  {
   "cell_type": "code",
   "execution_count": 4,
   "metadata": {},
   "outputs": [
    {
     "name": "stdout",
     "output_type": "stream",
     "text": [
      "<class 'pandas.core.frame.DataFrame'>\n",
      "RangeIndex: 5244 entries, 0 to 5243\n",
      "Data columns (total 14 columns):\n",
      " #   Column      Non-Null Count  Dtype  \n",
      "---  ------      --------------  -----  \n",
      " 0   id          5244 non-null   int64  \n",
      " 1   title       5244 non-null   object \n",
      " 2   Rating      5041 non-null   float64\n",
      " 3   maincateg   5177 non-null   object \n",
      " 4   platform    5244 non-null   object \n",
      " 5   actprice1   5244 non-null   int64  \n",
      " 6   norating1   5244 non-null   int64  \n",
      " 7   noreviews1  5244 non-null   int64  \n",
      " 8   star_5f     5176 non-null   float64\n",
      " 9   star_4f     5244 non-null   int64  \n",
      " 10  star_3f     5244 non-null   int64  \n",
      " 11  star_2f     5244 non-null   int64  \n",
      " 12  star_1f     5058 non-null   float64\n",
      " 13  fulfilled1  5244 non-null   int64  \n",
      "dtypes: float64(3), int64(8), object(3)\n",
      "memory usage: 573.7+ KB\n"
     ]
    }
   ],
   "source": [
    "test.info()"
   ]
  },
  {
   "cell_type": "code",
   "execution_count": 5,
   "metadata": {},
   "outputs": [
    {
     "data": {
      "text/plain": [
       "(id              0\n",
       " title           0\n",
       " Rating          0\n",
       " maincateg     526\n",
       " platform        0\n",
       " price1          0\n",
       " actprice1       0\n",
       " Offer %         0\n",
       " norating1     678\n",
       " noreviews1    578\n",
       " star_5f       588\n",
       " star_4f       539\n",
       " star_3f       231\n",
       " star_2f         0\n",
       " star_1f         0\n",
       " fulfilled1      0\n",
       " dtype: int64,\n",
       " id              0\n",
       " title           0\n",
       " Rating        203\n",
       " maincateg      67\n",
       " platform        0\n",
       " actprice1       0\n",
       " norating1       0\n",
       " noreviews1      0\n",
       " star_5f        68\n",
       " star_4f         0\n",
       " star_3f         0\n",
       " star_2f         0\n",
       " star_1f       186\n",
       " fulfilled1      0\n",
       " dtype: int64)"
      ]
     },
     "execution_count": 5,
     "metadata": {},
     "output_type": "execute_result"
    }
   ],
   "source": [
    "train.isnull().sum(), test.isnull().sum()"
   ]
  },
  {
   "cell_type": "code",
   "execution_count": null,
   "metadata": {},
   "outputs": [],
   "source": [
    "train[train.columns[7]] = train[train.columns[7]].apply(lambda x: x.split(\"%\")[0]).astype(float)"
   ]
  },
  {
   "cell_type": "markdown",
   "metadata": {},
   "source": [
    "## Title Column"
   ]
  },
  {
   "cell_type": "code",
   "execution_count": 12,
   "metadata": {},
   "outputs": [
    {
     "name": "stdout",
     "output_type": "stream",
     "text": [
      "ABRIO Running Shoes For Men  (Blue)\n",
      "Jutis For Women  (Yellow)\n",
      "Combo of 3 Relax Reflexology Sandals Accupressure Slippers Non-Slip Healthy Flip Flop for Men Flip Flops\n",
      "Rocking Long Boots For Men  (Brown)\n",
      "Classical Formal Full Black/Brown Strong Pure Leather Shoes For Mens/Boys Mojaris For Men  (Brown)\n",
      "Women Black Wedges Sandal\n",
      "Running Shoes For Men  (Yellow)\n",
      "349 Casuals For Men  (Black)\n",
      "Men's Casual Shoes Combo Pack of 02 Sneakers For Men  (Tan, Black)\n",
      "Shoefly Women Combo Pack of 3 Multicolour Latest Collection Loafers Sneakers Shoes (Combo-(3)-1044-993-767)\n"
     ]
    }
   ],
   "source": [
    "for i in range(10):\n",
    "    rand_num = random.randint(0, len(train))\n",
    "    print(train[\"title\"][rand_num])"
   ]
  },
  {
   "cell_type": "markdown",
   "metadata": {},
   "source": [
    "We can't use the `title` column by itself. Instead, we'll be extracting some information from the `title` column that will be used in our model."
   ]
  },
  {
   "cell_type": "code",
   "execution_count": 21,
   "metadata": {},
   "outputs": [],
   "source": [
    "train[\"combo\"] = train[\"title\"].apply(lambda x: \"combo\" in x.lower())\n",
    "test[\"combo\"] = test[\"title\"].apply(lambda x: \"combo\" in x.lower())"
   ]
  },
  {
   "cell_type": "code",
   "execution_count": 41,
   "metadata": {},
   "outputs": [
    {
     "data": {
      "text/plain": [
       "<AxesSubplot:xlabel='combo', ylabel='Offer %'>"
      ]
     },
     "execution_count": 41,
     "metadata": {},
     "output_type": "execute_result"
    },
    {
     "data": {
      "image/png": "[encoded data removed]",
      "text/plain": [
       "<Figure size 640x480 with 1 Axes>"
      ]
     },
     "metadata": {},
     "output_type": "display_data"
    }
   ],
   "source": [
    "sns.boxplot(x=\"combo\", y=r\"Offer %\", data=train)"
   ]
  },
  {
   "cell_type": "code",
   "execution_count": 83,
   "metadata": {},
   "outputs": [],
   "source": [
    "def get_cat(title):\n",
    "    keywords=[\n",
    "    \"sandal\",\n",
    "    \"sneaker\",\n",
    "    \"boot\",\n",
    "    \"shoe\",\n",
    "    \"juti\",\n",
    "    \"casual\",\n",
    "    \"mojaris\",\n",
    "    \"bellie\",\n",
    "    \"flip\",\n",
    "    \"slipper\",\n",
    "    ]\n",
    "    for key in keywords:\n",
    "        if key in title.lower():\n",
    "            return key\n",
    "    return \"other\""
   ]
  },
  {
   "cell_type": "code",
   "execution_count": 92,
   "metadata": {},
   "outputs": [],
   "source": [
    "train[\"category\"] = train[\"title\"].apply(get_cat)\n",
    "test [\"category\"] = test [\"title\"].apply(get_cat)"
   ]
  },
  {
   "cell_type": "code",
   "execution_count": 87,
   "metadata": {},
   "outputs": [
    {
     "data": {
      "image/png": "[encoded data removed]",
      "text/plain": [
       "<Figure size 640x480 with 1 Axes>"
      ]
     },
     "metadata": {},
     "output_type": "display_data"
    }
   ],
   "source": [
    "sns.boxplot(x=\"category\", y=r\"Offer %\", data=train)\n",
    "plt.xticks(rotation=90);"
   ]
  },
  {
   "cell_type": "markdown",
   "metadata": {},
   "source": [
    "## Rating"
   ]
  },
  {
   "cell_type": "code",
   "execution_count": 95,
   "metadata": {},
   "outputs": [
    {
     "data": {
      "text/plain": [
       "0        3.9\n",
       "1        3.8\n",
       "2        4.4\n",
       "3        4.2\n",
       "4        3.9\n",
       "        ... \n",
       "15725    4.3\n",
       "15726    3.9\n",
       "15727    3.7\n",
       "15728    3.9\n",
       "15729    5.0\n",
       "Name: Rating, Length: 15730, dtype: float64"
      ]
     },
     "execution_count": 95,
     "metadata": {},
     "output_type": "execute_result"
    }
   ],
   "source": [
    "train[\"Rating\"]"
   ]
  },
  {
   "cell_type": "markdown",
   "metadata": {},
   "source": [
    "Test set has some null values for the `Rating` column. We'll fill them after we have filled the null values for the star rating columns."
   ]
  },
  {
   "cell_type": "markdown",
   "metadata": {},
   "source": [
    "## maincateg"
   ]
  },
  {
   "cell_type": "code",
   "execution_count": 97,
   "metadata": {},
   "outputs": [
    {
     "data": {
      "text/plain": [
       "Women    8781\n",
       "Men      6423\n",
       "Name: maincateg, dtype: int64"
      ]
     },
     "execution_count": 97,
     "metadata": {},
     "output_type": "execute_result"
    }
   ],
   "source": [
    "train[\"maincateg\"].value_counts()"
   ]
  },
  {
   "cell_type": "code",
   "execution_count": 123,
   "metadata": {},
   "outputs": [],
   "source": [
    "def fill_maincateg(row):\n",
    "    masc = [\"man\", \"boy\", \"men\", \"lad\"]\n",
    "    fam = [\"girl\", \"women\", \"woman\", \"lady\", \"ladies\", \"slipper\"]\n",
    "    title = row[\"title\"]\n",
    "    maincateg = row[\"maincateg\"]\n",
    "    if maincateg is np.nan:\n",
    "        for m in masc:\n",
    "            if m in title.lower():\n",
    "                return \"Men\"\n",
    "        for f in fam:\n",
    "            if f in title.lower():\n",
    "                return \"Women\"\n",
    "        return random.sample([\"Men\", \"Women\"], 1)[0]\n",
    "    return maincateg"
   ]
  },
  {
   "cell_type": "code",
   "execution_count": 124,
   "metadata": {},
   "outputs": [],
   "source": [
    "train[\"maincateg\"] = train.apply(fill_maincateg, axis=1)\n",
    "test[\"maincateg\"] = test.apply(fill_maincateg, axis=1)"
   ]
  },
  {
   "cell_type": "markdown",
   "metadata": {},
   "source": [
    "## norating1, noreview1"
   ]
  },
  {
   "cell_type": "code",
   "execution_count": 127,
   "metadata": {},
   "outputs": [
    {
     "data": {
      "text/html": [
       "<div>\n",
       "<style scoped>\n",
       "    .dataframe tbody tr th:only-of-type {\n",
       "        vertical-align: middle;\n",
       "    }\n",
       "\n",
       "    .dataframe tbody tr th {\n",
       "        vertical-align: top;\n",
       "    }\n",
       "\n",
       "    .dataframe thead th {\n",
       "        text-align: right;\n",
       "    }\n",
       "</style>\n",
       "<table border=\"1\" class=\"dataframe\">\n",
       "  <thead>\n",
       "    <tr style=\"text-align: right;\">\n",
       "      <th></th>\n",
       "      <th>id</th>\n",
       "      <th>title</th>\n",
       "      <th>Rating</th>\n",
       "      <th>maincateg</th>\n",
       "      <th>platform</th>\n",
       "      <th>price1</th>\n",
       "      <th>actprice1</th>\n",
       "      <th>Offer %</th>\n",
       "      <th>norating1</th>\n",
       "      <th>noreviews1</th>\n",
       "      <th>star_5f</th>\n",
       "      <th>star_4f</th>\n",
       "      <th>star_3f</th>\n",
       "      <th>star_2f</th>\n",
       "      <th>star_1f</th>\n",
       "      <th>fulfilled1</th>\n",
       "      <th>combo</th>\n",
       "      <th>category</th>\n",
       "    </tr>\n",
       "  </thead>\n",
       "  <tbody>\n",
       "    <tr>\n",
       "      <th>19</th>\n",
       "      <td>12336</td>\n",
       "      <td>Women Beige Heels Sandal</td>\n",
       "      <td>4.0</td>\n",
       "      <td>Men</td>\n",
       "      <td>Flipkart</td>\n",
       "      <td>499</td>\n",
       "      <td>999</td>\n",
       "      <td>50.05</td>\n",
       "      <td>NaN</td>\n",
       "      <td>NaN</td>\n",
       "      <td>28.0</td>\n",
       "      <td>9.0</td>\n",
       "      <td>10.0</td>\n",
       "      <td>2</td>\n",
       "      <td>5</td>\n",
       "      <td>0</td>\n",
       "      <td>False</td>\n",
       "      <td>sandal</td>\n",
       "    </tr>\n",
       "    <tr>\n",
       "      <th>63</th>\n",
       "      <td>6597</td>\n",
       "      <td>Slides</td>\n",
       "      <td>3.9</td>\n",
       "      <td>Men</td>\n",
       "      <td>Flipkart</td>\n",
       "      <td>300</td>\n",
       "      <td>1500</td>\n",
       "      <td>80.00</td>\n",
       "      <td>NaN</td>\n",
       "      <td>NaN</td>\n",
       "      <td>NaN</td>\n",
       "      <td>NaN</td>\n",
       "      <td>10.0</td>\n",
       "      <td>5</td>\n",
       "      <td>9</td>\n",
       "      <td>1</td>\n",
       "      <td>False</td>\n",
       "      <td>other</td>\n",
       "    </tr>\n",
       "    <tr>\n",
       "      <th>68</th>\n",
       "      <td>5575</td>\n",
       "      <td>Women Copper Flats Sandal</td>\n",
       "      <td>4.1</td>\n",
       "      <td>Men</td>\n",
       "      <td>Flipkart</td>\n",
       "      <td>349</td>\n",
       "      <td>999</td>\n",
       "      <td>65.07</td>\n",
       "      <td>NaN</td>\n",
       "      <td>27.0</td>\n",
       "      <td>NaN</td>\n",
       "      <td>NaN</td>\n",
       "      <td>22.0</td>\n",
       "      <td>5</td>\n",
       "      <td>15</td>\n",
       "      <td>1</td>\n",
       "      <td>False</td>\n",
       "      <td>sandal</td>\n",
       "    </tr>\n",
       "    <tr>\n",
       "      <th>91</th>\n",
       "      <td>4262</td>\n",
       "      <td>Slippers</td>\n",
       "      <td>3.6</td>\n",
       "      <td>Women</td>\n",
       "      <td>Flipkart</td>\n",
       "      <td>213</td>\n",
       "      <td>249</td>\n",
       "      <td>14.46</td>\n",
       "      <td>NaN</td>\n",
       "      <td>NaN</td>\n",
       "      <td>NaN</td>\n",
       "      <td>NaN</td>\n",
       "      <td>466.0</td>\n",
       "      <td>281</td>\n",
       "      <td>476</td>\n",
       "      <td>1</td>\n",
       "      <td>False</td>\n",
       "      <td>slipper</td>\n",
       "    </tr>\n",
       "    <tr>\n",
       "      <th>116</th>\n",
       "      <td>2767</td>\n",
       "      <td>Ace Slip-On Running Shoes For Men  (Black)</td>\n",
       "      <td>4.3</td>\n",
       "      <td>Men</td>\n",
       "      <td>Flipkart</td>\n",
       "      <td>2999</td>\n",
       "      <td>4999</td>\n",
       "      <td>40.01</td>\n",
       "      <td>NaN</td>\n",
       "      <td>NaN</td>\n",
       "      <td>46.0</td>\n",
       "      <td>27.0</td>\n",
       "      <td>5.0</td>\n",
       "      <td>1</td>\n",
       "      <td>5</td>\n",
       "      <td>1</td>\n",
       "      <td>False</td>\n",
       "      <td>shoe</td>\n",
       "    </tr>\n",
       "    <tr>\n",
       "      <th>...</th>\n",
       "      <td>...</td>\n",
       "      <td>...</td>\n",
       "      <td>...</td>\n",
       "      <td>...</td>\n",
       "      <td>...</td>\n",
       "      <td>...</td>\n",
       "      <td>...</td>\n",
       "      <td>...</td>\n",
       "      <td>...</td>\n",
       "      <td>...</td>\n",
       "      <td>...</td>\n",
       "      <td>...</td>\n",
       "      <td>...</td>\n",
       "      <td>...</td>\n",
       "      <td>...</td>\n",
       "      <td>...</td>\n",
       "      <td>...</td>\n",
       "      <td>...</td>\n",
       "    </tr>\n",
       "    <tr>\n",
       "      <th>15583</th>\n",
       "      <td>11224</td>\n",
       "      <td>Jutis For Men  (Black)</td>\n",
       "      <td>3.7</td>\n",
       "      <td>Men</td>\n",
       "      <td>Flipkart</td>\n",
       "      <td>494</td>\n",
       "      <td>499</td>\n",
       "      <td>1.00</td>\n",
       "      <td>NaN</td>\n",
       "      <td>NaN</td>\n",
       "      <td>22.0</td>\n",
       "      <td>NaN</td>\n",
       "      <td>4.0</td>\n",
       "      <td>4</td>\n",
       "      <td>8</td>\n",
       "      <td>0</td>\n",
       "      <td>False</td>\n",
       "      <td>juti</td>\n",
       "    </tr>\n",
       "    <tr>\n",
       "      <th>15606</th>\n",
       "      <td>19633</td>\n",
       "      <td>Men Blue Clogs Sandal</td>\n",
       "      <td>3.8</td>\n",
       "      <td>Men</td>\n",
       "      <td>Flipkart</td>\n",
       "      <td>292</td>\n",
       "      <td>1249</td>\n",
       "      <td>76.62</td>\n",
       "      <td>NaN</td>\n",
       "      <td>NaN</td>\n",
       "      <td>NaN</td>\n",
       "      <td>123.0</td>\n",
       "      <td>81.0</td>\n",
       "      <td>29</td>\n",
       "      <td>66</td>\n",
       "      <td>1</td>\n",
       "      <td>False</td>\n",
       "      <td>sandal</td>\n",
       "    </tr>\n",
       "    <tr>\n",
       "      <th>15674</th>\n",
       "      <td>7209</td>\n",
       "      <td>Zod Runner V3 Wn s IDP Running Shoes For Women...</td>\n",
       "      <td>4.3</td>\n",
       "      <td>Men</td>\n",
       "      <td>Flipkart</td>\n",
       "      <td>1699</td>\n",
       "      <td>3999</td>\n",
       "      <td>57.51</td>\n",
       "      <td>NaN</td>\n",
       "      <td>NaN</td>\n",
       "      <td>NaN</td>\n",
       "      <td>NaN</td>\n",
       "      <td>268.0</td>\n",
       "      <td>102</td>\n",
       "      <td>140</td>\n",
       "      <td>1</td>\n",
       "      <td>False</td>\n",
       "      <td>shoe</td>\n",
       "    </tr>\n",
       "    <tr>\n",
       "      <th>15709</th>\n",
       "      <td>14826</td>\n",
       "      <td>Enzo Beta Wn's Basketball Shoes For Women  (Br...</td>\n",
       "      <td>3.9</td>\n",
       "      <td>Men</td>\n",
       "      <td>Flipkart</td>\n",
       "      <td>1701</td>\n",
       "      <td>5499</td>\n",
       "      <td>69.07</td>\n",
       "      <td>NaN</td>\n",
       "      <td>NaN</td>\n",
       "      <td>NaN</td>\n",
       "      <td>NaN</td>\n",
       "      <td>6.0</td>\n",
       "      <td>2</td>\n",
       "      <td>10</td>\n",
       "      <td>1</td>\n",
       "      <td>False</td>\n",
       "      <td>shoe</td>\n",
       "    </tr>\n",
       "    <tr>\n",
       "      <th>15727</th>\n",
       "      <td>6733</td>\n",
       "      <td>Women Navy Flats Sandal</td>\n",
       "      <td>3.7</td>\n",
       "      <td>Women</td>\n",
       "      <td>Flipkart</td>\n",
       "      <td>329</td>\n",
       "      <td>499</td>\n",
       "      <td>34.07</td>\n",
       "      <td>NaN</td>\n",
       "      <td>18.0</td>\n",
       "      <td>NaN</td>\n",
       "      <td>NaN</td>\n",
       "      <td>20.0</td>\n",
       "      <td>10</td>\n",
       "      <td>15</td>\n",
       "      <td>1</td>\n",
       "      <td>False</td>\n",
       "      <td>sandal</td>\n",
       "    </tr>\n",
       "  </tbody>\n",
       "</table>\n",
       "<p>678 rows × 18 columns</p>\n",
       "</div>"
      ],
      "text/plain": [
       "          id                                              title  Rating  \\\n",
       "19     12336                           Women Beige Heels Sandal     4.0   \n",
       "63      6597                                             Slides     3.9   \n",
       "68      5575                          Women Copper Flats Sandal     4.1   \n",
       "91      4262                                           Slippers     3.6   \n",
       "116     2767         Ace Slip-On Running Shoes For Men  (Black)     4.3   \n",
       "...      ...                                                ...     ...   \n",
       "15583  11224                             Jutis For Men  (Black)     3.7   \n",
       "15606  19633                              Men Blue Clogs Sandal     3.8   \n",
       "15674   7209  Zod Runner V3 Wn s IDP Running Shoes For Women...     4.3   \n",
       "15709  14826  Enzo Beta Wn's Basketball Shoes For Women  (Br...     3.9   \n",
       "15727   6733                            Women Navy Flats Sandal     3.7   \n",
       "\n",
       "      maincateg  platform  price1  actprice1  Offer %  norating1  noreviews1  \\\n",
       "19          Men  Flipkart     499        999    50.05        NaN         NaN   \n",
       "63          Men  Flipkart     300       1500    80.00        NaN         NaN   \n",
       "68          Men  Flipkart     349        999    65.07        NaN        27.0   \n",
       "91        Women  Flipkart     213        249    14.46        NaN         NaN   \n",
       "116         Men  Flipkart    2999       4999    40.01        NaN         NaN   \n",
       "...         ...       ...     ...        ...      ...        ...         ...   \n",
       "15583       Men  Flipkart     494        499     1.00        NaN         NaN   \n",
       "15606       Men  Flipkart     292       1249    76.62        NaN         NaN   \n",
       "15674       Men  Flipkart    1699       3999    57.51        NaN         NaN   \n",
       "15709       Men  Flipkart    1701       5499    69.07        NaN         NaN   \n",
       "15727     Women  Flipkart     329        499    34.07        NaN        18.0   \n",
       "\n",
       "       star_5f  star_4f  star_3f  star_2f  star_1f  fulfilled1  combo category  \n",
       "19        28.0      9.0     10.0        2        5           0  False   sandal  \n",
       "63         NaN      NaN     10.0        5        9           1  False    other  \n",
       "68         NaN      NaN     22.0        5       15           1  False   sandal  \n",
       "91         NaN      NaN    466.0      281      476           1  False  slipper  \n",
       "116       46.0     27.0      5.0        1        5           1  False     shoe  \n",
       "...        ...      ...      ...      ...      ...         ...    ...      ...  \n",
       "15583     22.0      NaN      4.0        4        8           0  False     juti  \n",
       "15606      NaN    123.0     81.0       29       66           1  False   sandal  \n",
       "15674      NaN      NaN    268.0      102      140           1  False     shoe  \n",
       "15709      NaN      NaN      6.0        2       10           1  False     shoe  \n",
       "15727      NaN      NaN     20.0       10       15           1  False   sandal  \n",
       "\n",
       "[678 rows x 18 columns]"
      ]
     },
     "execution_count": 127,
     "metadata": {},
     "output_type": "execute_result"
    }
   ],
   "source": [
    "train[train[\"norating1\"].isna()]"
   ]
  },
  {
   "cell_type": "markdown",
   "metadata": {},
   "source": [
    "We'll assume that the null values of `norating1` are 0."
   ]
  },
  {
   "cell_type": "code",
   "execution_count": 129,
   "metadata": {},
   "outputs": [],
   "source": [
    "train[\"norating1\"].fillna(0, inplace=True)\n",
    "test[\"norating1\"].fillna(0, inplace=True)\n",
    "train[\"noreviews1\"].fillna(0, inplace=True)\n",
    "test[\"noreviews1\"].fillna(0, inplace=True)"
   ]
  },
  {
   "cell_type": "markdown",
   "metadata": {},
   "source": [
    "## Star Ratings"
   ]
  },
  {
   "cell_type": "code",
   "execution_count": 132,
   "metadata": {},
   "outputs": [
    {
     "data": {
      "text/html": [
       "<div>\n",
       "<style scoped>\n",
       "    .dataframe tbody tr th:only-of-type {\n",
       "        vertical-align: middle;\n",
       "    }\n",
       "\n",
       "    .dataframe tbody tr th {\n",
       "        vertical-align: top;\n",
       "    }\n",
       "\n",
       "    .dataframe thead th {\n",
       "        text-align: right;\n",
       "    }\n",
       "</style>\n",
       "<table border=\"1\" class=\"dataframe\">\n",
       "  <thead>\n",
       "    <tr style=\"text-align: right;\">\n",
       "      <th></th>\n",
       "      <th>0</th>\n",
       "      <th>1</th>\n",
       "      <th>2</th>\n",
       "      <th>3</th>\n",
       "      <th>4</th>\n",
       "    </tr>\n",
       "  </thead>\n",
       "  <tbody>\n",
       "    <tr>\n",
       "      <th>id</th>\n",
       "      <td>16695</td>\n",
       "      <td>5120</td>\n",
       "      <td>18391</td>\n",
       "      <td>495</td>\n",
       "      <td>16408</td>\n",
       "    </tr>\n",
       "    <tr>\n",
       "      <th>title</th>\n",
       "      <td>Fashionable &amp; Comfortable Bellies For Women  (...</td>\n",
       "      <td>Combo Pack of 4 Casual Shoes Sneakers For Men ...</td>\n",
       "      <td>Cilia Mode Leo Sneakers For Women  (White)</td>\n",
       "      <td>Men Black Sports Sandal</td>\n",
       "      <td>Men Green Sports Sandal</td>\n",
       "    </tr>\n",
       "    <tr>\n",
       "      <th>Rating</th>\n",
       "      <td>3.9</td>\n",
       "      <td>3.8</td>\n",
       "      <td>4.4</td>\n",
       "      <td>4.2</td>\n",
       "      <td>3.9</td>\n",
       "    </tr>\n",
       "    <tr>\n",
       "      <th>maincateg</th>\n",
       "      <td>Women</td>\n",
       "      <td>Men</td>\n",
       "      <td>Women</td>\n",
       "      <td>Men</td>\n",
       "      <td>Men</td>\n",
       "    </tr>\n",
       "    <tr>\n",
       "      <th>platform</th>\n",
       "      <td>Flipkart</td>\n",
       "      <td>Flipkart</td>\n",
       "      <td>Flipkart</td>\n",
       "      <td>Flipkart</td>\n",
       "      <td>Flipkart</td>\n",
       "    </tr>\n",
       "    <tr>\n",
       "      <th>price1</th>\n",
       "      <td>698</td>\n",
       "      <td>999</td>\n",
       "      <td>2749</td>\n",
       "      <td>518</td>\n",
       "      <td>1379</td>\n",
       "    </tr>\n",
       "    <tr>\n",
       "      <th>actprice1</th>\n",
       "      <td>999</td>\n",
       "      <td>1999</td>\n",
       "      <td>4999</td>\n",
       "      <td>724</td>\n",
       "      <td>2299</td>\n",
       "    </tr>\n",
       "    <tr>\n",
       "      <th>Offer %</th>\n",
       "      <td>30.13</td>\n",
       "      <td>50.03</td>\n",
       "      <td>45.01</td>\n",
       "      <td>15.85</td>\n",
       "      <td>40.02</td>\n",
       "    </tr>\n",
       "    <tr>\n",
       "      <th>norating1</th>\n",
       "      <td>38</td>\n",
       "      <td>531</td>\n",
       "      <td>17</td>\n",
       "      <td>46413</td>\n",
       "      <td>77</td>\n",
       "    </tr>\n",
       "    <tr>\n",
       "      <th>noreviews1</th>\n",
       "      <td>7</td>\n",
       "      <td>69</td>\n",
       "      <td>4</td>\n",
       "      <td>6229</td>\n",
       "      <td>3</td>\n",
       "    </tr>\n",
       "    <tr>\n",
       "      <th>star_5f</th>\n",
       "      <td>17</td>\n",
       "      <td>264</td>\n",
       "      <td>11</td>\n",
       "      <td>1045</td>\n",
       "      <td>35</td>\n",
       "    </tr>\n",
       "    <tr>\n",
       "      <th>star_4f</th>\n",
       "      <td>9</td>\n",
       "      <td>92</td>\n",
       "      <td>3</td>\n",
       "      <td>12416</td>\n",
       "      <td>21</td>\n",
       "    </tr>\n",
       "    <tr>\n",
       "      <th>star_3f</th>\n",
       "      <td>6</td>\n",
       "      <td>73</td>\n",
       "      <td>2</td>\n",
       "      <td>5352</td>\n",
       "      <td>7</td>\n",
       "    </tr>\n",
       "    <tr>\n",
       "      <th>star_2f</th>\n",
       "      <td>3</td>\n",
       "      <td>29</td>\n",
       "      <td>1</td>\n",
       "      <td>701</td>\n",
       "      <td>7</td>\n",
       "    </tr>\n",
       "    <tr>\n",
       "      <th>star_1f</th>\n",
       "      <td>3</td>\n",
       "      <td>73</td>\n",
       "      <td>0</td>\n",
       "      <td>4595</td>\n",
       "      <td>7</td>\n",
       "    </tr>\n",
       "    <tr>\n",
       "      <th>fulfilled1</th>\n",
       "      <td>0</td>\n",
       "      <td>1</td>\n",
       "      <td>1</td>\n",
       "      <td>1</td>\n",
       "      <td>1</td>\n",
       "    </tr>\n",
       "    <tr>\n",
       "      <th>combo</th>\n",
       "      <td>False</td>\n",
       "      <td>True</td>\n",
       "      <td>False</td>\n",
       "      <td>False</td>\n",
       "      <td>False</td>\n",
       "    </tr>\n",
       "    <tr>\n",
       "      <th>category</th>\n",
       "      <td>bellie</td>\n",
       "      <td>sneaker</td>\n",
       "      <td>sneaker</td>\n",
       "      <td>sandal</td>\n",
       "      <td>sandal</td>\n",
       "    </tr>\n",
       "  </tbody>\n",
       "</table>\n",
       "</div>"
      ],
      "text/plain": [
       "                                                            0  \\\n",
       "id                                                      16695   \n",
       "title       Fashionable & Comfortable Bellies For Women  (...   \n",
       "Rating                                                    3.9   \n",
       "maincateg                                               Women   \n",
       "platform                                             Flipkart   \n",
       "price1                                                    698   \n",
       "actprice1                                                 999   \n",
       "Offer %                                                 30.13   \n",
       "norating1                                                  38   \n",
       "noreviews1                                                  7   \n",
       "star_5f                                                    17   \n",
       "star_4f                                                     9   \n",
       "star_3f                                                     6   \n",
       "star_2f                                                     3   \n",
       "star_1f                                                     3   \n",
       "fulfilled1                                                  0   \n",
       "combo                                                   False   \n",
       "category                                               bellie   \n",
       "\n",
       "                                                            1  \\\n",
       "id                                                       5120   \n",
       "title       Combo Pack of 4 Casual Shoes Sneakers For Men ...   \n",
       "Rating                                                    3.8   \n",
       "maincateg                                                 Men   \n",
       "platform                                             Flipkart   \n",
       "price1                                                    999   \n",
       "actprice1                                                1999   \n",
       "Offer %                                                 50.03   \n",
       "norating1                                                 531   \n",
       "noreviews1                                                 69   \n",
       "star_5f                                                   264   \n",
       "star_4f                                                    92   \n",
       "star_3f                                                    73   \n",
       "star_2f                                                    29   \n",
       "star_1f                                                    73   \n",
       "fulfilled1                                                  1   \n",
       "combo                                                    True   \n",
       "category                                              sneaker   \n",
       "\n",
       "                                                     2  \\\n",
       "id                                               18391   \n",
       "title       Cilia Mode Leo Sneakers For Women  (White)   \n",
       "Rating                                             4.4   \n",
       "maincateg                                        Women   \n",
       "platform                                      Flipkart   \n",
       "price1                                            2749   \n",
       "actprice1                                         4999   \n",
       "Offer %                                          45.01   \n",
       "norating1                                           17   \n",
       "noreviews1                                           4   \n",
       "star_5f                                             11   \n",
       "star_4f                                              3   \n",
       "star_3f                                              2   \n",
       "star_2f                                              1   \n",
       "star_1f                                              0   \n",
       "fulfilled1                                           1   \n",
       "combo                                            False   \n",
       "category                                       sneaker   \n",
       "\n",
       "                                  3                        4  \n",
       "id                              495                    16408  \n",
       "title       Men Black Sports Sandal  Men Green Sports Sandal  \n",
       "Rating                          4.2                      3.9  \n",
       "maincateg                       Men                      Men  \n",
       "platform                   Flipkart                 Flipkart  \n",
       "price1                          518                     1379  \n",
       "actprice1                       724                     2299  \n",
       "Offer %                       15.85                    40.02  \n",
       "norating1                     46413                       77  \n",
       "noreviews1                     6229                        3  \n",
       "star_5f                        1045                       35  \n",
       "star_4f                       12416                       21  \n",
       "star_3f                        5352                        7  \n",
       "star_2f                         701                        7  \n",
       "star_1f                        4595                        7  \n",
       "fulfilled1                        1                        1  \n",
       "combo                         False                    False  \n",
       "category                     sandal                   sandal  "
      ]
     },
     "execution_count": 132,
     "metadata": {},
     "output_type": "execute_result"
    }
   ],
   "source": [
    "train[train[\"star_5f\"].notna()].head().T"
   ]
  },
  {
   "cell_type": "code",
   "execution_count": 131,
   "metadata": {},
   "outputs": [
    {
     "data": {
      "text/html": [
       "<div>\n",
       "<style scoped>\n",
       "    .dataframe tbody tr th:only-of-type {\n",
       "        vertical-align: middle;\n",
       "    }\n",
       "\n",
       "    .dataframe tbody tr th {\n",
       "        vertical-align: top;\n",
       "    }\n",
       "\n",
       "    .dataframe thead th {\n",
       "        text-align: right;\n",
       "    }\n",
       "</style>\n",
       "<table border=\"1\" class=\"dataframe\">\n",
       "  <thead>\n",
       "    <tr style=\"text-align: right;\">\n",
       "      <th></th>\n",
       "      <th>63</th>\n",
       "      <th>68</th>\n",
       "      <th>91</th>\n",
       "      <th>131</th>\n",
       "      <th>164</th>\n",
       "    </tr>\n",
       "  </thead>\n",
       "  <tbody>\n",
       "    <tr>\n",
       "      <th>id</th>\n",
       "      <td>6597</td>\n",
       "      <td>5575</td>\n",
       "      <td>4262</td>\n",
       "      <td>16618</td>\n",
       "      <td>15117</td>\n",
       "    </tr>\n",
       "    <tr>\n",
       "      <th>title</th>\n",
       "      <td>Slides</td>\n",
       "      <td>Women Copper Flats Sandal</td>\n",
       "      <td>Slippers</td>\n",
       "      <td>FUZOR B Running Shoes For Men  (Black)</td>\n",
       "      <td>Women Off White Wedges Sandal</td>\n",
       "    </tr>\n",
       "    <tr>\n",
       "      <th>Rating</th>\n",
       "      <td>3.9</td>\n",
       "      <td>4.1</td>\n",
       "      <td>3.6</td>\n",
       "      <td>4.2</td>\n",
       "      <td>3.8</td>\n",
       "    </tr>\n",
       "    <tr>\n",
       "      <th>maincateg</th>\n",
       "      <td>Men</td>\n",
       "      <td>Men</td>\n",
       "      <td>Women</td>\n",
       "      <td>Men</td>\n",
       "      <td>Women</td>\n",
       "    </tr>\n",
       "    <tr>\n",
       "      <th>platform</th>\n",
       "      <td>Flipkart</td>\n",
       "      <td>Flipkart</td>\n",
       "      <td>Flipkart</td>\n",
       "      <td>Flipkart</td>\n",
       "      <td>Flipkart</td>\n",
       "    </tr>\n",
       "    <tr>\n",
       "      <th>price1</th>\n",
       "      <td>300</td>\n",
       "      <td>349</td>\n",
       "      <td>213</td>\n",
       "      <td>2165</td>\n",
       "      <td>437</td>\n",
       "    </tr>\n",
       "    <tr>\n",
       "      <th>actprice1</th>\n",
       "      <td>1500</td>\n",
       "      <td>999</td>\n",
       "      <td>249</td>\n",
       "      <td>3799</td>\n",
       "      <td>999</td>\n",
       "    </tr>\n",
       "    <tr>\n",
       "      <th>Offer %</th>\n",
       "      <td>80</td>\n",
       "      <td>65.07</td>\n",
       "      <td>14.46</td>\n",
       "      <td>43.01</td>\n",
       "      <td>56.26</td>\n",
       "    </tr>\n",
       "    <tr>\n",
       "      <th>norating1</th>\n",
       "      <td>0</td>\n",
       "      <td>0</td>\n",
       "      <td>0</td>\n",
       "      <td>0</td>\n",
       "      <td>0</td>\n",
       "    </tr>\n",
       "    <tr>\n",
       "      <th>noreviews1</th>\n",
       "      <td>0</td>\n",
       "      <td>27</td>\n",
       "      <td>0</td>\n",
       "      <td>0</td>\n",
       "      <td>2</td>\n",
       "    </tr>\n",
       "    <tr>\n",
       "      <th>star_5f</th>\n",
       "      <td>NaN</td>\n",
       "      <td>NaN</td>\n",
       "      <td>NaN</td>\n",
       "      <td>NaN</td>\n",
       "      <td>NaN</td>\n",
       "    </tr>\n",
       "    <tr>\n",
       "      <th>star_4f</th>\n",
       "      <td>NaN</td>\n",
       "      <td>NaN</td>\n",
       "      <td>NaN</td>\n",
       "      <td>NaN</td>\n",
       "      <td>NaN</td>\n",
       "    </tr>\n",
       "    <tr>\n",
       "      <th>star_3f</th>\n",
       "      <td>10</td>\n",
       "      <td>22</td>\n",
       "      <td>466</td>\n",
       "      <td>114</td>\n",
       "      <td>5</td>\n",
       "    </tr>\n",
       "    <tr>\n",
       "      <th>star_2f</th>\n",
       "      <td>5</td>\n",
       "      <td>5</td>\n",
       "      <td>281</td>\n",
       "      <td>38</td>\n",
       "      <td>1</td>\n",
       "    </tr>\n",
       "    <tr>\n",
       "      <th>star_1f</th>\n",
       "      <td>9</td>\n",
       "      <td>15</td>\n",
       "      <td>476</td>\n",
       "      <td>73</td>\n",
       "      <td>0</td>\n",
       "    </tr>\n",
       "    <tr>\n",
       "      <th>fulfilled1</th>\n",
       "      <td>1</td>\n",
       "      <td>1</td>\n",
       "      <td>1</td>\n",
       "      <td>1</td>\n",
       "      <td>0</td>\n",
       "    </tr>\n",
       "    <tr>\n",
       "      <th>combo</th>\n",
       "      <td>False</td>\n",
       "      <td>False</td>\n",
       "      <td>False</td>\n",
       "      <td>False</td>\n",
       "      <td>False</td>\n",
       "    </tr>\n",
       "    <tr>\n",
       "      <th>category</th>\n",
       "      <td>other</td>\n",
       "      <td>sandal</td>\n",
       "      <td>slipper</td>\n",
       "      <td>shoe</td>\n",
       "      <td>sandal</td>\n",
       "    </tr>\n",
       "  </tbody>\n",
       "</table>\n",
       "</div>"
      ],
      "text/plain": [
       "                 63                         68        91   \\\n",
       "id              6597                       5575      4262   \n",
       "title         Slides  Women Copper Flats Sandal  Slippers   \n",
       "Rating           3.9                        4.1       3.6   \n",
       "maincateg        Men                        Men     Women   \n",
       "platform    Flipkart                   Flipkart  Flipkart   \n",
       "price1           300                        349       213   \n",
       "actprice1       1500                        999       249   \n",
       "Offer %           80                      65.07     14.46   \n",
       "norating1          0                          0         0   \n",
       "noreviews1         0                         27         0   \n",
       "star_5f          NaN                        NaN       NaN   \n",
       "star_4f          NaN                        NaN       NaN   \n",
       "star_3f           10                         22       466   \n",
       "star_2f            5                          5       281   \n",
       "star_1f            9                         15       476   \n",
       "fulfilled1         1                          1         1   \n",
       "combo          False                      False     False   \n",
       "category       other                     sandal   slipper   \n",
       "\n",
       "                                               131  \\\n",
       "id                                           16618   \n",
       "title       FUZOR B Running Shoes For Men  (Black)   \n",
       "Rating                                         4.2   \n",
       "maincateg                                      Men   \n",
       "platform                                  Flipkart   \n",
       "price1                                        2165   \n",
       "actprice1                                     3799   \n",
       "Offer %                                      43.01   \n",
       "norating1                                        0   \n",
       "noreviews1                                       0   \n",
       "star_5f                                        NaN   \n",
       "star_4f                                        NaN   \n",
       "star_3f                                        114   \n",
       "star_2f                                         38   \n",
       "star_1f                                         73   \n",
       "fulfilled1                                       1   \n",
       "combo                                        False   \n",
       "category                                      shoe   \n",
       "\n",
       "                                      164  \n",
       "id                                  15117  \n",
       "title       Women Off White Wedges Sandal  \n",
       "Rating                                3.8  \n",
       "maincateg                           Women  \n",
       "platform                         Flipkart  \n",
       "price1                                437  \n",
       "actprice1                             999  \n",
       "Offer %                             56.26  \n",
       "norating1                               0  \n",
       "noreviews1                              2  \n",
       "star_5f                               NaN  \n",
       "star_4f                               NaN  \n",
       "star_3f                                 5  \n",
       "star_2f                                 1  \n",
       "star_1f                                 0  \n",
       "fulfilled1                              0  \n",
       "combo                               False  \n",
       "category                           sandal  "
      ]
     },
     "execution_count": 131,
     "metadata": {},
     "output_type": "execute_result"
    }
   ],
   "source": [
    "train[train[\"star_5f\"].isna()].head().T"
   ]
  },
  {
   "cell_type": "markdown",
   "metadata": {},
   "source": [
    "Here is the strategy we'll use to fill in the null values of the star rating columns:\n",
    "1. Fill the `star_1f` with 0.\n",
    "2. Fill the `star_2f` as 1/3 of the `star_1f` or 0.\n",
    "3. Fill the `star_3f` the sum of the `star_1f` and `star_2f` or 0.\n",
    "4. Fill the `star_4f` as the sum of the `star_1f`, `star_2f`, and `star_3f` or 0.\n",
    "5. Fill the `star_5f` as the sum of the `star_1f`, `star_2f`, `star_3f`, and `star_4f` or 0."
   ]
  },
  {
   "cell_type": "code",
   "execution_count": 134,
   "metadata": {},
   "outputs": [],
   "source": [
    "train[\"star_1f\"].fillna(0, inplace=True)\n",
    "test[\"star_1f\"].fillna(0, inplace=True)"
   ]
  },
  {
   "cell_type": "code",
   "execution_count": 135,
   "metadata": {},
   "outputs": [],
   "source": [
    "def fill_star2(row):\n",
    "    if row[\"star_2f\"] is np.nan:\n",
    "        return int(1/3 * row[\"star_1f\"])\n",
    "    return row[\"star_2f\"]"
   ]
  },
  {
   "cell_type": "code",
   "execution_count": 140,
   "metadata": {},
   "outputs": [],
   "source": [
    "train[\"star_2f\"] = train.apply(fill_star2, axis=1)\n",
    "test[\"star_2f\"] = test.apply(fill_star2, axis=1)"
   ]
  },
  {
   "cell_type": "code",
   "execution_count": 154,
   "metadata": {},
   "outputs": [],
   "source": [
    "none_value = train[train[\"star_3f\"].isna()][\"star_3f\"][38]"
   ]
  },
  {
   "cell_type": "code",
   "execution_count": 160,
   "metadata": {},
   "outputs": [
    {
     "data": {
      "text/plain": [
       "'nan'"
      ]
     },
     "execution_count": 160,
     "metadata": {},
     "output_type": "execute_result"
    }
   ],
   "source": [
    "str(none_value)"
   ]
  },
  {
   "cell_type": "code",
   "execution_count": 161,
   "metadata": {},
   "outputs": [
    {
     "data": {
      "text/plain": [
       "True"
      ]
     },
     "execution_count": 161,
     "metadata": {},
     "output_type": "execute_result"
    }
   ],
   "source": [
    "str(train[train[\"star_3f\"].isna()][\"star_3f\"][328]) == str(none_value)"
   ]
  },
  {
   "cell_type": "code",
   "execution_count": 162,
   "metadata": {},
   "outputs": [],
   "source": [
    "def fill_star3(row):\n",
    "    if str(row[\"star_3f\"]) == str(none_value):\n",
    "        return row[\"star_2f\"]+row[\"star_1f\"]\n",
    "    return row[\"star_3f\"]\n",
    "def fill_star4(row):\n",
    "    if str(row[\"star_4f\"]) == str(none_value):\n",
    "        return row[\"star_3f\"]+row[\"star_2f\"]+row[\"star_1f\"]\n",
    "    return row[\"star_4f\"]\n",
    "def fill_star5(row):\n",
    "    if str(row[\"star_5f\"]) == str(none_value):\n",
    "        return row[\"star_4f\"]+row[\"star_3f\"]+row[\"star_2f\"]+row[\"star_1f\"]\n",
    "    return row[\"star_5f\"]"
   ]
  },
  {
   "cell_type": "code",
   "execution_count": 164,
   "metadata": {},
   "outputs": [],
   "source": [
    "train[\"star_3f\"] = train.apply(fill_star3, axis=1)\n",
    "test[\"star_3f\"] = test.apply(fill_star3, axis=1)\n",
    "\n",
    "train[\"star_4f\"] = train.apply(fill_star4, axis=1)\n",
    "test[\"star_4f\"] = test.apply(fill_star4, axis=1)\n",
    "\n",
    "train[\"star_5f\"] = train.apply(fill_star5, axis=1)\n",
    "test[\"star_5f\"] = test.apply(fill_star5, axis=1)"
   ]
  },
  {
   "cell_type": "code",
   "execution_count": 173,
   "metadata": {},
   "outputs": [
    {
     "data": {
      "text/plain": [
       "(id            0\n",
       " title         0\n",
       " Rating        0\n",
       " maincateg     0\n",
       " platform      0\n",
       " price1        0\n",
       " actprice1     0\n",
       " Offer %       0\n",
       " norating1     0\n",
       " noreviews1    0\n",
       " star_5f       0\n",
       " star_4f       0\n",
       " star_3f       0\n",
       " star_2f       0\n",
       " star_1f       0\n",
       " fulfilled1    0\n",
       " combo         0\n",
       " category      0\n",
       " dtype: int64,\n",
       " id              0\n",
       " title           0\n",
       " Rating        203\n",
       " maincateg       0\n",
       " platform        0\n",
       " actprice1       0\n",
       " norating1       0\n",
       " noreviews1      0\n",
       " star_5f         0\n",
       " star_4f         0\n",
       " star_3f         0\n",
       " star_2f         0\n",
       " star_1f         0\n",
       " fulfilled1      0\n",
       " combo           0\n",
       " category        0\n",
       " dtype: int64)"
      ]
     },
     "execution_count": 173,
     "metadata": {},
     "output_type": "execute_result"
    }
   ],
   "source": [
    "train.isna().sum(), test.isna().sum()"
   ]
  },
  {
   "cell_type": "markdown",
   "metadata": {},
   "source": [
    "Now let's fill the null values of `Rating` column as promised by using the star ratings."
   ]
  },
  {
   "cell_type": "code",
   "execution_count": 181,
   "metadata": {},
   "outputs": [],
   "source": [
    "def get_rating(row):\n",
    "    if str(row[\"Rating\"]) == \"nan\":    \n",
    "        one_star = row[\"star_1f\"]\n",
    "        two_star = row[\"star_2f\"]\n",
    "        three_star = row[\"star_3f\"]\n",
    "        four_star = row[\"star_4f\"]\n",
    "        five_star = row[\"star_5f\"]\n",
    "        all_rating = one_star+two_star+three_star+four_star+five_star\n",
    "        if all_rating == 0:\n",
    "            return 0\n",
    "        rating = (one_star+2*two_star+3*three_star+4*four_star+5*five_star)/all_rating\n",
    "        assert rating >= 0 and rating <= 5\n",
    "        return round(rating, 1)\n",
    "    return row[\"Rating\"]\n",
    "    "
   ]
  },
  {
   "cell_type": "code",
   "execution_count": 185,
   "metadata": {},
   "outputs": [],
   "source": [
    "test[\"Rating\"] = test.apply(get_rating, axis=1)"
   ]
  },
  {
   "cell_type": "markdown",
   "metadata": {},
   "source": [
    "# Finalizing the Data"
   ]
  },
  {
   "cell_type": "code",
   "execution_count": 188,
   "metadata": {},
   "outputs": [
    {
     "data": {
      "text/plain": [
       "(Index(['id', 'title', 'Rating', 'maincateg', 'platform', 'price1', 'actprice1',\n",
       "        'Offer %', 'norating1', 'noreviews1', 'star_5f', 'star_4f', 'star_3f',\n",
       "        'star_2f', 'star_1f', 'fulfilled1', 'combo', 'category'],\n",
       "       dtype='object'),\n",
       " Index(['id', 'title', 'Rating', 'maincateg', 'platform', 'actprice1',\n",
       "        'norating1', 'noreviews1', 'star_5f', 'star_4f', 'star_3f', 'star_2f',\n",
       "        'star_1f', 'fulfilled1', 'combo', 'category'],\n",
       "       dtype='object'))"
      ]
     },
     "execution_count": 188,
     "metadata": {},
     "output_type": "execute_result"
    }
   ],
   "source": [
    "train.columns, test.columns"
   ]
  },
  {
   "cell_type": "code",
   "execution_count": 189,
   "metadata": {},
   "outputs": [],
   "source": [
    "train.drop([\"title\", r\"Offer %\"], axis=1, inplace=True)\n",
    "test.drop([\"title\"], axis=1, inplace=True)"
   ]
  },
  {
   "cell_type": "code",
   "execution_count": 192,
   "metadata": {},
   "outputs": [],
   "source": [
    "train.to_csv(\"train_prepared.csv\", index=False)\n",
    "test.to_csv(\"test_prepared.csv\", index=False)"
   ]
  }
 ],
 "metadata": {
  "kernelspec": {
   "display_name": "Python 3.8.5",
   "language": "python",
   "name": "python3"
  },
  "language_info": {
   "codemirror_mode": {
    "name": "ipython",
    "version": 3
   },
   "file_extension": ".py",
   "mimetype": "text/x-python",
   "name": "python",
   "nbconvert_exporter": "python",
   "pygments_lexer": "ipython3",
   "version": "3.8.5"
  },
  "orig_nbformat": 4,
  "vscode": {
   "interpreter": {
    "hash": "98a06921e42c4ae689d578665f28201be7cad9b45c4149f8887161f1353af971"
   }
  }
 },
 "nbformat": 4,
 "nbformat_minor": 2
}
