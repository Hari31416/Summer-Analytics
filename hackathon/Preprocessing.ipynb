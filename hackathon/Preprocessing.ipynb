{
 "cells": [
  {
   "cell_type": "markdown",
   "metadata": {},
   "source": [
    "# Imports"
   ]
  },
  {
   "cell_type": "code",
   "execution_count": 9,
   "metadata": {},
   "outputs": [],
   "source": [
    "import pandas as pd\n",
    "import numpy as np\n",
    "import matplotlib.pyplot as plt\n",
    "import seaborn as sns\n",
    "\n",
    "import zipfile\n",
    "\n",
    "plt.rcdefaults()"
   ]
  },
  {
   "cell_type": "markdown",
   "metadata": {},
   "source": [
    "# Loading Data"
   ]
  },
  {
   "cell_type": "markdown",
   "metadata": {},
   "source": [
    "## Downloading Data"
   ]
  },
  {
   "cell_type": "code",
   "execution_count": 2,
   "metadata": {},
   "outputs": [
    {
     "name": "stdout",
     "output_type": "stream",
     "text": [
      "Downloading sa2022.zip to c:\\Users\\harik\\Desktop\\Summer-Analytics\\hackathon"
     ]
    },
    {
     "name": "stderr",
     "output_type": "stream",
     "text": [
      "\n",
      "  0%|          | 0.00/675k [00:00<?, ?B/s]\n",
      "100%|██████████| 675k/675k [00:01<00:00, 401kB/s]\n",
      "100%|██████████| 675k/675k [00:01<00:00, 401kB/s]\n"
     ]
    },
    {
     "name": "stdout",
     "output_type": "stream",
     "text": [
      "\n",
      "\n"
     ]
    }
   ],
   "source": [
    "!kaggle competitions download -c sa2022"
   ]
  },
  {
   "cell_type": "markdown",
   "metadata": {},
   "source": [
    "## Extracting Data"
   ]
  },
  {
   "cell_type": "code",
   "execution_count": 3,
   "metadata": {},
   "outputs": [],
   "source": [
    "with open('sa2022.zip', 'rb') as f:\n",
    "    z = zipfile.ZipFile(f)\n",
    "    z.extractall(\"data\")\n",
    "    z.close()"
   ]
  },
  {
   "cell_type": "markdown",
   "metadata": {},
   "source": [
    "## The Data"
   ]
  },
  {
   "cell_type": "code",
   "execution_count": 4,
   "metadata": {},
   "outputs": [],
   "source": [
    "train = pd.read_csv('data/train.csv')\n",
    "test = pd.read_csv('data/test.csv')"
   ]
  },
  {
   "cell_type": "markdown",
   "metadata": {},
   "source": [
    "## Preliminary Analysis"
   ]
  },
  {
   "cell_type": "code",
   "execution_count": 5,
   "metadata": {},
   "outputs": [
    {
     "data": {
      "text/html": [
       "<div>\n",
       "<style scoped>\n",
       "    .dataframe tbody tr th:only-of-type {\n",
       "        vertical-align: middle;\n",
       "    }\n",
       "\n",
       "    .dataframe tbody tr th {\n",
       "        vertical-align: top;\n",
       "    }\n",
       "\n",
       "    .dataframe thead th {\n",
       "        text-align: right;\n",
       "    }\n",
       "</style>\n",
       "<table border=\"1\" class=\"dataframe\">\n",
       "  <thead>\n",
       "    <tr style=\"text-align: right;\">\n",
       "      <th></th>\n",
       "      <th>id</th>\n",
       "      <th>title</th>\n",
       "      <th>Rating</th>\n",
       "      <th>maincateg</th>\n",
       "      <th>platform</th>\n",
       "      <th>price1</th>\n",
       "      <th>actprice1</th>\n",
       "      <th>Offer %</th>\n",
       "      <th>norating1</th>\n",
       "      <th>noreviews1</th>\n",
       "      <th>star_5f</th>\n",
       "      <th>star_4f</th>\n",
       "      <th>star_3f</th>\n",
       "      <th>star_2f</th>\n",
       "      <th>star_1f</th>\n",
       "      <th>fulfilled1</th>\n",
       "    </tr>\n",
       "  </thead>\n",
       "  <tbody>\n",
       "    <tr>\n",
       "      <th>0</th>\n",
       "      <td>16695</td>\n",
       "      <td>Fashionable &amp; Comfortable Bellies For Women  (...</td>\n",
       "      <td>3.9</td>\n",
       "      <td>Women</td>\n",
       "      <td>Flipkart</td>\n",
       "      <td>698</td>\n",
       "      <td>999</td>\n",
       "      <td>30.13%</td>\n",
       "      <td>38.0</td>\n",
       "      <td>7.0</td>\n",
       "      <td>17.0</td>\n",
       "      <td>9.0</td>\n",
       "      <td>6.0</td>\n",
       "      <td>3</td>\n",
       "      <td>3</td>\n",
       "      <td>0</td>\n",
       "    </tr>\n",
       "    <tr>\n",
       "      <th>1</th>\n",
       "      <td>5120</td>\n",
       "      <td>Combo Pack of 4 Casual Shoes Sneakers For Men ...</td>\n",
       "      <td>3.8</td>\n",
       "      <td>Men</td>\n",
       "      <td>Flipkart</td>\n",
       "      <td>999</td>\n",
       "      <td>1999</td>\n",
       "      <td>50.03%</td>\n",
       "      <td>531.0</td>\n",
       "      <td>69.0</td>\n",
       "      <td>264.0</td>\n",
       "      <td>92.0</td>\n",
       "      <td>73.0</td>\n",
       "      <td>29</td>\n",
       "      <td>73</td>\n",
       "      <td>1</td>\n",
       "    </tr>\n",
       "    <tr>\n",
       "      <th>2</th>\n",
       "      <td>18391</td>\n",
       "      <td>Cilia Mode Leo Sneakers For Women  (White)</td>\n",
       "      <td>4.4</td>\n",
       "      <td>Women</td>\n",
       "      <td>Flipkart</td>\n",
       "      <td>2749</td>\n",
       "      <td>4999</td>\n",
       "      <td>45.01%</td>\n",
       "      <td>17.0</td>\n",
       "      <td>4.0</td>\n",
       "      <td>11.0</td>\n",
       "      <td>3.0</td>\n",
       "      <td>2.0</td>\n",
       "      <td>1</td>\n",
       "      <td>0</td>\n",
       "      <td>1</td>\n",
       "    </tr>\n",
       "    <tr>\n",
       "      <th>3</th>\n",
       "      <td>495</td>\n",
       "      <td>Men Black Sports Sandal</td>\n",
       "      <td>4.2</td>\n",
       "      <td>Men</td>\n",
       "      <td>Flipkart</td>\n",
       "      <td>518</td>\n",
       "      <td>724</td>\n",
       "      <td>15.85%</td>\n",
       "      <td>46413.0</td>\n",
       "      <td>6229.0</td>\n",
       "      <td>1045.0</td>\n",
       "      <td>12416.0</td>\n",
       "      <td>5352.0</td>\n",
       "      <td>701</td>\n",
       "      <td>4595</td>\n",
       "      <td>1</td>\n",
       "    </tr>\n",
       "    <tr>\n",
       "      <th>4</th>\n",
       "      <td>16408</td>\n",
       "      <td>Men Green Sports Sandal</td>\n",
       "      <td>3.9</td>\n",
       "      <td>Men</td>\n",
       "      <td>Flipkart</td>\n",
       "      <td>1379</td>\n",
       "      <td>2299</td>\n",
       "      <td>40.02%</td>\n",
       "      <td>77.0</td>\n",
       "      <td>3.0</td>\n",
       "      <td>35.0</td>\n",
       "      <td>21.0</td>\n",
       "      <td>7.0</td>\n",
       "      <td>7</td>\n",
       "      <td>7</td>\n",
       "      <td>1</td>\n",
       "    </tr>\n",
       "  </tbody>\n",
       "</table>\n",
       "</div>"
      ],
      "text/plain": [
       "      id                                              title  Rating maincateg  \\\n",
       "0  16695  Fashionable & Comfortable Bellies For Women  (...     3.9     Women   \n",
       "1   5120  Combo Pack of 4 Casual Shoes Sneakers For Men ...     3.8       Men   \n",
       "2  18391         Cilia Mode Leo Sneakers For Women  (White)     4.4     Women   \n",
       "3    495                            Men Black Sports Sandal     4.2       Men   \n",
       "4  16408                            Men Green Sports Sandal     3.9       Men   \n",
       "\n",
       "   platform  price1  actprice1 Offer %  norating1  noreviews1  star_5f  \\\n",
       "0  Flipkart     698        999  30.13%       38.0         7.0     17.0   \n",
       "1  Flipkart     999       1999  50.03%      531.0        69.0    264.0   \n",
       "2  Flipkart    2749       4999  45.01%       17.0         4.0     11.0   \n",
       "3  Flipkart     518        724  15.85%    46413.0      6229.0   1045.0   \n",
       "4  Flipkart    1379       2299  40.02%       77.0         3.0     35.0   \n",
       "\n",
       "   star_4f  star_3f  star_2f  star_1f  fulfilled1  \n",
       "0      9.0      6.0        3        3           0  \n",
       "1     92.0     73.0       29       73           1  \n",
       "2      3.0      2.0        1        0           1  \n",
       "3  12416.0   5352.0      701     4595           1  \n",
       "4     21.0      7.0        7        7           1  "
      ]
     },
     "execution_count": 5,
     "metadata": {},
     "output_type": "execute_result"
    }
   ],
   "source": [
    "train.head()"
   ]
  },
  {
   "cell_type": "code",
   "execution_count": 18,
   "metadata": {},
   "outputs": [
    {
     "data": {
      "image/png": "[encoded data removed]",
      "text/plain": [
       "<Figure size 640x480 with 1 Axes>"
      ]
     },
     "metadata": {},
     "output_type": "display_data"
    }
   ],
   "source": [
    "corr = train.corr()[\"price1\"].sort_values(ascending=False)[1:]\n",
    "sns.barplot(y=corr.values, x=corr.index)\n",
    "plt.xticks(rotation=90);"
   ]
  },
  {
   "cell_type": "code",
   "execution_count": 19,
   "metadata": {},
   "outputs": [
    {
     "data": {
      "text/plain": [
       "id              0\n",
       "title           0\n",
       "Rating          0\n",
       "maincateg     526\n",
       "platform        0\n",
       "price1          0\n",
       "actprice1       0\n",
       "Offer %         0\n",
       "norating1     678\n",
       "noreviews1    578\n",
       "star_5f       588\n",
       "star_4f       539\n",
       "star_3f       231\n",
       "star_2f         0\n",
       "star_1f         0\n",
       "fulfilled1      0\n",
       "dtype: int64"
      ]
     },
     "execution_count": 19,
     "metadata": {},
     "output_type": "execute_result"
    }
   ],
   "source": [
    "train.isna().sum()"
   ]
  },
  {
   "cell_type": "code",
   "execution_count": 21,
   "metadata": {},
   "outputs": [],
   "source": [
    "from sklearn.preprocessing import LabelEncoder\n",
    "import xgboost as xgb"
   ]
  },
  {
   "cell_type": "code",
   "execution_count": 86,
   "metadata": {},
   "outputs": [],
   "source": [
    "\n",
    "class FeatureImputor:\n",
    "    def __init__(self, df, features=None, max_unique_to_drop=15):\n",
    "        self.df = self._read_data(df)\n",
    "\n",
    "        self.features = features\n",
    "        self.length = len(self.df)\n",
    "        self.max_unique_to_drop = max_unique_to_drop\n",
    "        self.all_features = self.df.columns\n",
    "        if features is None:\n",
    "            self.features = self.all_features\n",
    "        self._some_details()\n",
    "        self.model = None\n",
    "        self.le = LabelEncoder()\n",
    "    def _read_data(self, df):\n",
    "        if isinstance(df, str):\n",
    "            return pd.read_csv(df)\n",
    "        elif isinstance(df, pd.DataFrame):\n",
    "            return df\n",
    "\n",
    "    def _some_details(self):\n",
    "        num_unique_values = {}\n",
    "        missing_values = {}\n",
    "        for feature in self.all_features:\n",
    "            num_unique_values[feature] = self.df[feature].nunique()\n",
    "            missing_values[feature] = self.df[feature].isna().sum()\n",
    "        self.num_unique_values = num_unique_values\n",
    "        self.missing_values = missing_values\n",
    "        self.col_dtypes = self.df.dtypes\n",
    "\n",
    "    def _drop_features(self, col):\n",
    "        cols_to_drop = [col]\n",
    "        max_unique = self.max_unique_to_drop\n",
    "        for column in self.all_features:\n",
    "            col_is_object = self.col_dtypes[column] == \"object\"\n",
    "            if (self.num_unique_values[column] > max_unique) and col_is_object:\n",
    "                cols_to_drop.append(column)\n",
    "        return cols_to_drop\n",
    "\n",
    "    def _create_train_pred_dataset(self, col):\n",
    "        cols_to_drop = self._drop_features(col)\n",
    "        original_target = self.df[col]\n",
    "        df_to_train = self.df[self.df[col].notna()]\n",
    "        df_to_predict = self.df[self.df[col].isna()]\n",
    "        target = df_to_train[col]\n",
    "       \n",
    "        df_to_train = df_to_train.drop(cols_to_drop, axis=1)\n",
    "        df_to_predict = df_to_predict.drop(cols_to_drop, axis=1)\n",
    "        df_to_predict_index = df_to_predict.index.values\n",
    "        self.df_to_train = df_to_train\n",
    "        self.df_to_predict = df_to_predict\n",
    "        self.df_to_predict_index = df_to_predict_index\n",
    "        self.target = target\n",
    "        self.original_target = original_target\n",
    "\n",
    "    def _create_dummy(self):\n",
    "        self.df_to_train = pd.get_dummies(self.df_to_train, drop_first=True)\n",
    "        self.df_to_predict = pd.get_dummies(self.df_to_predict, drop_first=True)\n",
    "\n",
    "    def _label_target(self, target):\n",
    "        if self.col_dtypes[target]==\"object\":\n",
    "            self.target = self.le.fit_transform(self.target)\n",
    "        else:\n",
    "            self.target = self.target\n",
    "        # return self.target\n",
    "    def _check_columns(self):\n",
    "        train_cols = self.df_to_train.columns\n",
    "        predict_cols = self.df_to_predict.columns\n",
    "        # if len(train_cols) != len(predict_cols):\n",
    "            # print(\"Colimns Mismatch. Adjusting...\")\n",
    "        if len(train_cols) > len(predict_cols):\n",
    "            self.df_to_predict = self.df_to_predict.reindex(columns=train_cols)\n",
    "        elif len(train_cols) < len(predict_cols):\n",
    "            self.df_to_train = self.df_to_train.reindex(columns=predict_cols)\n",
    "\n",
    "    def _predict(self, target):\n",
    "        dtype = self.col_dtypes[target]\n",
    "        self._check_columns()\n",
    "        if dtype != \"object\":\n",
    "            # print(\"Using XGBoostRegressor\")\n",
    "            self.model = xgb.XGBRFRegressor(n_estimators=100, max_depth=5, learning_rate=0.1)\n",
    "            decode=False\n",
    "        else:\n",
    "            # print(\"Using XGBoostClassifier\")\n",
    "            self.model = xgb.XGBClassifier(n_estimators=100, max_depth=5, learning_rate=0.1)\n",
    "            decode=True\n",
    "\n",
    "        self.model.fit(self.df_to_train, self.target)\n",
    "        # print(\"Fitted!\")\n",
    "        preds = self.model.predict(self.df_to_predict)\n",
    "        if decode:\n",
    "            preds = self.le.inverse_transform(preds)\n",
    "        self.preds = preds\n",
    "        return preds\n",
    "\n",
    "    def _fill_missing_values(self, col):\n",
    "        original_target_copy = self.original_target.copy()\n",
    "        original_target_copy.iloc[self.df_to_predict_index] = self.preds\n",
    "        self.df[col] = original_target_copy\n",
    "        return self.df\n",
    "    \n",
    "    def _impute_one(self, col):\n",
    "        print(f\"Filling {self.missing_values[col]} missing values in {col}!\")\n",
    "        self._create_train_pred_dataset(col=col)\n",
    "        # print(\"Creating dummy variables\")\n",
    "        self._create_dummy()\n",
    "        # print(\"Labeling target\")\n",
    "        self._label_target(col)\n",
    "        # print(\"Predicting\")\n",
    "        self._predict(col)\n",
    "        # print(\"Filling missing values\")\n",
    "        self._fill_missing_values(col)\n",
    "        \n",
    "        return self.df\n",
    "    \n",
    "    def impute(self, file_path = \"\"):\n",
    "        cols = self.features\n",
    "        for col in cols:\n",
    "            if self.missing_values[col] <= 0:\n",
    "                continue\n",
    "            if (self.max_unique_to_drop < self.num_unique_values[col]) and (self.col_dtypes[col] == \"object\"):\n",
    "                print(\"Column: \", col, \" has too many unique values. Skipping...\")\n",
    "                continue\n",
    "            self.df = self._impute_one(col)\n",
    "        if file_path:\n",
    "            self.df.to_csv(file_path, index=False)\n",
    "        return self.df"
   ]
  },
  {
   "cell_type": "code",
   "execution_count": 102,
   "metadata": {},
   "outputs": [],
   "source": [
    "train = pd.read_csv(\"data/train.csv\")\n",
    "test = pd.read_csv(\"data/test.csv\")\n",
    "train_without_target = train.drop([\"price1\"], axis=1)"
   ]
  },
  {
   "cell_type": "code",
   "execution_count": 103,
   "metadata": {},
   "outputs": [
    {
     "name": "stdout",
     "output_type": "stream",
     "text": [
      "Filling 526 missing values in maincateg!\n",
      "Filling 678 missing values in norating1!\n",
      "Filling 578 missing values in noreviews1!\n",
      "Filling 588 missing values in star_5f!\n",
      "Filling 539 missing values in star_4f!\n",
      "Filling 231 missing values in star_3f!\n"
     ]
    }
   ],
   "source": [
    "imputor = FeatureImputor(train_without_target)\n",
    "df2 = imputor.impute()"
   ]
  },
  {
   "cell_type": "code",
   "execution_count": 104,
   "metadata": {},
   "outputs": [],
   "source": [
    "df2 = pd.concat([df2, train[\"price1\"]], axis=1)"
   ]
  },
  {
   "cell_type": "code",
   "execution_count": 105,
   "metadata": {},
   "outputs": [
    {
     "data": {
      "text/plain": [
       "id            0\n",
       "title         0\n",
       "Rating        0\n",
       "maincateg     0\n",
       "platform      0\n",
       "actprice1     0\n",
       "Offer %       0\n",
       "norating1     0\n",
       "noreviews1    0\n",
       "star_5f       0\n",
       "star_4f       0\n",
       "star_3f       0\n",
       "star_2f       0\n",
       "star_1f       0\n",
       "fulfilled1    0\n",
       "price1        0\n",
       "dtype: int64"
      ]
     },
     "execution_count": 105,
     "metadata": {},
     "output_type": "execute_result"
    }
   ],
   "source": [
    "df2.isna().sum()"
   ]
  },
  {
   "cell_type": "code",
   "execution_count": 106,
   "metadata": {},
   "outputs": [],
   "source": [
    "df2.to_csv(\"data/train_imputed.csv\", index=False)"
   ]
  },
  {
   "cell_type": "code",
   "execution_count": 96,
   "metadata": {},
   "outputs": [
    {
     "name": "stdout",
     "output_type": "stream",
     "text": [
      "Filling 203 missing values in Rating!\n",
      "Filling 67 missing values in maincateg!\n",
      "Filling 68 missing values in star_5f!\n",
      "Filling 186 missing values in star_1f!\n"
     ]
    }
   ],
   "source": [
    "imputor = FeatureImputor('data/test.csv')\n",
    "df2 = imputor.impute(\"data/test_imputed.csv\")"
   ]
  },
  {
   "cell_type": "code",
   "execution_count": 97,
   "metadata": {},
   "outputs": [
    {
     "data": {
      "text/plain": [
       "id            0\n",
       "title         0\n",
       "Rating        0\n",
       "maincateg     0\n",
       "platform      0\n",
       "actprice1     0\n",
       "norating1     0\n",
       "noreviews1    0\n",
       "star_5f       0\n",
       "star_4f       0\n",
       "star_3f       0\n",
       "star_2f       0\n",
       "star_1f       0\n",
       "fulfilled1    0\n",
       "dtype: int64"
      ]
     },
     "execution_count": 97,
     "metadata": {},
     "output_type": "execute_result"
    }
   ],
   "source": [
    "df2.isna().sum()"
   ]
  },
  {
   "cell_type": "code",
   "execution_count": 107,
   "metadata": {},
   "outputs": [],
   "source": [
    "train = pd.read_csv('data/train_imputed.csv')\n",
    "test = pd.read_csv('data/test_imputed.csv')"
   ]
  },
  {
   "cell_type": "code",
   "execution_count": 108,
   "metadata": {},
   "outputs": [],
   "source": [
    "train.drop(['id', \"title\", \"Offer %\"], axis=1, inplace=True)\n",
    "test.drop(['id', \"title\"], axis=1, inplace=True)"
   ]
  },
  {
   "cell_type": "code",
   "execution_count": 109,
   "metadata": {},
   "outputs": [
    {
     "data": {
      "text/plain": [
       "((15730, 12), (5244, 12))"
      ]
     },
     "execution_count": 109,
     "metadata": {},
     "output_type": "execute_result"
    }
   ],
   "source": [
    "X = train.drop(['price1'], axis=1)\n",
    "y = train['price1']\n",
    "X.shape, test.shape"
   ]
  },
  {
   "cell_type": "code",
   "execution_count": 110,
   "metadata": {},
   "outputs": [
    {
     "data": {
      "text/plain": [
       "((15730, 12), (5244, 12))"
      ]
     },
     "execution_count": 110,
     "metadata": {},
     "output_type": "execute_result"
    }
   ],
   "source": [
    "X = pd.get_dummies(X, drop_first=True)\n",
    "test = pd.get_dummies(test, drop_first=True)\n",
    "X.shape, test.shape"
   ]
  },
  {
   "cell_type": "code",
   "execution_count": 111,
   "metadata": {},
   "outputs": [],
   "source": [
    "from sklearn.model_selection import train_test_split\n",
    "X_train, X_test, y_train, y_test = train_test_split(X, y, test_size=0.2, random_state=42)"
   ]
  },
  {
   "cell_type": "code",
   "execution_count": 112,
   "metadata": {},
   "outputs": [],
   "source": [
    "from sklearn.preprocessing import StandardScaler\n",
    "scaler = StandardScaler()\n",
    "scaler.fit(X_train)\n",
    "X_train = scaler.transform(X_train)\n",
    "X_test = scaler.transform(X_test)"
   ]
  },
  {
   "cell_type": "code",
   "execution_count": 113,
   "metadata": {},
   "outputs": [],
   "source": [
    "test_scaled = scaler.transform(test)"
   ]
  },
  {
   "cell_type": "code",
   "execution_count": 131,
   "metadata": {},
   "outputs": [
    {
     "name": "stdout",
     "output_type": "stream",
     "text": [
      "84146.30519254353\n",
      "182.2403649085791\n",
      "0.8179918042876293\n"
     ]
    }
   ],
   "source": [
    "from sklearn.linear_model import LinearRegression\n",
    "\n",
    "lr = LinearRegression()\n",
    "lr.fit(X_train, y_train)\n",
    "\n",
    "preds = lr.predict(X_test)\n",
    "print(mean_squared_error(y_test, preds))\n",
    "print(mean_absolute_error(y_test, preds))\n",
    "print(r2_score(y_test, preds))"
   ]
  },
  {
   "cell_type": "code",
   "execution_count": 133,
   "metadata": {},
   "outputs": [
    {
     "name": "stdout",
     "output_type": "stream",
     "text": [
      "73382.43934039793\n",
      "170.3328466567939\n",
      "0.8412740125575726\n"
     ]
    }
   ],
   "source": [
    "from sklearn.ensemble import RandomForestRegressor\n",
    "rfr = RandomForestRegressor(max_depth=5, n_estimators=1000, random_state=42)\n",
    "rfr.fit(X_train, y_train)\n",
    "\n",
    "preds = rfr.predict(X_test)\n",
    "print(mean_squared_error(y_test, preds))\n",
    "print(mean_absolute_error(y_test, preds))\n",
    "print(r2_score(y_test, preds))"
   ]
  },
  {
   "cell_type": "code",
   "execution_count": 120,
   "metadata": {},
   "outputs": [
    {
     "data": {
      "text/plain": [
       "0.9039489969252691"
      ]
     },
     "execution_count": 120,
     "metadata": {},
     "output_type": "execute_result"
    }
   ],
   "source": [
    "xgbr = xgb.XGBRegressor(n_estimators=1000, max_depth=4, learning_rate=0.1)\n",
    "xgbr.fit(X_train, y_train)\n",
    "\n",
    "xgbr.score(X_test, y_test)"
   ]
  },
  {
   "cell_type": "code",
   "execution_count": 121,
   "metadata": {},
   "outputs": [
    {
     "data": {
      "text/plain": [
       "0.9669379109666469"
      ]
     },
     "execution_count": 121,
     "metadata": {},
     "output_type": "execute_result"
    }
   ],
   "source": [
    "xgbr.score(X_train, y_train)"
   ]
  },
  {
   "cell_type": "code",
   "execution_count": 116,
   "metadata": {},
   "outputs": [],
   "source": [
    "from sklearn.metrics import mean_squared_error, mean_absolute_error, r2_score"
   ]
  },
  {
   "cell_type": "code",
   "execution_count": 122,
   "metadata": {},
   "outputs": [
    {
     "name": "stdout",
     "output_type": "stream",
     "text": [
      "44406.44547429521\n",
      "117.25347308178881\n",
      "0.9039489969252691\n"
     ]
    }
   ],
   "source": [
    "preds = xgbr.predict(X_test)\n",
    "print(mean_squared_error(y_test, preds))\n",
    "print(mean_absolute_error(y_test, preds))\n",
    "print(r2_score(y_test, preds))"
   ]
  },
  {
   "cell_type": "code",
   "execution_count": 123,
   "metadata": {},
   "outputs": [
    {
     "name": "stdout",
     "output_type": "stream",
     "text": [
      "79.28093137577395\n"
     ]
    }
   ],
   "source": [
    "print(mean_absolute_error(y_train, xgbr.predict(X_train)))"
   ]
  },
  {
   "cell_type": "code",
   "execution_count": 124,
   "metadata": {},
   "outputs": [
    {
     "data": {
      "text/plain": [
       "array([ 374.5779 ,  879.3755 , 1461.501  , ...,  459.21808,  314.34637,\n",
       "       3018.8853 ], dtype=float32)"
      ]
     },
     "execution_count": 124,
     "metadata": {},
     "output_type": "execute_result"
    }
   ],
   "source": [
    "preds"
   ]
  },
  {
   "cell_type": "code",
   "execution_count": 134,
   "metadata": {},
   "outputs": [],
   "source": [
    "preds_final = rfr.predict(test_scaled)"
   ]
  },
  {
   "cell_type": "code",
   "execution_count": 135,
   "metadata": {},
   "outputs": [],
   "source": [
    "sample = pd.read_csv('data/Sample__submission.csv')"
   ]
  },
  {
   "cell_type": "code",
   "execution_count": 136,
   "metadata": {},
   "outputs": [],
   "source": [
    "sample['price1'] = preds_final"
   ]
  },
  {
   "cell_type": "code",
   "execution_count": 137,
   "metadata": {},
   "outputs": [
    {
     "data": {
      "text/plain": [
       "array([456.67415322, 299.46654023, 456.67415322, ..., 456.67415322,\n",
       "       299.42412655, 460.33816381])"
      ]
     },
     "execution_count": 137,
     "metadata": {},
     "output_type": "execute_result"
    }
   ],
   "source": [
    "preds_final"
   ]
  },
  {
   "cell_type": "code",
   "execution_count": 138,
   "metadata": {},
   "outputs": [],
   "source": [
    "sample.to_csv('data/submission.csv', index=False)"
   ]
  },
  {
   "cell_type": "code",
   "execution_count": 139,
   "metadata": {},
   "outputs": [
    {
     "name": "stdout",
     "output_type": "stream",
     "text": [
      "Successfully submitted to Final Capstone Project\n"
     ]
    },
    {
     "name": "stderr",
     "output_type": "stream",
     "text": [
      "\n",
      "  0%|          | 0.00/128k [00:00<?, ?B/s]\n",
      "  6%|▋         | 8.00k/128k [00:00<00:01, 79.0kB/s]\n",
      "100%|██████████| 128k/128k [00:06<00:00, 19.7kB/s] \n"
     ]
    }
   ],
   "source": [
    "!kaggle competitions submit -c sa2022 -f data/submission.csv -m \"Base Submission\""
   ]
  }
 ],
 "metadata": {
  "kernelspec": {
   "display_name": "Python 3.8.5",
   "language": "python",
   "name": "python3"
  },
  "language_info": {
   "codemirror_mode": {
    "name": "ipython",
    "version": 3
   },
   "file_extension": ".py",
   "mimetype": "text/x-python",
   "name": "python",
   "nbconvert_exporter": "python",
   "pygments_lexer": "ipython3",
   "version": "3.8.5"
  },
  "orig_nbformat": 4,
  "vscode": {
   "interpreter": {
    "hash": "98a06921e42c4ae689d578665f28201be7cad9b45c4149f8887161f1353af971"
   }
  }
 },
 "nbformat": 4,
 "nbformat_minor": 2
}
