{
 "cells": [
  {
   "cell_type": "code",
   "execution_count": 1,
   "metadata": {},
   "outputs": [],
   "source": [
    "import pandas as pd\n",
    "import numpy as np\n",
    "from sklearn.preprocessing import LabelEncoder, OneHotEncoder\n",
    "from sklearn.model_selection import train_test_split\n",
    "from sklearn.preprocessing import StandardScaler\n",
    "from sklearn.linear_model import LinearRegression, ElasticNet\n",
    "from sklearn.metrics import mean_squared_error, r2_score, mean_absolute_error\n",
    "from sklearn.tree import DecisionTreeRegressor\n",
    "from sklearn.ensemble import RandomForestRegressor, GradientBoostingRegressor, HistGradientBoostingRegressor\n",
    "from sklearn.svm import SVR\n",
    "from sklearn.neighbors import KNeighborsRegressor\n",
    "from sklearn.pipeline import Pipeline\n",
    "from sklearn.compose import ColumnTransformer\n",
    "from xgboost import XGBRegressor"
   ]
  },
  {
   "cell_type": "code",
   "execution_count": 2,
   "metadata": {},
   "outputs": [],
   "source": [
    "train = pd.read_csv(\"data/train_prepared.csv\")\n",
    "test = pd.read_csv(\"data/test_prepared.csv\")"
   ]
  },
  {
   "cell_type": "code",
   "execution_count": 3,
   "metadata": {},
   "outputs": [
    {
     "data": {
      "text/html": [
       "<div>\n",
       "<style scoped>\n",
       "    .dataframe tbody tr th:only-of-type {\n",
       "        vertical-align: middle;\n",
       "    }\n",
       "\n",
       "    .dataframe tbody tr th {\n",
       "        vertical-align: top;\n",
       "    }\n",
       "\n",
       "    .dataframe thead th {\n",
       "        text-align: right;\n",
       "    }\n",
       "</style>\n",
       "<table border=\"1\" class=\"dataframe\">\n",
       "  <thead>\n",
       "    <tr style=\"text-align: right;\">\n",
       "      <th></th>\n",
       "      <th>count</th>\n",
       "      <th>unique</th>\n",
       "      <th>top</th>\n",
       "      <th>freq</th>\n",
       "      <th>mean</th>\n",
       "      <th>std</th>\n",
       "      <th>min</th>\n",
       "      <th>25%</th>\n",
       "      <th>50%</th>\n",
       "      <th>75%</th>\n",
       "      <th>max</th>\n",
       "    </tr>\n",
       "  </thead>\n",
       "  <tbody>\n",
       "    <tr>\n",
       "      <th>ID</th>\n",
       "      <td>15730.0</td>\n",
       "      <td>NaN</td>\n",
       "      <td>NaN</td>\n",
       "      <td>NaN</td>\n",
       "      <td>10479.541577</td>\n",
       "      <td>6080.166276</td>\n",
       "      <td>3.0</td>\n",
       "      <td>5212.0</td>\n",
       "      <td>10458.5</td>\n",
       "      <td>15766.75</td>\n",
       "      <td>20973.0</td>\n",
       "    </tr>\n",
       "    <tr>\n",
       "      <th>Rating</th>\n",
       "      <td>15730.0</td>\n",
       "      <td>NaN</td>\n",
       "      <td>NaN</td>\n",
       "      <td>NaN</td>\n",
       "      <td>4.012873</td>\n",
       "      <td>0.29844</td>\n",
       "      <td>0.0</td>\n",
       "      <td>3.9</td>\n",
       "      <td>4.0</td>\n",
       "      <td>4.2</td>\n",
       "      <td>5.0</td>\n",
       "    </tr>\n",
       "    <tr>\n",
       "      <th>MainCategory</th>\n",
       "      <td>15730</td>\n",
       "      <td>2</td>\n",
       "      <td>Women</td>\n",
       "      <td>8819</td>\n",
       "      <td>NaN</td>\n",
       "      <td>NaN</td>\n",
       "      <td>NaN</td>\n",
       "      <td>NaN</td>\n",
       "      <td>NaN</td>\n",
       "      <td>NaN</td>\n",
       "      <td>NaN</td>\n",
       "    </tr>\n",
       "    <tr>\n",
       "      <th>Plateform</th>\n",
       "      <td>15730</td>\n",
       "      <td>2</td>\n",
       "      <td>Flipkart</td>\n",
       "      <td>15389</td>\n",
       "      <td>NaN</td>\n",
       "      <td>NaN</td>\n",
       "      <td>NaN</td>\n",
       "      <td>NaN</td>\n",
       "      <td>NaN</td>\n",
       "      <td>NaN</td>\n",
       "      <td>NaN</td>\n",
       "    </tr>\n",
       "    <tr>\n",
       "      <th>ActingPrice</th>\n",
       "      <td>15730.0</td>\n",
       "      <td>NaN</td>\n",
       "      <td>NaN</td>\n",
       "      <td>NaN</td>\n",
       "      <td>1369.286777</td>\n",
       "      <td>1240.900227</td>\n",
       "      <td>42.0</td>\n",
       "      <td>699.0</td>\n",
       "      <td>999.0</td>\n",
       "      <td>1299.0</td>\n",
       "      <td>13499.0</td>\n",
       "    </tr>\n",
       "    <tr>\n",
       "      <th>Offer</th>\n",
       "      <td>15730.0</td>\n",
       "      <td>NaN</td>\n",
       "      <td>NaN</td>\n",
       "      <td>NaN</td>\n",
       "      <td>46.802491</td>\n",
       "      <td>19.268675</td>\n",
       "      <td>0.0</td>\n",
       "      <td>35.94</td>\n",
       "      <td>50.07</td>\n",
       "      <td>60.16</td>\n",
       "      <td>88.93</td>\n",
       "    </tr>\n",
       "    <tr>\n",
       "      <th>NumberOfRatings</th>\n",
       "      <td>15730.0</td>\n",
       "      <td>NaN</td>\n",
       "      <td>NaN</td>\n",
       "      <td>NaN</td>\n",
       "      <td>3074.681055</td>\n",
       "      <td>11915.323486</td>\n",
       "      <td>0.0</td>\n",
       "      <td>64.0</td>\n",
       "      <td>311.0</td>\n",
       "      <td>1527.75</td>\n",
       "      <td>289973.0</td>\n",
       "    </tr>\n",
       "    <tr>\n",
       "      <th>NumberOfReviews</th>\n",
       "      <td>15730.0</td>\n",
       "      <td>NaN</td>\n",
       "      <td>NaN</td>\n",
       "      <td>NaN</td>\n",
       "      <td>426.252702</td>\n",
       "      <td>1753.202101</td>\n",
       "      <td>0.0</td>\n",
       "      <td>9.0</td>\n",
       "      <td>44.0</td>\n",
       "      <td>215.0</td>\n",
       "      <td>45448.0</td>\n",
       "    </tr>\n",
       "    <tr>\n",
       "      <th>5Star</th>\n",
       "      <td>15730.0</td>\n",
       "      <td>NaN</td>\n",
       "      <td>NaN</td>\n",
       "      <td>NaN</td>\n",
       "      <td>1599.965035</td>\n",
       "      <td>6233.811271</td>\n",
       "      <td>0.0</td>\n",
       "      <td>30.0</td>\n",
       "      <td>153.0</td>\n",
       "      <td>789.0</td>\n",
       "      <td>151193.0</td>\n",
       "    </tr>\n",
       "    <tr>\n",
       "      <th>4Star</th>\n",
       "      <td>15730.0</td>\n",
       "      <td>NaN</td>\n",
       "      <td>NaN</td>\n",
       "      <td>NaN</td>\n",
       "      <td>662.491545</td>\n",
       "      <td>2843.657075</td>\n",
       "      <td>0.0</td>\n",
       "      <td>12.0</td>\n",
       "      <td>61.0</td>\n",
       "      <td>304.0</td>\n",
       "      <td>74037.0</td>\n",
       "    </tr>\n",
       "    <tr>\n",
       "      <th>3Star</th>\n",
       "      <td>15730.0</td>\n",
       "      <td>NaN</td>\n",
       "      <td>NaN</td>\n",
       "      <td>NaN</td>\n",
       "      <td>360.168023</td>\n",
       "      <td>1416.859022</td>\n",
       "      <td>0.0</td>\n",
       "      <td>7.0</td>\n",
       "      <td>34.0</td>\n",
       "      <td>172.0</td>\n",
       "      <td>34978.0</td>\n",
       "    </tr>\n",
       "    <tr>\n",
       "      <th>2Star</th>\n",
       "      <td>15730.0</td>\n",
       "      <td>NaN</td>\n",
       "      <td>NaN</td>\n",
       "      <td>NaN</td>\n",
       "      <td>155.085188</td>\n",
       "      <td>558.650254</td>\n",
       "      <td>0.0</td>\n",
       "      <td>3.0</td>\n",
       "      <td>17.0</td>\n",
       "      <td>77.0</td>\n",
       "      <td>11705.0</td>\n",
       "    </tr>\n",
       "    <tr>\n",
       "      <th>1Star</th>\n",
       "      <td>15730.0</td>\n",
       "      <td>NaN</td>\n",
       "      <td>NaN</td>\n",
       "      <td>NaN</td>\n",
       "      <td>275.500572</td>\n",
       "      <td>958.589075</td>\n",
       "      <td>0.0</td>\n",
       "      <td>6.0</td>\n",
       "      <td>30.0</td>\n",
       "      <td>140.0</td>\n",
       "      <td>18060.0</td>\n",
       "    </tr>\n",
       "    <tr>\n",
       "      <th>Fulfilled</th>\n",
       "      <td>15730.0</td>\n",
       "      <td>NaN</td>\n",
       "      <td>NaN</td>\n",
       "      <td>NaN</td>\n",
       "      <td>0.601526</td>\n",
       "      <td>0.4896</td>\n",
       "      <td>0.0</td>\n",
       "      <td>0.0</td>\n",
       "      <td>1.0</td>\n",
       "      <td>1.0</td>\n",
       "      <td>1.0</td>\n",
       "    </tr>\n",
       "    <tr>\n",
       "      <th>Combo</th>\n",
       "      <td>15730</td>\n",
       "      <td>2</td>\n",
       "      <td>False</td>\n",
       "      <td>15252</td>\n",
       "      <td>NaN</td>\n",
       "      <td>NaN</td>\n",
       "      <td>NaN</td>\n",
       "      <td>NaN</td>\n",
       "      <td>NaN</td>\n",
       "      <td>NaN</td>\n",
       "      <td>NaN</td>\n",
       "    </tr>\n",
       "    <tr>\n",
       "      <th>Category</th>\n",
       "      <td>15730</td>\n",
       "      <td>10</td>\n",
       "      <td>sandal</td>\n",
       "      <td>4222</td>\n",
       "      <td>NaN</td>\n",
       "      <td>NaN</td>\n",
       "      <td>NaN</td>\n",
       "      <td>NaN</td>\n",
       "      <td>NaN</td>\n",
       "      <td>NaN</td>\n",
       "      <td>NaN</td>\n",
       "    </tr>\n",
       "  </tbody>\n",
       "</table>\n",
       "</div>"
      ],
      "text/plain": [
       "                   count unique       top   freq          mean           std  \\\n",
       "ID               15730.0    NaN       NaN    NaN  10479.541577   6080.166276   \n",
       "Rating           15730.0    NaN       NaN    NaN      4.012873       0.29844   \n",
       "MainCategory       15730      2     Women   8819           NaN           NaN   \n",
       "Plateform          15730      2  Flipkart  15389           NaN           NaN   \n",
       "ActingPrice      15730.0    NaN       NaN    NaN   1369.286777   1240.900227   \n",
       "Offer            15730.0    NaN       NaN    NaN     46.802491     19.268675   \n",
       "NumberOfRatings  15730.0    NaN       NaN    NaN   3074.681055  11915.323486   \n",
       "NumberOfReviews  15730.0    NaN       NaN    NaN    426.252702   1753.202101   \n",
       "5Star            15730.0    NaN       NaN    NaN   1599.965035   6233.811271   \n",
       "4Star            15730.0    NaN       NaN    NaN    662.491545   2843.657075   \n",
       "3Star            15730.0    NaN       NaN    NaN    360.168023   1416.859022   \n",
       "2Star            15730.0    NaN       NaN    NaN    155.085188    558.650254   \n",
       "1Star            15730.0    NaN       NaN    NaN    275.500572    958.589075   \n",
       "Fulfilled        15730.0    NaN       NaN    NaN      0.601526        0.4896   \n",
       "Combo              15730      2     False  15252           NaN           NaN   \n",
       "Category           15730     10    sandal   4222           NaN           NaN   \n",
       "\n",
       "                  min     25%      50%       75%       max  \n",
       "ID                3.0  5212.0  10458.5  15766.75   20973.0  \n",
       "Rating            0.0     3.9      4.0       4.2       5.0  \n",
       "MainCategory      NaN     NaN      NaN       NaN       NaN  \n",
       "Plateform         NaN     NaN      NaN       NaN       NaN  \n",
       "ActingPrice      42.0   699.0    999.0    1299.0   13499.0  \n",
       "Offer             0.0   35.94    50.07     60.16     88.93  \n",
       "NumberOfRatings   0.0    64.0    311.0   1527.75  289973.0  \n",
       "NumberOfReviews   0.0     9.0     44.0     215.0   45448.0  \n",
       "5Star             0.0    30.0    153.0     789.0  151193.0  \n",
       "4Star             0.0    12.0     61.0     304.0   74037.0  \n",
       "3Star             0.0     7.0     34.0     172.0   34978.0  \n",
       "2Star             0.0     3.0     17.0      77.0   11705.0  \n",
       "1Star             0.0     6.0     30.0     140.0   18060.0  \n",
       "Fulfilled         0.0     0.0      1.0       1.0       1.0  \n",
       "Combo             NaN     NaN      NaN       NaN       NaN  \n",
       "Category          NaN     NaN      NaN       NaN       NaN  "
      ]
     },
     "execution_count": 3,
     "metadata": {},
     "output_type": "execute_result"
    }
   ],
   "source": [
    "train.describe(include=\"all\").T"
   ]
  },
  {
   "cell_type": "code",
   "execution_count": 4,
   "metadata": {},
   "outputs": [
    {
     "data": {
      "text/html": [
       "<div>\n",
       "<style scoped>\n",
       "    .dataframe tbody tr th:only-of-type {\n",
       "        vertical-align: middle;\n",
       "    }\n",
       "\n",
       "    .dataframe tbody tr th {\n",
       "        vertical-align: top;\n",
       "    }\n",
       "\n",
       "    .dataframe thead th {\n",
       "        text-align: right;\n",
       "    }\n",
       "</style>\n",
       "<table border=\"1\" class=\"dataframe\">\n",
       "  <thead>\n",
       "    <tr style=\"text-align: right;\">\n",
       "      <th></th>\n",
       "      <th>count</th>\n",
       "      <th>unique</th>\n",
       "      <th>top</th>\n",
       "      <th>freq</th>\n",
       "      <th>mean</th>\n",
       "      <th>std</th>\n",
       "      <th>min</th>\n",
       "      <th>25%</th>\n",
       "      <th>50%</th>\n",
       "      <th>75%</th>\n",
       "      <th>max</th>\n",
       "    </tr>\n",
       "  </thead>\n",
       "  <tbody>\n",
       "    <tr>\n",
       "      <th>ID</th>\n",
       "      <td>5244.0</td>\n",
       "      <td>NaN</td>\n",
       "      <td>NaN</td>\n",
       "      <td>NaN</td>\n",
       "      <td>10507.372616</td>\n",
       "      <td>5978.658892</td>\n",
       "      <td>0.0</td>\n",
       "      <td>5286.75</td>\n",
       "      <td>10561.5</td>\n",
       "      <td>15636.75</td>\n",
       "      <td>20964.0</td>\n",
       "    </tr>\n",
       "    <tr>\n",
       "      <th>Rating</th>\n",
       "      <td>5244.0</td>\n",
       "      <td>NaN</td>\n",
       "      <td>NaN</td>\n",
       "      <td>NaN</td>\n",
       "      <td>4.01558</td>\n",
       "      <td>0.311346</td>\n",
       "      <td>0.0</td>\n",
       "      <td>3.9</td>\n",
       "      <td>4.0</td>\n",
       "      <td>4.2</td>\n",
       "      <td>5.0</td>\n",
       "    </tr>\n",
       "    <tr>\n",
       "      <th>MainCategory</th>\n",
       "      <td>5244</td>\n",
       "      <td>2</td>\n",
       "      <td>Women</td>\n",
       "      <td>3034</td>\n",
       "      <td>NaN</td>\n",
       "      <td>NaN</td>\n",
       "      <td>NaN</td>\n",
       "      <td>NaN</td>\n",
       "      <td>NaN</td>\n",
       "      <td>NaN</td>\n",
       "      <td>NaN</td>\n",
       "    </tr>\n",
       "    <tr>\n",
       "      <th>Plateform</th>\n",
       "      <td>5244</td>\n",
       "      <td>2</td>\n",
       "      <td>Flipkart</td>\n",
       "      <td>5140</td>\n",
       "      <td>NaN</td>\n",
       "      <td>NaN</td>\n",
       "      <td>NaN</td>\n",
       "      <td>NaN</td>\n",
       "      <td>NaN</td>\n",
       "      <td>NaN</td>\n",
       "      <td>NaN</td>\n",
       "    </tr>\n",
       "    <tr>\n",
       "      <th>ActingPrice</th>\n",
       "      <td>5244.0</td>\n",
       "      <td>NaN</td>\n",
       "      <td>NaN</td>\n",
       "      <td>NaN</td>\n",
       "      <td>1378.657895</td>\n",
       "      <td>1280.63007</td>\n",
       "      <td>139.0</td>\n",
       "      <td>699.0</td>\n",
       "      <td>999.0</td>\n",
       "      <td>1299.0</td>\n",
       "      <td>15999.0</td>\n",
       "    </tr>\n",
       "    <tr>\n",
       "      <th>NumberOfRatings</th>\n",
       "      <td>5244.0</td>\n",
       "      <td>NaN</td>\n",
       "      <td>NaN</td>\n",
       "      <td>NaN</td>\n",
       "      <td>2988.580092</td>\n",
       "      <td>12881.253715</td>\n",
       "      <td>1.0</td>\n",
       "      <td>66.0</td>\n",
       "      <td>307.0</td>\n",
       "      <td>1428.0</td>\n",
       "      <td>289973.0</td>\n",
       "    </tr>\n",
       "    <tr>\n",
       "      <th>NumberOfReviews</th>\n",
       "      <td>5244.0</td>\n",
       "      <td>NaN</td>\n",
       "      <td>NaN</td>\n",
       "      <td>NaN</td>\n",
       "      <td>415.491037</td>\n",
       "      <td>1910.726669</td>\n",
       "      <td>0.0</td>\n",
       "      <td>9.0</td>\n",
       "      <td>44.0</td>\n",
       "      <td>214.25</td>\n",
       "      <td>45448.0</td>\n",
       "    </tr>\n",
       "    <tr>\n",
       "      <th>5Star</th>\n",
       "      <td>5244.0</td>\n",
       "      <td>NaN</td>\n",
       "      <td>NaN</td>\n",
       "      <td>NaN</td>\n",
       "      <td>1545.586003</td>\n",
       "      <td>6544.085444</td>\n",
       "      <td>0.0</td>\n",
       "      <td>32.0</td>\n",
       "      <td>156.0</td>\n",
       "      <td>756.5</td>\n",
       "      <td>151193.0</td>\n",
       "    </tr>\n",
       "    <tr>\n",
       "      <th>4Star</th>\n",
       "      <td>5244.0</td>\n",
       "      <td>NaN</td>\n",
       "      <td>NaN</td>\n",
       "      <td>NaN</td>\n",
       "      <td>639.785469</td>\n",
       "      <td>2991.065223</td>\n",
       "      <td>0.0</td>\n",
       "      <td>12.0</td>\n",
       "      <td>61.0</td>\n",
       "      <td>310.25</td>\n",
       "      <td>74037.0</td>\n",
       "    </tr>\n",
       "    <tr>\n",
       "      <th>3Star</th>\n",
       "      <td>5244.0</td>\n",
       "      <td>NaN</td>\n",
       "      <td>NaN</td>\n",
       "      <td>NaN</td>\n",
       "      <td>356.356789</td>\n",
       "      <td>1632.732834</td>\n",
       "      <td>0.0</td>\n",
       "      <td>7.0</td>\n",
       "      <td>34.0</td>\n",
       "      <td>166.0</td>\n",
       "      <td>49924.0</td>\n",
       "    </tr>\n",
       "    <tr>\n",
       "      <th>2Star</th>\n",
       "      <td>5244.0</td>\n",
       "      <td>NaN</td>\n",
       "      <td>NaN</td>\n",
       "      <td>NaN</td>\n",
       "      <td>154.139969</td>\n",
       "      <td>611.006799</td>\n",
       "      <td>0.0</td>\n",
       "      <td>3.0</td>\n",
       "      <td>16.0</td>\n",
       "      <td>75.0</td>\n",
       "      <td>12629.0</td>\n",
       "    </tr>\n",
       "    <tr>\n",
       "      <th>1Star</th>\n",
       "      <td>5244.0</td>\n",
       "      <td>NaN</td>\n",
       "      <td>NaN</td>\n",
       "      <td>NaN</td>\n",
       "      <td>260.807018</td>\n",
       "      <td>1017.789008</td>\n",
       "      <td>0.0</td>\n",
       "      <td>5.0</td>\n",
       "      <td>26.0</td>\n",
       "      <td>120.25</td>\n",
       "      <td>23139.0</td>\n",
       "    </tr>\n",
       "    <tr>\n",
       "      <th>Fulfilled</th>\n",
       "      <td>5244.0</td>\n",
       "      <td>NaN</td>\n",
       "      <td>NaN</td>\n",
       "      <td>NaN</td>\n",
       "      <td>0.6045</td>\n",
       "      <td>0.489004</td>\n",
       "      <td>0.0</td>\n",
       "      <td>0.0</td>\n",
       "      <td>1.0</td>\n",
       "      <td>1.0</td>\n",
       "      <td>1.0</td>\n",
       "    </tr>\n",
       "    <tr>\n",
       "      <th>Combo</th>\n",
       "      <td>5244</td>\n",
       "      <td>2</td>\n",
       "      <td>False</td>\n",
       "      <td>5082</td>\n",
       "      <td>NaN</td>\n",
       "      <td>NaN</td>\n",
       "      <td>NaN</td>\n",
       "      <td>NaN</td>\n",
       "      <td>NaN</td>\n",
       "      <td>NaN</td>\n",
       "      <td>NaN</td>\n",
       "    </tr>\n",
       "    <tr>\n",
       "      <th>Category</th>\n",
       "      <td>5244</td>\n",
       "      <td>10</td>\n",
       "      <td>sandal</td>\n",
       "      <td>1435</td>\n",
       "      <td>NaN</td>\n",
       "      <td>NaN</td>\n",
       "      <td>NaN</td>\n",
       "      <td>NaN</td>\n",
       "      <td>NaN</td>\n",
       "      <td>NaN</td>\n",
       "      <td>NaN</td>\n",
       "    </tr>\n",
       "  </tbody>\n",
       "</table>\n",
       "</div>"
      ],
      "text/plain": [
       "                  count unique       top  freq          mean           std  \\\n",
       "ID               5244.0    NaN       NaN   NaN  10507.372616   5978.658892   \n",
       "Rating           5244.0    NaN       NaN   NaN       4.01558      0.311346   \n",
       "MainCategory       5244      2     Women  3034           NaN           NaN   \n",
       "Plateform          5244      2  Flipkart  5140           NaN           NaN   \n",
       "ActingPrice      5244.0    NaN       NaN   NaN   1378.657895    1280.63007   \n",
       "NumberOfRatings  5244.0    NaN       NaN   NaN   2988.580092  12881.253715   \n",
       "NumberOfReviews  5244.0    NaN       NaN   NaN    415.491037   1910.726669   \n",
       "5Star            5244.0    NaN       NaN   NaN   1545.586003   6544.085444   \n",
       "4Star            5244.0    NaN       NaN   NaN    639.785469   2991.065223   \n",
       "3Star            5244.0    NaN       NaN   NaN    356.356789   1632.732834   \n",
       "2Star            5244.0    NaN       NaN   NaN    154.139969    611.006799   \n",
       "1Star            5244.0    NaN       NaN   NaN    260.807018   1017.789008   \n",
       "Fulfilled        5244.0    NaN       NaN   NaN        0.6045      0.489004   \n",
       "Combo              5244      2     False  5082           NaN           NaN   \n",
       "Category           5244     10    sandal  1435           NaN           NaN   \n",
       "\n",
       "                   min      25%      50%       75%       max  \n",
       "ID                 0.0  5286.75  10561.5  15636.75   20964.0  \n",
       "Rating             0.0      3.9      4.0       4.2       5.0  \n",
       "MainCategory       NaN      NaN      NaN       NaN       NaN  \n",
       "Plateform          NaN      NaN      NaN       NaN       NaN  \n",
       "ActingPrice      139.0    699.0    999.0    1299.0   15999.0  \n",
       "NumberOfRatings    1.0     66.0    307.0    1428.0  289973.0  \n",
       "NumberOfReviews    0.0      9.0     44.0    214.25   45448.0  \n",
       "5Star              0.0     32.0    156.0     756.5  151193.0  \n",
       "4Star              0.0     12.0     61.0    310.25   74037.0  \n",
       "3Star              0.0      7.0     34.0     166.0   49924.0  \n",
       "2Star              0.0      3.0     16.0      75.0   12629.0  \n",
       "1Star              0.0      5.0     26.0    120.25   23139.0  \n",
       "Fulfilled          0.0      0.0      1.0       1.0       1.0  \n",
       "Combo              NaN      NaN      NaN       NaN       NaN  \n",
       "Category           NaN      NaN      NaN       NaN       NaN  "
      ]
     },
     "execution_count": 4,
     "metadata": {},
     "output_type": "execute_result"
    }
   ],
   "source": [
    "test.describe(include=\"all\").T"
   ]
  },
  {
   "cell_type": "code",
   "execution_count": 5,
   "metadata": {},
   "outputs": [
    {
     "data": {
      "text/plain": [
       "ID                   int64\n",
       "Rating             float64\n",
       "MainCategory        object\n",
       "Plateform           object\n",
       "ActingPrice          int64\n",
       "Offer              float64\n",
       "NumberOfRatings    float64\n",
       "NumberOfReviews    float64\n",
       "5Star              float64\n",
       "4Star              float64\n",
       "3Star              float64\n",
       "2Star                int64\n",
       "1Star                int64\n",
       "Fulfilled            int64\n",
       "Combo                 bool\n",
       "Category            object\n",
       "dtype: object"
      ]
     },
     "execution_count": 5,
     "metadata": {},
     "output_type": "execute_result"
    }
   ],
   "source": [
    "train.dtypes"
   ]
  },
  {
   "cell_type": "code",
   "execution_count": 6,
   "metadata": {},
   "outputs": [
    {
     "data": {
      "text/plain": [
       "Index(['ID', 'Rating', 'MainCategory', 'Plateform', 'ActingPrice', 'Offer',\n",
       "       'NumberOfRatings', 'NumberOfReviews', '5Star', '4Star', '3Star',\n",
       "       '2Star', '1Star', 'Fulfilled', 'Combo', 'Category'],\n",
       "      dtype='object')"
      ]
     },
     "execution_count": 6,
     "metadata": {},
     "output_type": "execute_result"
    }
   ],
   "source": [
    "train.columns"
   ]
  },
  {
   "cell_type": "code",
   "execution_count": 7,
   "metadata": {},
   "outputs": [],
   "source": [
    "train.drop(\"ID\", axis=1, inplace=True)\n",
    "test_id = test.ID\n",
    "test.drop(\"ID\", axis=1, inplace=True)\n",
    "\n",
    "X = train.drop([\"Offer\"], axis=1)\n",
    "y = train[\"Offer\"]\n",
    "assert X.shape[1] == test.shape[1], \"X and test have different number of columns\""
   ]
  },
  {
   "cell_type": "code",
   "execution_count": 8,
   "metadata": {},
   "outputs": [],
   "source": [
    "X[\"5Minus1\"] = X[\"5Star\"] - X[\"1Star\"]\n",
    "X[\"5Minus2\"] = X[\"5Star\"] - X[\"2Star\"]\n",
    "X[\"5Minus3\"] = X[\"5Star\"] - X[\"3Star\"]\n",
    "X[\"5Minus4\"] = X[\"5Star\"] - X[\"4Star\"]\n",
    "X[\"4Minus1\"] = X[\"4Star\"] - X[\"1Star\"]\n",
    "X[\"3Minus1\"] = X[\"3Star\"] - X[\"1Star\"]\n",
    "X[\"2Minus1\"] = X[\"2Star\"] - X[\"1Star\"]\n",
    "\n",
    "test[\"5Minus1\"] = test[\"5Star\"] - test[\"1Star\"]\n",
    "test[\"5Minus2\"] = test[\"5Star\"] - test[\"2Star\"]\n",
    "test[\"5Minus3\"] = test[\"5Star\"] - test[\"3Star\"]\n",
    "test[\"5Minus4\"] = test[\"5Star\"] - test[\"4Star\"]\n",
    "test[\"4Minus1\"] = test[\"4Star\"] - test[\"1Star\"]\n",
    "test[\"3Minus1\"] = test[\"3Star\"] - test[\"1Star\"]\n",
    "test[\"2Minus1\"] = test[\"2Star\"] - test[\"1Star\"]"
   ]
  },
  {
   "cell_type": "code",
   "execution_count": 9,
   "metadata": {},
   "outputs": [],
   "source": [
    "columns_to_one_hot = [\"MainCategory\", \"Category\", \"Plateform\", \"Combo\"]\n",
    "# columns_to_polynomial = [\"Price\", \"Size\", \"Age\", \"Publisher\", \"Developer\", \"Publisher_and_Developer\", \"Publisher_and_Developer_and_Age\"]\n",
    "columns_to_standardize = [\"ActingPrice\", 'NumberOfRatings', 'NumberOfReviews', '5Star', \n",
    "    '4Star', '3Star', '2Star', '1Star',\"5Minus1\", \"5Minus2\", \"5Minus3\", \"5Minus4\", \"4Minus1\", \"3Minus1\", \"2Minus1\"]"
   ]
  },
  {
   "cell_type": "code",
   "execution_count": 10,
   "metadata": {},
   "outputs": [],
   "source": [
    "X_train, X_test, y_train, y_test = train_test_split(X, y, test_size=0.1, random_state=42)"
   ]
  },
  {
   "cell_type": "code",
   "execution_count": 11,
   "metadata": {},
   "outputs": [
    {
     "data": {
      "text/plain": [
       "(14157, 1573)"
      ]
     },
     "execution_count": 11,
     "metadata": {},
     "output_type": "execute_result"
    }
   ],
   "source": [
    "len(X_train),len(X_test)"
   ]
  },
  {
   "cell_type": "code",
   "execution_count": 12,
   "metadata": {},
   "outputs": [],
   "source": [
    "label_encoder = LabelEncoder()\n",
    "one_hot_encoder = OneHotEncoder(sparse=False)\n",
    "standardizer = StandardScaler()\n",
    "\n",
    "preprocessor = ColumnTransformer(\n",
    "    [\n",
    "        (\"one_hot_encoder\", one_hot_encoder, columns_to_one_hot),\n",
    "        (\"standardizer\", standardizer, columns_to_standardize)],\n",
    "    remainder=\"passthrough\"\n",
    ")"
   ]
  },
  {
   "cell_type": "code",
   "execution_count": 13,
   "metadata": {},
   "outputs": [],
   "source": [
    "X_transformed = preprocessor.fit_transform(X)\n",
    "preprocessor.fit(X_train)\n",
    "X_train = preprocessor.transform(X_train)\n",
    "X_test = preprocessor.transform(X_test)\n",
    "test_final = preprocessor.transform(test)"
   ]
  },
  {
   "cell_type": "code",
   "execution_count": 14,
   "metadata": {},
   "outputs": [],
   "source": [
    "assert X_train.shape[1] == test_final.shape[1], \"X_train and test have different number of columns\""
   ]
  },
  {
   "cell_type": "markdown",
   "metadata": {},
   "source": [
    "# Models"
   ]
  },
  {
   "cell_type": "markdown",
   "metadata": {},
   "source": [
    "## Base Model"
   ]
  },
  {
   "cell_type": "code",
   "execution_count": 19,
   "metadata": {},
   "outputs": [],
   "source": [
    "def evaluate(model, on=\"test\"):\n",
    "    if on == \"test\":\n",
    "        X, y = X_test, y_test\n",
    "    else:\n",
    "        X, y = X_train, y_train\n",
    "    y_pred = model.predict(X)\n",
    "    print(\"-----------------------------------------------------\")\n",
    "    print(\"R2:\", r2_score(y, y_pred))\n",
    "    print(\"MSE:\", mean_squared_error(y, y_pred))\n",
    "    print(\"MAE:\", mean_absolute_error(y, y_pred))\n",
    "    print(\"RMSE:\", mean_squared_error(y, y_pred) ** 0.5)\n",
    "    print(\"-----------------------------------------------------\")\n",
    "    return y_pred"
   ]
  },
  {
   "cell_type": "code",
   "execution_count": 18,
   "metadata": {},
   "outputs": [
    {
     "name": "stdout",
     "output_type": "stream",
     "text": [
      "-----------------------------------------------------\n",
      "R2: 0.15652372225723143\n",
      "MSE: 296.75870980914505\n",
      "MAE: 13.878081492371265\n",
      "RMSE: 17.22668597871178\n",
      "-----------------------------------------------------\n"
     ]
    }
   ],
   "source": [
    "lr = LinearRegression()\n",
    "lr.fit(X_train, y_train)\n",
    "pred = evaluate(lr)"
   ]
  },
  {
   "cell_type": "code",
   "execution_count": 23,
   "metadata": {},
   "outputs": [
    {
     "name": "stdout",
     "output_type": "stream",
     "text": [
      "-----------------------------------------------------\n",
      "R2: 0.15869169954340134\n",
      "MSE: 295.99595434190053\n",
      "MAE: 13.854730510966307\n",
      "RMSE: 17.2045329591332\n",
      "-----------------------------------------------------\n"
     ]
    }
   ],
   "source": [
    "lr = LinearRegression()\n",
    "lr.fit(X_train, y_train)\n",
    "pred = evaluate(lr)"
   ]
  },
  {
   "cell_type": "code",
   "execution_count": 19,
   "metadata": {},
   "outputs": [
    {
     "name": "stdout",
     "output_type": "stream",
     "text": [
      "-----------------------------------------------------\n",
      "R2: 0.7504613214421156\n",
      "MSE: 87.79473501553568\n",
      "MAE: 6.317080747223136\n",
      "RMSE: 9.369884471835055\n",
      "-----------------------------------------------------\n",
      "-----------------------------------------------------\n",
      "R2: 0.9145532385732841\n",
      "MSE: 31.906168977996273\n",
      "MAE: 3.8967196231618573\n",
      "RMSE: 5.648554591928476\n",
      "-----------------------------------------------------\n"
     ]
    }
   ],
   "source": [
    "xgbr = XGBRegressor(n_estimators=2000, max_depth=5, learning_rate=0.05)\n",
    "xgbr.fit(X_train, y_train)\n",
    "y_pred = evaluate(xgbr, on=\"test\")\n",
    "y_pred_t = evaluate(xgbr, on=\"train\")"
   ]
  },
  {
   "cell_type": "code",
   "execution_count": 48,
   "metadata": {},
   "outputs": [
    {
     "name": "stdout",
     "output_type": "stream",
     "text": [
      "-----------------------------------------------------\n",
      "R2: 0.7471895302116716\n",
      "MSE: 88.94584331571191\n",
      "MAE: 6.429136706880908\n",
      "RMSE: 9.431110396751377\n",
      "-----------------------------------------------------\n",
      "-----------------------------------------------------\n",
      "R2: 0.9009702235747971\n",
      "MSE: 36.978122139662645\n",
      "MAE: 4.215822702831295\n",
      "RMSE: 6.080963915339627\n",
      "-----------------------------------------------------\n"
     ]
    }
   ],
   "source": [
    "xgbr = XGBRegressor(n_estimators=2000, max_depth=5, learning_rate=0.05)\n",
    "xgbr.fit(X_train, y_train)\n",
    "y_pred = evaluate(xgbr, on=\"test\")\n",
    "y_pred_t = evaluate(xgbr, on=\"train\")"
   ]
  },
  {
   "cell_type": "code",
   "execution_count": 20,
   "metadata": {},
   "outputs": [
    {
     "name": "stdout",
     "output_type": "stream",
     "text": [
      "-----------------------------------------------------\n",
      "R2: 0.77711127289397\n",
      "MSE: 78.41853153712498\n",
      "MAE: 5.609923975155161\n",
      "RMSE: 8.855423848530627\n",
      "-----------------------------------------------------\n",
      "-----------------------------------------------------\n",
      "R2: 0.9630488357623656\n",
      "MSE: 13.797715330742047\n",
      "MAE: 2.5461556850893037\n",
      "RMSE: 3.7145276053277687\n",
      "-----------------------------------------------------\n"
     ]
    }
   ],
   "source": [
    "gbr = GradientBoostingRegressor(n_estimators=3000, max_depth=5, learning_rate=0.05)\n",
    "gbr.fit(X_train, y_train)\n",
    "y_pred = evaluate(gbr, on=\"test\")\n",
    "y_pred_t = evaluate(gbr, on=\"train\")"
   ]
  },
  {
   "cell_type": "code",
   "execution_count": 66,
   "metadata": {},
   "outputs": [
    {
     "name": "stdout",
     "output_type": "stream",
     "text": [
      "-----------------------------------------------------\n",
      "R2: 0.7709768248763568\n",
      "MSE: 80.57680311764872\n",
      "MAE: 5.741540995019667\n",
      "RMSE: 8.976458272484127\n",
      "-----------------------------------------------------\n",
      "-----------------------------------------------------\n",
      "R2: 0.9524151757752702\n",
      "MSE: 17.768367310265063\n",
      "MAE: 2.8654365907827986\n",
      "RMSE: 4.215254121671084\n",
      "-----------------------------------------------------\n"
     ]
    }
   ],
   "source": [
    "gbr = GradientBoostingRegressor(n_estimators=3000, max_depth=5, learning_rate=0.05)\n",
    "gbr.fit(X_train, y_train)\n",
    "y_pred = evaluate(gbr, on=\"test\")\n",
    "y_pred_t = evaluate(gbr, on=\"train\")"
   ]
  },
  {
   "cell_type": "code",
   "execution_count": 36,
   "metadata": {},
   "outputs": [
    {
     "name": "stdout",
     "output_type": "stream",
     "text": [
      "-----------------------------------------------------\n",
      "R2: 0.8187848800080694\n",
      "MSE: 63.756582877028976\n",
      "MAE: 4.505383969415393\n",
      "RMSE: 7.984771936444332\n",
      "-----------------------------------------------------\n",
      "-----------------------------------------------------\n",
      "R2: 0.989265978108092\n",
      "MSE: 4.00812752383201\n",
      "MAE: 1.1802508370583265\n",
      "RMSE: 2.0020308498702035\n",
      "-----------------------------------------------------\n"
     ]
    }
   ],
   "source": [
    "xgbr = XGBRegressor(n_estimators=1000, max_depth=10, learning_rate=0.04)\n",
    "xgbr.fit(X_train, y_train)\n",
    "y_pred = evaluate(xgbr, on=\"test\")\n",
    "y_pred_t = evaluate(xgbr, on=\"train\")"
   ]
  },
  {
   "cell_type": "code",
   "execution_count": 29,
   "metadata": {},
   "outputs": [
    {
     "name": "stdout",
     "output_type": "stream",
     "text": [
      "-----------------------------------------------------\n",
      "R2: 0.7898147397802333\n",
      "MSE: 73.94909411161815\n",
      "MAE: 5.390325749425473\n",
      "RMSE: 8.599365913346062\n",
      "-----------------------------------------------------\n",
      "-----------------------------------------------------\n",
      "R2: 0.9496255781758686\n",
      "MSE: 18.810014423637035\n",
      "MAE: 2.897887287506331\n",
      "RMSE: 4.337051351279696\n",
      "-----------------------------------------------------\n"
     ]
    }
   ],
   "source": [
    "rfr = RandomForestRegressor(max_depth=20, n_estimators=5000, random_state=42)\n",
    "rfr.fit(X_train, y_train)\n",
    "y_pred = evaluate(rfr, on=\"test\")\n",
    "y_pred_t = evaluate(rfr, on=\"train\")"
   ]
  },
  {
   "cell_type": "code",
   "execution_count": 31,
   "metadata": {},
   "outputs": [
    {
     "name": "stdout",
     "output_type": "stream",
     "text": [
      "-----------------------------------------------------\n",
      "R2: 0.7808477625159906\n",
      "MSE: 77.10392925522858\n",
      "MAE: 4.972703936817241\n",
      "RMSE: 8.780884309409194\n",
      "-----------------------------------------------------\n",
      "-----------------------------------------------------\n",
      "R2: 0.960914345475913\n",
      "MSE: 14.594742703392743\n",
      "MAE: 1.6454346102612163\n",
      "RMSE: 3.8203066242636523\n",
      "-----------------------------------------------------\n"
     ]
    }
   ],
   "source": [
    "hr = HistGradientBoostingRegressor(max_depth=30, max_iter=4000, learning_rate=0.1, max_leaf_nodes=None, random_state=42)\n",
    "hr.fit(X_train, y_train)\n",
    "y_pred = evaluate(hr, on=\"test\")\n",
    "y_pred_t = evaluate(hr, on=\"train\")"
   ]
  },
  {
   "cell_type": "code",
   "execution_count": 52,
   "metadata": {},
   "outputs": [
    {
     "name": "stdout",
     "output_type": "stream",
     "text": [
      "-----------------------------------------------------\n",
      "R2: 0.5923970749471805\n",
      "MSE: 143.40618858518383\n",
      "MAE: 9.001710172436413\n",
      "RMSE: 11.975232297754555\n",
      "-----------------------------------------------------\n",
      "-----------------------------------------------------\n",
      "R2: 0.6483821554259253\n",
      "MSE: 131.29553627706684\n",
      "MAE: 8.650465239083692\n",
      "RMSE: 11.458426431105924\n",
      "-----------------------------------------------------\n"
     ]
    }
   ],
   "source": [
    "rfr = RandomForestRegressor(max_depth=10, n_estimators=3000, random_state=42)\n",
    "rfr.fit(X_train, y_train)\n",
    "y_pred = evaluate(rfr, on=\"test\")\n",
    "y_pred_t = evaluate(rfr, on=\"train\")"
   ]
  },
  {
   "cell_type": "code",
   "execution_count": 35,
   "metadata": {},
   "outputs": [
    {
     "name": "stdout",
     "output_type": "stream",
     "text": [
      "svr On Test Set:\n",
      "R2: 0.8587907093645688\n",
      "MAE: 137.74941703270449\n",
      "RMSE: 255.50752140688238\n",
      "\n",
      "\n",
      "svr On Train Set:\n",
      "R2: 0.8514367193952317\n",
      "MAE: 134.092849309882\n",
      "RMSE: 247.25451472893542\n"
     ]
    }
   ],
   "source": [
    "svr = SVR(kernel=\"rbf\", C=1e3, gamma=0.2)\n",
    "svr.fit(X_train, y_train)\n",
    "y_pred = svr.predict(X_test)\n",
    "print(\"svr On Test Set:\")\n",
    "print(\"R2:\", r2_score(y_test, y_pred))\n",
    "print(\"MAE:\", mean_absolute_error(y_test, y_pred))\n",
    "print(\"RMSE:\", mean_squared_error(y_test, y_pred)**0.5)\n",
    "print(\"\\n\")\n",
    "print(\"svr On Train Set:\")\n",
    "y_pred_t = svr.predict(X_train)\n",
    "print(\"R2:\", r2_score(y_train, y_pred_t))\n",
    "print(\"MAE:\", mean_absolute_error(y_train, y_pred_t))\n",
    "print(\"RMSE:\", mean_squared_error(y_train, y_pred_t)**0.5)"
   ]
  },
  {
   "cell_type": "code",
   "execution_count": 38,
   "metadata": {},
   "outputs": [
    {
     "name": "stdout",
     "output_type": "stream",
     "text": [
      "XGBR On Test Set:\n",
      "R2: 0.9094067675501246\n",
      "MAE: 97.86719559986578\n",
      "RMSE: 204.65385576197573\n",
      "\n",
      "\n",
      "XGBR On Train Set:\n",
      "R2: 0.991287236873442\n",
      "MAE: 37.40795654774622\n",
      "RMSE: 59.877883827092134\n"
     ]
    }
   ],
   "source": [
    "xgbr = XGBRegressor(learning_rate=0.3, max_depth=4, n_estimators=1000, booster=\"gbtree\")\n",
    "xgbr.fit(X_train, y_train)\n",
    "y_pred = xgbr.predict(X_test)\n",
    "print(\"XGBR On Test Set:\")\n",
    "print(\"R2:\", r2_score(y_test, y_pred))\n",
    "print(\"MAE:\", mean_absolute_error(y_test, y_pred))\n",
    "print(\"RMSE:\", mean_squared_error(y_test, y_pred)**0.5)\n",
    "print(\"\\n\")\n",
    "print(\"XGBR On Train Set:\")\n",
    "y_pred_t = xgbr.predict(X_train)\n",
    "print(\"R2:\", r2_score(y_train, y_pred_t))\n",
    "print(\"MAE:\", mean_absolute_error(y_train, y_pred_t))\n",
    "print(\"RMSE:\", mean_squared_error(y_train, y_pred_t)**0.5)"
   ]
  },
  {
   "cell_type": "code",
   "execution_count": 21,
   "metadata": {},
   "outputs": [
    {
     "name": "stdout",
     "output_type": "stream",
     "text": [
      "XGBR On Test Set:\n",
      "R2: 0.9094067675501246\n",
      "MAE: 97.86719559986578\n",
      "MSE: 41883.20067824357\n",
      "\n",
      "\n",
      "XGBR On Train Set:\n",
      "R2: 0.991287236873442\n",
      "MAE: 37.40795654774622\n",
      "MSE: 3585.360971610742\n"
     ]
    }
   ],
   "source": [
    "import numpy as np\n",
    "y_pred = np.abs(xgbr.predict(X_test))\n",
    "print(\"XGBR On Test Set:\")\n",
    "print(\"R2:\", r2_score(y_test, y_pred))\n",
    "print(\"MAE:\", mean_absolute_error(y_test, y_pred))\n",
    "print(\"MSE:\", mean_squared_error(y_test, y_pred))\n",
    "print(\"\\n\")\n",
    "print(\"XGBR On Train Set:\")\n",
    "y_pred_t = np.abs(xgbr.predict(X_train))\n",
    "print(\"R2:\", r2_score(y_train, y_pred_t))\n",
    "print(\"MAE:\", mean_absolute_error(y_train, y_pred_t))\n",
    "print(\"MSE:\", mean_squared_error(y_train, y_pred_t))"
   ]
  },
  {
   "cell_type": "code",
   "execution_count": 15,
   "metadata": {},
   "outputs": [],
   "source": [
    "from sklearn.ensemble import VotingRegressor"
   ]
  },
  {
   "cell_type": "code",
   "execution_count": 16,
   "metadata": {},
   "outputs": [],
   "source": [
    "rfr = RandomForestRegressor(max_depth=20, n_estimators=4000, random_state=42)\n",
    "hr = HistGradientBoostingRegressor(max_depth=30, max_iter=4000, learning_rate=0.1, max_leaf_nodes=None, random_state=42)\n",
    "xgbr = XGBRegressor(n_estimators=1000, max_depth=10, learning_rate=0.05)\n",
    "gbr = GradientBoostingRegressor(n_estimators=3000, max_depth=5, learning_rate=0.05)"
   ]
  },
  {
   "cell_type": "code",
   "execution_count": 17,
   "metadata": {},
   "outputs": [
    {
     "data": {
      "text/plain": [
       "VotingRegressor(estimators=[('xgbr',\n",
       "                             XGBRegressor(base_score=None, booster=None,\n",
       "                                          colsample_bylevel=None,\n",
       "                                          colsample_bynode=None,\n",
       "                                          colsample_bytree=None,\n",
       "                                          enable_categorical=False, gamma=None,\n",
       "                                          gpu_id=None, importance_type=None,\n",
       "                                          interaction_constraints=None,\n",
       "                                          learning_rate=0.05,\n",
       "                                          max_delta_step=None, max_depth=10,\n",
       "                                          min_child_weight=None, missing=nan,\n",
       "                                          monotone_constraints=...\n",
       "                                          scale_pos_weight=None, subsample=None,\n",
       "                                          tree_method=None,\n",
       "                                          validate_parameters=None,\n",
       "                                          verbosity=None)),\n",
       "                            ('rfr',\n",
       "                             RandomForestRegressor(max_depth=20,\n",
       "                                                   n_estimators=4000,\n",
       "                                                   random_state=42)),\n",
       "                            ('hr',\n",
       "                             HistGradientBoostingRegressor(max_depth=30,\n",
       "                                                           max_iter=4000,\n",
       "                                                           max_leaf_nodes=None,\n",
       "                                                           random_state=42)),\n",
       "                            ('gbr',\n",
       "                             GradientBoostingRegressor(learning_rate=0.05,\n",
       "                                                       max_depth=5,\n",
       "                                                       n_estimators=3000))],\n",
       "                weights=[1, 1, 1, 1])"
      ]
     },
     "execution_count": 17,
     "metadata": {},
     "output_type": "execute_result"
    }
   ],
   "source": [
    "vr = VotingRegressor(\n",
    "    estimators=[\n",
    "        (\"xgbr\", xgbr),\n",
    "        (\"rfr\", rfr),\n",
    "        (\"hr\", hr),\n",
    "        (\"gbr\", gbr),\n",
    "    ],\n",
    "    weights=[1, 1, 1, 1],\n",
    ")\n",
    "vr.fit(X_train, y_train)"
   ]
  },
  {
   "cell_type": "code",
   "execution_count": 20,
   "metadata": {},
   "outputs": [
    {
     "name": "stdout",
     "output_type": "stream",
     "text": [
      "-----------------------------------------------------\n",
      "R2: 0.8107805006711655\n",
      "MSE: 66.57274895961203\n",
      "MAE: 4.840962669793544\n",
      "RMSE: 8.159212520801994\n",
      "-----------------------------------------------------\n",
      "-----------------------------------------------------\n",
      "R2: 0.9787192450717541\n",
      "MSE: 7.9463206256480525\n",
      "MAE: 1.8275398723851533\n",
      "RMSE: 2.818921890661047\n",
      "-----------------------------------------------------\n"
     ]
    }
   ],
   "source": [
    "_ =evaluate(vr, on=\"test\")\n",
    "_= evaluate(vr, on=\"train\")"
   ]
  },
  {
   "cell_type": "code",
   "execution_count": 69,
   "metadata": {},
   "outputs": [
    {
     "name": "stdout",
     "output_type": "stream",
     "text": [
      "-----------------------------------------------------\n",
      "R2: 0.8186822161361071\n",
      "MSE: 63.792702918565936\n",
      "MAE: 4.72033772660053\n",
      "RMSE: 7.9870334241547996\n",
      "-----------------------------------------------------\n",
      "-----------------------------------------------------\n",
      "R2: 0.9817414735926816\n",
      "MSE: 6.817808178028412\n",
      "MAE: 1.6848965482208873\n",
      "RMSE: 2.611093291712958\n",
      "-----------------------------------------------------\n"
     ]
    }
   ],
   "source": [
    "_ =evaluate(vr, on=\"test\")\n",
    "_= evaluate(vr, on=\"train\")"
   ]
  },
  {
   "cell_type": "code",
   "execution_count": 21,
   "metadata": {},
   "outputs": [],
   "source": [
    "preds = vr.predict(test_final)\n",
    "# preds = np.abs(preds)"
   ]
  },
  {
   "cell_type": "code",
   "execution_count": 22,
   "metadata": {},
   "outputs": [
    {
     "data": {
      "text/plain": [
       "(-0.8503780976472777, 83.53531627452894)"
      ]
     },
     "execution_count": 22,
     "metadata": {},
     "output_type": "execute_result"
    }
   ],
   "source": [
    "preds.min(), preds.max()"
   ]
  },
  {
   "cell_type": "code",
   "execution_count": 23,
   "metadata": {},
   "outputs": [],
   "source": [
    "sample = pd.read_csv('data/Sample__submission.csv')"
   ]
  },
  {
   "cell_type": "code",
   "execution_count": 24,
   "metadata": {},
   "outputs": [
    {
     "data": {
      "text/html": [
       "<div>\n",
       "<style scoped>\n",
       "    .dataframe tbody tr th:only-of-type {\n",
       "        vertical-align: middle;\n",
       "    }\n",
       "\n",
       "    .dataframe tbody tr th {\n",
       "        vertical-align: top;\n",
       "    }\n",
       "\n",
       "    .dataframe thead th {\n",
       "        text-align: right;\n",
       "    }\n",
       "</style>\n",
       "<table border=\"1\" class=\"dataframe\">\n",
       "  <thead>\n",
       "    <tr style=\"text-align: right;\">\n",
       "      <th></th>\n",
       "      <th>id</th>\n",
       "      <th>price1</th>\n",
       "    </tr>\n",
       "  </thead>\n",
       "  <tbody>\n",
       "    <tr>\n",
       "      <th>0</th>\n",
       "      <td>19841</td>\n",
       "      <td>193</td>\n",
       "    </tr>\n",
       "    <tr>\n",
       "      <th>1</th>\n",
       "      <td>19157</td>\n",
       "      <td>340</td>\n",
       "    </tr>\n",
       "    <tr>\n",
       "      <th>2</th>\n",
       "      <td>19445</td>\n",
       "      <td>637</td>\n",
       "    </tr>\n",
       "    <tr>\n",
       "      <th>3</th>\n",
       "      <td>8046</td>\n",
       "      <td>679</td>\n",
       "    </tr>\n",
       "    <tr>\n",
       "      <th>4</th>\n",
       "      <td>4571</td>\n",
       "      <td>190</td>\n",
       "    </tr>\n",
       "  </tbody>\n",
       "</table>\n",
       "</div>"
      ],
      "text/plain": [
       "      id  price1\n",
       "0  19841     193\n",
       "1  19157     340\n",
       "2  19445     637\n",
       "3   8046     679\n",
       "4   4571     190"
      ]
     },
     "execution_count": 24,
     "metadata": {},
     "output_type": "execute_result"
    }
   ],
   "source": [
    "sample.head()"
   ]
  },
  {
   "cell_type": "code",
   "execution_count": 25,
   "metadata": {},
   "outputs": [
    {
     "data": {
      "text/plain": [
       "0        999\n",
       "1        499\n",
       "2        999\n",
       "3       2999\n",
       "4        999\n",
       "        ... \n",
       "5239     699\n",
       "5240    1993\n",
       "5241     999\n",
       "5242     499\n",
       "5243     749\n",
       "Name: ActingPrice, Length: 5244, dtype: int64"
      ]
     },
     "execution_count": 25,
     "metadata": {},
     "output_type": "execute_result"
    }
   ],
   "source": [
    "act_price = test[\"ActingPrice\"]\n",
    "act_price"
   ]
  },
  {
   "cell_type": "code",
   "execution_count": 26,
   "metadata": {},
   "outputs": [
    {
     "data": {
      "text/html": [
       "<div>\n",
       "<style scoped>\n",
       "    .dataframe tbody tr th:only-of-type {\n",
       "        vertical-align: middle;\n",
       "    }\n",
       "\n",
       "    .dataframe tbody tr th {\n",
       "        vertical-align: top;\n",
       "    }\n",
       "\n",
       "    .dataframe thead th {\n",
       "        text-align: right;\n",
       "    }\n",
       "</style>\n",
       "<table border=\"1\" class=\"dataframe\">\n",
       "  <thead>\n",
       "    <tr style=\"text-align: right;\">\n",
       "      <th></th>\n",
       "      <th>id</th>\n",
       "      <th>price2</th>\n",
       "    </tr>\n",
       "  </thead>\n",
       "  <tbody>\n",
       "    <tr>\n",
       "      <th>0</th>\n",
       "      <td>2242</td>\n",
       "      <td>57.694691</td>\n",
       "    </tr>\n",
       "    <tr>\n",
       "      <th>1</th>\n",
       "      <td>20532</td>\n",
       "      <td>43.275732</td>\n",
       "    </tr>\n",
       "    <tr>\n",
       "      <th>2</th>\n",
       "      <td>10648</td>\n",
       "      <td>54.217753</td>\n",
       "    </tr>\n",
       "    <tr>\n",
       "      <th>3</th>\n",
       "      <td>20677</td>\n",
       "      <td>67.184241</td>\n",
       "    </tr>\n",
       "    <tr>\n",
       "      <th>4</th>\n",
       "      <td>12593</td>\n",
       "      <td>60.013047</td>\n",
       "    </tr>\n",
       "    <tr>\n",
       "      <th>...</th>\n",
       "      <td>...</td>\n",
       "      <td>...</td>\n",
       "    </tr>\n",
       "    <tr>\n",
       "      <th>5239</th>\n",
       "      <td>14033</td>\n",
       "      <td>50.730786</td>\n",
       "    </tr>\n",
       "    <tr>\n",
       "      <th>5240</th>\n",
       "      <td>297</td>\n",
       "      <td>49.820553</td>\n",
       "    </tr>\n",
       "    <tr>\n",
       "      <th>5241</th>\n",
       "      <td>18733</td>\n",
       "      <td>60.695086</td>\n",
       "    </tr>\n",
       "    <tr>\n",
       "      <th>5242</th>\n",
       "      <td>6162</td>\n",
       "      <td>59.024062</td>\n",
       "    </tr>\n",
       "    <tr>\n",
       "      <th>5243</th>\n",
       "      <td>13574</td>\n",
       "      <td>-0.006859</td>\n",
       "    </tr>\n",
       "  </tbody>\n",
       "</table>\n",
       "<p>5244 rows × 2 columns</p>\n",
       "</div>"
      ],
      "text/plain": [
       "         id     price2\n",
       "0      2242  57.694691\n",
       "1     20532  43.275732\n",
       "2     10648  54.217753\n",
       "3     20677  67.184241\n",
       "4     12593  60.013047\n",
       "...     ...        ...\n",
       "5239  14033  50.730786\n",
       "5240    297  49.820553\n",
       "5241  18733  60.695086\n",
       "5242   6162  59.024062\n",
       "5243  13574  -0.006859\n",
       "\n",
       "[5244 rows x 2 columns]"
      ]
     },
     "execution_count": 26,
     "metadata": {},
     "output_type": "execute_result"
    }
   ],
   "source": [
    "sub = pd.DataFrame({\"id\": test_id, \"price2\": preds})\n",
    "sub"
   ]
  },
  {
   "cell_type": "code",
   "execution_count": 27,
   "metadata": {},
   "outputs": [
    {
     "data": {
      "text/html": [
       "<div>\n",
       "<style scoped>\n",
       "    .dataframe tbody tr th:only-of-type {\n",
       "        vertical-align: middle;\n",
       "    }\n",
       "\n",
       "    .dataframe tbody tr th {\n",
       "        vertical-align: top;\n",
       "    }\n",
       "\n",
       "    .dataframe thead th {\n",
       "        text-align: right;\n",
       "    }\n",
       "</style>\n",
       "<table border=\"1\" class=\"dataframe\">\n",
       "  <thead>\n",
       "    <tr style=\"text-align: right;\">\n",
       "      <th></th>\n",
       "      <th>id</th>\n",
       "      <th>price2</th>\n",
       "    </tr>\n",
       "  </thead>\n",
       "  <tbody>\n",
       "    <tr>\n",
       "      <th>0</th>\n",
       "      <td>2242</td>\n",
       "      <td>422</td>\n",
       "    </tr>\n",
       "    <tr>\n",
       "      <th>1</th>\n",
       "      <td>20532</td>\n",
       "      <td>283</td>\n",
       "    </tr>\n",
       "    <tr>\n",
       "      <th>2</th>\n",
       "      <td>10648</td>\n",
       "      <td>457</td>\n",
       "    </tr>\n",
       "    <tr>\n",
       "      <th>3</th>\n",
       "      <td>20677</td>\n",
       "      <td>984</td>\n",
       "    </tr>\n",
       "    <tr>\n",
       "      <th>4</th>\n",
       "      <td>12593</td>\n",
       "      <td>399</td>\n",
       "    </tr>\n",
       "  </tbody>\n",
       "</table>\n",
       "</div>"
      ],
      "text/plain": [
       "      id  price2\n",
       "0   2242     422\n",
       "1  20532     283\n",
       "2  10648     457\n",
       "3  20677     984\n",
       "4  12593     399"
      ]
     },
     "execution_count": 27,
     "metadata": {},
     "output_type": "execute_result"
    }
   ],
   "source": [
    "sub[\"price2\"] = (act_price-sub[\"price2\"]*act_price/100).astype(int)\n",
    "sub.head()"
   ]
  },
  {
   "cell_type": "code",
   "execution_count": 28,
   "metadata": {},
   "outputs": [
    {
     "data": {
      "text/html": [
       "<div>\n",
       "<style scoped>\n",
       "    .dataframe tbody tr th:only-of-type {\n",
       "        vertical-align: middle;\n",
       "    }\n",
       "\n",
       "    .dataframe tbody tr th {\n",
       "        vertical-align: top;\n",
       "    }\n",
       "\n",
       "    .dataframe thead th {\n",
       "        text-align: right;\n",
       "    }\n",
       "</style>\n",
       "<table border=\"1\" class=\"dataframe\">\n",
       "  <thead>\n",
       "    <tr style=\"text-align: right;\">\n",
       "      <th></th>\n",
       "      <th>id</th>\n",
       "      <th>price1</th>\n",
       "    </tr>\n",
       "  </thead>\n",
       "  <tbody>\n",
       "    <tr>\n",
       "      <th>0</th>\n",
       "      <td>19841</td>\n",
       "      <td>773</td>\n",
       "    </tr>\n",
       "    <tr>\n",
       "      <th>1</th>\n",
       "      <td>19157</td>\n",
       "      <td>657</td>\n",
       "    </tr>\n",
       "    <tr>\n",
       "      <th>2</th>\n",
       "      <td>19445</td>\n",
       "      <td>199</td>\n",
       "    </tr>\n",
       "    <tr>\n",
       "      <th>3</th>\n",
       "      <td>8046</td>\n",
       "      <td>399</td>\n",
       "    </tr>\n",
       "    <tr>\n",
       "      <th>4</th>\n",
       "      <td>4571</td>\n",
       "      <td>1418</td>\n",
       "    </tr>\n",
       "  </tbody>\n",
       "</table>\n",
       "</div>"
      ],
      "text/plain": [
       "      id  price1\n",
       "0  19841     773\n",
       "1  19157     657\n",
       "2  19445     199\n",
       "3   8046     399\n",
       "4   4571    1418"
      ]
     },
     "execution_count": 28,
     "metadata": {},
     "output_type": "execute_result"
    }
   ],
   "source": [
    "sub = pd.merge(sample, sub, on=\"id\")\n",
    "sub.drop(\"price1\", axis=1, inplace=True)\n",
    "sub.columns = [\"id\", \"price1\"]\n",
    "sub.head()"
   ]
  },
  {
   "cell_type": "code",
   "execution_count": 29,
   "metadata": {},
   "outputs": [],
   "source": [
    "def get_good_price(price):\n",
    "    if price < 0:\n",
    "        price = np.abs(price)\n",
    "    price_str = str(price)\n",
    "    if len(price_str) <=2:\n",
    "        return price\n",
    "    last_digit = price_str[-1]\n",
    "    last_last_digit = price_str[-2]\n",
    "    other_digits = price_str[:-2]\n",
    "    if int(last_digit)>=5:\n",
    "        last_digit = 9\n",
    "    else:\n",
    "        last_digit = 9\n",
    "        if last_last_digit == \"0\":\n",
    "            last_digit = 0\n",
    "            last_last_digit = 0\n",
    "        else:\n",
    "            last_last_digit = int(last_last_digit) - 1\n",
    "    new_price = int(other_digits + str(last_last_digit) + str(last_digit))\n",
    "    return new_price"
   ]
  },
  {
   "cell_type": "code",
   "execution_count": 30,
   "metadata": {},
   "outputs": [],
   "source": [
    "sub[\"price1\"] = sub[\"price1\"].apply(get_good_price)"
   ]
  },
  {
   "cell_type": "code",
   "execution_count": 31,
   "metadata": {},
   "outputs": [],
   "source": [
    "sub.to_csv(\"data/submission_using_offer.csv\", index=False)"
   ]
  },
  {
   "cell_type": "code",
   "execution_count": 32,
   "metadata": {},
   "outputs": [
    {
     "name": "stdout",
     "output_type": "stream",
     "text": [
      "/bin/bash: line 1: kaggle: command not found\n"
     ]
    }
   ],
   "source": [
    "!kaggle competitions submit -c sa2022 -f data/submission_using_offer.csv -m \"\""
   ]
  },
  {
   "cell_type": "code",
   "execution_count": 33,
   "metadata": {},
   "outputs": [],
   "source": [
    "import tensorflow as tf\n",
    "import tensorflow.keras.layers as tfl\n",
    "from tensorflow.keras.models import Model"
   ]
  },
  {
   "cell_type": "code",
   "execution_count": 35,
   "metadata": {},
   "outputs": [
    {
     "data": {
      "text/plain": [
       "(14157, 33)"
      ]
     },
     "execution_count": 35,
     "metadata": {},
     "output_type": "execute_result"
    }
   ],
   "source": [
    "X_train.shape"
   ]
  },
  {
   "cell_type": "code",
   "execution_count": 53,
   "metadata": {},
   "outputs": [
    {
     "name": "stdout",
     "output_type": "stream",
     "text": [
      "Model: \"model_5\"\n",
      "_________________________________________________________________\n",
      " Layer (type)                Output Shape              Param #   \n",
      "=================================================================\n",
      " input_6 (InputLayer)        [(None, 33)]              0         \n",
      "                                                                 \n",
      " dense_23 (Dense)            (None, 100)               3400      \n",
      "                                                                 \n",
      " dense_24 (Dense)            (None, 200)               20200     \n",
      "                                                                 \n",
      " dense_25 (Dense)            (None, 300)               60300     \n",
      "                                                                 \n",
      " dense_26 (Dense)            (None, 400)               120400    \n",
      "                                                                 \n",
      " dense_27 (Dense)            (None, 100)               40100     \n",
      "                                                                 \n",
      " dense_28 (Dense)            (None, 1)                 101       \n",
      "                                                                 \n",
      "=================================================================\n",
      "Total params: 244,501\n",
      "Trainable params: 244,501\n",
      "Non-trainable params: 0\n",
      "_________________________________________________________________\n"
     ]
    }
   ],
   "source": [
    "input = tfl.Input(shape=(X_train.shape[1],))\n",
    "x = tfl.Dense(100, activation=\"relu\")(input)\n",
    "x = tfl.Dense(200, activation=\"relu\")(x)\n",
    "x = tfl.Dense(300, activation=\"relu\")(x)\n",
    "x = tfl.Dense(400, activation=\"relu\")(x)\n",
    "x = tfl.Dense(100, activation=\"relu\")(x)\n",
    "output = tfl.Dense(1, activation=\"linear\")(x)\n",
    "model = Model(inputs=input, outputs=output)\n",
    "model.compile(optimizer=\"adam\", loss=\"mse\")\n",
    "model.summary()"
   ]
  },
  {
   "cell_type": "code",
   "execution_count": 58,
   "metadata": {},
   "outputs": [],
   "source": [
    "history = model.fit(X_train, y_train, epochs=100, validation_data=(X_test, y_test), verbose=0)"
   ]
  },
  {
   "cell_type": "code",
   "execution_count": 59,
   "metadata": {},
   "outputs": [
    {
     "name": "stdout",
     "output_type": "stream",
     "text": [
      "50/50 [==============================] - 0s 4ms/step - loss: 120.9154\n"
     ]
    },
    {
     "data": {
      "text/plain": [
       "120.91536712646484"
      ]
     },
     "execution_count": 59,
     "metadata": {},
     "output_type": "execute_result"
    }
   ],
   "source": [
    "model.evaluate(X_test, y_test)"
   ]
  },
  {
   "cell_type": "code",
   "execution_count": 60,
   "metadata": {},
   "outputs": [
    {
     "name": "stdout",
     "output_type": "stream",
     "text": [
      "443/443 [==============================] - 1s 2ms/step - loss: 68.6097\n"
     ]
    },
    {
     "data": {
      "text/plain": [
       "68.60972595214844"
      ]
     },
     "execution_count": 60,
     "metadata": {},
     "output_type": "execute_result"
    }
   ],
   "source": [
    "model.evaluate(X_train, y_train)"
   ]
  },
  {
   "cell_type": "code",
   "execution_count": 61,
   "metadata": {},
   "outputs": [
    {
     "data": {
      "text/plain": [
       "<AxesSubplot:>"
      ]
     },
     "execution_count": 61,
     "metadata": {},
     "output_type": "execute_result"
    },
    {
     "data": {
      "image/png": "[encoded data removed]",
      "text/plain": [
       "<Figure size 864x864 with 1 Axes>"
      ]
     },
     "metadata": {
      "needs_background": "light"
     },
     "output_type": "display_data"
    }
   ],
   "source": [
    "import pandas as pd\n",
    "pd.DataFrame(history.history).plot(figsize=(12, 12))"
   ]
  },
  {
   "cell_type": "code",
   "execution_count": null,
   "metadata": {},
   "outputs": [],
   "source": []
  }
 ],
 "metadata": {
  "kernelspec": {
   "display_name": "Python 3.7.13 ('data-science')",
   "language": "python",
   "name": "python3"
  },
  "language_info": {
   "codemirror_mode": {
    "name": "ipython",
    "version": 3
   },
   "file_extension": ".py",
   "mimetype": "text/x-python",
   "name": "python",
   "nbconvert_exporter": "python",
   "pygments_lexer": "ipython3",
   "version": "3.7.13"
  },
  "orig_nbformat": 4,
  "vscode": {
   "interpreter": {
    "hash": "2efee1efa502125d01e6b4768ba06d9453d29f3642bfd14ad5d4a769de82e88c"
   }
  }
 },
 "nbformat": 4,
 "nbformat_minor": 2
}
