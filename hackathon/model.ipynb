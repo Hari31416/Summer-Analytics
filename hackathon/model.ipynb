{
 "cells": [
  {
   "cell_type": "code",
   "execution_count": 32,
   "metadata": {},
   "outputs": [],
   "source": [
    "import pandas as pd\n",
    "import numpy as np\n",
    "from sklearn.preprocessing import LabelEncoder, OneHotEncoder\n",
    "from sklearn.model_selection import train_test_split\n",
    "from sklearn.preprocessing import StandardScaler\n",
    "from sklearn.linear_model import LinearRegression, ElasticNet\n",
    "from sklearn.metrics import mean_squared_error, r2_score, mean_absolute_error\n",
    "from sklearn.tree import DecisionTreeRegressor\n",
    "from sklearn.ensemble import RandomForestRegressor, GradientBoostingRegressor\n",
    "from sklearn.svm import SVR\n",
    "from sklearn.neighbors import KNeighborsRegressor\n",
    "from sklearn.pipeline import Pipeline\n",
    "from sklearn.compose import ColumnTransformer\n",
    "from xgboost import XGBRegressor"
   ]
  },
  {
   "cell_type": "code",
   "execution_count": 4,
   "metadata": {},
   "outputs": [],
   "source": [
    "train = pd.read_csv(\"data/train_prepared.csv\")\n",
    "test = pd.read_csv(\"data/test_prepared.csv\")"
   ]
  },
  {
   "cell_type": "code",
   "execution_count": 5,
   "metadata": {},
   "outputs": [
    {
     "data": {
      "text/html": [
       "<div>\n",
       "<style scoped>\n",
       "    .dataframe tbody tr th:only-of-type {\n",
       "        vertical-align: middle;\n",
       "    }\n",
       "\n",
       "    .dataframe tbody tr th {\n",
       "        vertical-align: top;\n",
       "    }\n",
       "\n",
       "    .dataframe thead th {\n",
       "        text-align: right;\n",
       "    }\n",
       "</style>\n",
       "<table border=\"1\" class=\"dataframe\">\n",
       "  <thead>\n",
       "    <tr style=\"text-align: right;\">\n",
       "      <th></th>\n",
       "      <th>count</th>\n",
       "      <th>mean</th>\n",
       "      <th>std</th>\n",
       "      <th>min</th>\n",
       "      <th>25%</th>\n",
       "      <th>50%</th>\n",
       "      <th>75%</th>\n",
       "      <th>max</th>\n",
       "    </tr>\n",
       "  </thead>\n",
       "  <tbody>\n",
       "    <tr>\n",
       "      <th>ID</th>\n",
       "      <td>15730.0</td>\n",
       "      <td>10479.541577</td>\n",
       "      <td>6080.166276</td>\n",
       "      <td>3.0</td>\n",
       "      <td>5212.00</td>\n",
       "      <td>10458.50</td>\n",
       "      <td>15766.75</td>\n",
       "      <td>20973.00</td>\n",
       "    </tr>\n",
       "    <tr>\n",
       "      <th>Rating</th>\n",
       "      <td>15730.0</td>\n",
       "      <td>4.012873</td>\n",
       "      <td>0.298440</td>\n",
       "      <td>0.0</td>\n",
       "      <td>3.90</td>\n",
       "      <td>4.00</td>\n",
       "      <td>4.20</td>\n",
       "      <td>5.00</td>\n",
       "    </tr>\n",
       "    <tr>\n",
       "      <th>ActingPrice</th>\n",
       "      <td>15730.0</td>\n",
       "      <td>1369.286777</td>\n",
       "      <td>1240.900227</td>\n",
       "      <td>42.0</td>\n",
       "      <td>699.00</td>\n",
       "      <td>999.00</td>\n",
       "      <td>1299.00</td>\n",
       "      <td>13499.00</td>\n",
       "    </tr>\n",
       "    <tr>\n",
       "      <th>Offer</th>\n",
       "      <td>15730.0</td>\n",
       "      <td>46.802491</td>\n",
       "      <td>19.268675</td>\n",
       "      <td>0.0</td>\n",
       "      <td>35.94</td>\n",
       "      <td>50.07</td>\n",
       "      <td>60.16</td>\n",
       "      <td>88.93</td>\n",
       "    </tr>\n",
       "    <tr>\n",
       "      <th>NumberOfRatings</th>\n",
       "      <td>15730.0</td>\n",
       "      <td>3074.681055</td>\n",
       "      <td>11915.323486</td>\n",
       "      <td>0.0</td>\n",
       "      <td>64.00</td>\n",
       "      <td>311.00</td>\n",
       "      <td>1527.75</td>\n",
       "      <td>289973.00</td>\n",
       "    </tr>\n",
       "    <tr>\n",
       "      <th>NumberOfReviews</th>\n",
       "      <td>15730.0</td>\n",
       "      <td>426.252702</td>\n",
       "      <td>1753.202101</td>\n",
       "      <td>0.0</td>\n",
       "      <td>9.00</td>\n",
       "      <td>44.00</td>\n",
       "      <td>215.00</td>\n",
       "      <td>45448.00</td>\n",
       "    </tr>\n",
       "    <tr>\n",
       "      <th>5Star</th>\n",
       "      <td>15730.0</td>\n",
       "      <td>1599.965035</td>\n",
       "      <td>6233.811271</td>\n",
       "      <td>0.0</td>\n",
       "      <td>30.00</td>\n",
       "      <td>153.00</td>\n",
       "      <td>789.00</td>\n",
       "      <td>151193.00</td>\n",
       "    </tr>\n",
       "    <tr>\n",
       "      <th>4Star</th>\n",
       "      <td>15730.0</td>\n",
       "      <td>662.491545</td>\n",
       "      <td>2843.657075</td>\n",
       "      <td>0.0</td>\n",
       "      <td>12.00</td>\n",
       "      <td>61.00</td>\n",
       "      <td>304.00</td>\n",
       "      <td>74037.00</td>\n",
       "    </tr>\n",
       "    <tr>\n",
       "      <th>3Star</th>\n",
       "      <td>15730.0</td>\n",
       "      <td>360.168023</td>\n",
       "      <td>1416.859022</td>\n",
       "      <td>0.0</td>\n",
       "      <td>7.00</td>\n",
       "      <td>34.00</td>\n",
       "      <td>172.00</td>\n",
       "      <td>34978.00</td>\n",
       "    </tr>\n",
       "    <tr>\n",
       "      <th>2Star</th>\n",
       "      <td>15730.0</td>\n",
       "      <td>155.085188</td>\n",
       "      <td>558.650254</td>\n",
       "      <td>0.0</td>\n",
       "      <td>3.00</td>\n",
       "      <td>17.00</td>\n",
       "      <td>77.00</td>\n",
       "      <td>11705.00</td>\n",
       "    </tr>\n",
       "    <tr>\n",
       "      <th>1Star</th>\n",
       "      <td>15730.0</td>\n",
       "      <td>275.500572</td>\n",
       "      <td>958.589075</td>\n",
       "      <td>0.0</td>\n",
       "      <td>6.00</td>\n",
       "      <td>30.00</td>\n",
       "      <td>140.00</td>\n",
       "      <td>18060.00</td>\n",
       "    </tr>\n",
       "    <tr>\n",
       "      <th>Fulfilled</th>\n",
       "      <td>15730.0</td>\n",
       "      <td>0.601526</td>\n",
       "      <td>0.489600</td>\n",
       "      <td>0.0</td>\n",
       "      <td>0.00</td>\n",
       "      <td>1.00</td>\n",
       "      <td>1.00</td>\n",
       "      <td>1.00</td>\n",
       "    </tr>\n",
       "  </tbody>\n",
       "</table>\n",
       "</div>"
      ],
      "text/plain": [
       "                   count          mean           std   min      25%       50%  \\\n",
       "ID               15730.0  10479.541577   6080.166276   3.0  5212.00  10458.50   \n",
       "Rating           15730.0      4.012873      0.298440   0.0     3.90      4.00   \n",
       "ActingPrice      15730.0   1369.286777   1240.900227  42.0   699.00    999.00   \n",
       "Offer            15730.0     46.802491     19.268675   0.0    35.94     50.07   \n",
       "NumberOfRatings  15730.0   3074.681055  11915.323486   0.0    64.00    311.00   \n",
       "NumberOfReviews  15730.0    426.252702   1753.202101   0.0     9.00     44.00   \n",
       "5Star            15730.0   1599.965035   6233.811271   0.0    30.00    153.00   \n",
       "4Star            15730.0    662.491545   2843.657075   0.0    12.00     61.00   \n",
       "3Star            15730.0    360.168023   1416.859022   0.0     7.00     34.00   \n",
       "2Star            15730.0    155.085188    558.650254   0.0     3.00     17.00   \n",
       "1Star            15730.0    275.500572    958.589075   0.0     6.00     30.00   \n",
       "Fulfilled        15730.0      0.601526      0.489600   0.0     0.00      1.00   \n",
       "\n",
       "                      75%        max  \n",
       "ID               15766.75   20973.00  \n",
       "Rating               4.20       5.00  \n",
       "ActingPrice       1299.00   13499.00  \n",
       "Offer               60.16      88.93  \n",
       "NumberOfRatings   1527.75  289973.00  \n",
       "NumberOfReviews    215.00   45448.00  \n",
       "5Star              789.00  151193.00  \n",
       "4Star              304.00   74037.00  \n",
       "3Star              172.00   34978.00  \n",
       "2Star               77.00   11705.00  \n",
       "1Star              140.00   18060.00  \n",
       "Fulfilled            1.00       1.00  "
      ]
     },
     "execution_count": 5,
     "metadata": {},
     "output_type": "execute_result"
    }
   ],
   "source": [
    "train.describe().T"
   ]
  },
  {
   "cell_type": "code",
   "execution_count": 6,
   "metadata": {},
   "outputs": [
    {
     "data": {
      "text/html": [
       "<div>\n",
       "<style scoped>\n",
       "    .dataframe tbody tr th:only-of-type {\n",
       "        vertical-align: middle;\n",
       "    }\n",
       "\n",
       "    .dataframe tbody tr th {\n",
       "        vertical-align: top;\n",
       "    }\n",
       "\n",
       "    .dataframe thead th {\n",
       "        text-align: right;\n",
       "    }\n",
       "</style>\n",
       "<table border=\"1\" class=\"dataframe\">\n",
       "  <thead>\n",
       "    <tr style=\"text-align: right;\">\n",
       "      <th></th>\n",
       "      <th>count</th>\n",
       "      <th>mean</th>\n",
       "      <th>std</th>\n",
       "      <th>min</th>\n",
       "      <th>25%</th>\n",
       "      <th>50%</th>\n",
       "      <th>75%</th>\n",
       "      <th>max</th>\n",
       "    </tr>\n",
       "  </thead>\n",
       "  <tbody>\n",
       "    <tr>\n",
       "      <th>ID</th>\n",
       "      <td>5244.0</td>\n",
       "      <td>10507.372616</td>\n",
       "      <td>5978.658892</td>\n",
       "      <td>0.0</td>\n",
       "      <td>5286.75</td>\n",
       "      <td>10561.5</td>\n",
       "      <td>15636.75</td>\n",
       "      <td>20964.0</td>\n",
       "    </tr>\n",
       "    <tr>\n",
       "      <th>Rating</th>\n",
       "      <td>5244.0</td>\n",
       "      <td>4.015580</td>\n",
       "      <td>0.311346</td>\n",
       "      <td>0.0</td>\n",
       "      <td>3.90</td>\n",
       "      <td>4.0</td>\n",
       "      <td>4.20</td>\n",
       "      <td>5.0</td>\n",
       "    </tr>\n",
       "    <tr>\n",
       "      <th>ActingPrice</th>\n",
       "      <td>5244.0</td>\n",
       "      <td>1378.657895</td>\n",
       "      <td>1280.630070</td>\n",
       "      <td>139.0</td>\n",
       "      <td>699.00</td>\n",
       "      <td>999.0</td>\n",
       "      <td>1299.00</td>\n",
       "      <td>15999.0</td>\n",
       "    </tr>\n",
       "    <tr>\n",
       "      <th>NumberOfRatings</th>\n",
       "      <td>5244.0</td>\n",
       "      <td>2988.580092</td>\n",
       "      <td>12881.253715</td>\n",
       "      <td>1.0</td>\n",
       "      <td>66.00</td>\n",
       "      <td>307.0</td>\n",
       "      <td>1428.00</td>\n",
       "      <td>289973.0</td>\n",
       "    </tr>\n",
       "    <tr>\n",
       "      <th>NumberOfReviews</th>\n",
       "      <td>5244.0</td>\n",
       "      <td>415.491037</td>\n",
       "      <td>1910.726669</td>\n",
       "      <td>0.0</td>\n",
       "      <td>9.00</td>\n",
       "      <td>44.0</td>\n",
       "      <td>214.25</td>\n",
       "      <td>45448.0</td>\n",
       "    </tr>\n",
       "    <tr>\n",
       "      <th>5Star</th>\n",
       "      <td>5244.0</td>\n",
       "      <td>1545.586003</td>\n",
       "      <td>6544.085444</td>\n",
       "      <td>0.0</td>\n",
       "      <td>32.00</td>\n",
       "      <td>156.0</td>\n",
       "      <td>756.50</td>\n",
       "      <td>151193.0</td>\n",
       "    </tr>\n",
       "    <tr>\n",
       "      <th>4Star</th>\n",
       "      <td>5244.0</td>\n",
       "      <td>639.785469</td>\n",
       "      <td>2991.065223</td>\n",
       "      <td>0.0</td>\n",
       "      <td>12.00</td>\n",
       "      <td>61.0</td>\n",
       "      <td>310.25</td>\n",
       "      <td>74037.0</td>\n",
       "    </tr>\n",
       "    <tr>\n",
       "      <th>3Star</th>\n",
       "      <td>5244.0</td>\n",
       "      <td>356.356789</td>\n",
       "      <td>1632.732834</td>\n",
       "      <td>0.0</td>\n",
       "      <td>7.00</td>\n",
       "      <td>34.0</td>\n",
       "      <td>166.00</td>\n",
       "      <td>49924.0</td>\n",
       "    </tr>\n",
       "    <tr>\n",
       "      <th>2Star</th>\n",
       "      <td>5244.0</td>\n",
       "      <td>154.139969</td>\n",
       "      <td>611.006799</td>\n",
       "      <td>0.0</td>\n",
       "      <td>3.00</td>\n",
       "      <td>16.0</td>\n",
       "      <td>75.00</td>\n",
       "      <td>12629.0</td>\n",
       "    </tr>\n",
       "    <tr>\n",
       "      <th>1Star</th>\n",
       "      <td>5244.0</td>\n",
       "      <td>260.807018</td>\n",
       "      <td>1017.789008</td>\n",
       "      <td>0.0</td>\n",
       "      <td>5.00</td>\n",
       "      <td>26.0</td>\n",
       "      <td>120.25</td>\n",
       "      <td>23139.0</td>\n",
       "    </tr>\n",
       "    <tr>\n",
       "      <th>Fulfilled</th>\n",
       "      <td>5244.0</td>\n",
       "      <td>0.604500</td>\n",
       "      <td>0.489004</td>\n",
       "      <td>0.0</td>\n",
       "      <td>0.00</td>\n",
       "      <td>1.0</td>\n",
       "      <td>1.00</td>\n",
       "      <td>1.0</td>\n",
       "    </tr>\n",
       "  </tbody>\n",
       "</table>\n",
       "</div>"
      ],
      "text/plain": [
       "                  count          mean           std    min      25%      50%  \\\n",
       "ID               5244.0  10507.372616   5978.658892    0.0  5286.75  10561.5   \n",
       "Rating           5244.0      4.015580      0.311346    0.0     3.90      4.0   \n",
       "ActingPrice      5244.0   1378.657895   1280.630070  139.0   699.00    999.0   \n",
       "NumberOfRatings  5244.0   2988.580092  12881.253715    1.0    66.00    307.0   \n",
       "NumberOfReviews  5244.0    415.491037   1910.726669    0.0     9.00     44.0   \n",
       "5Star            5244.0   1545.586003   6544.085444    0.0    32.00    156.0   \n",
       "4Star            5244.0    639.785469   2991.065223    0.0    12.00     61.0   \n",
       "3Star            5244.0    356.356789   1632.732834    0.0     7.00     34.0   \n",
       "2Star            5244.0    154.139969    611.006799    0.0     3.00     16.0   \n",
       "1Star            5244.0    260.807018   1017.789008    0.0     5.00     26.0   \n",
       "Fulfilled        5244.0      0.604500      0.489004    0.0     0.00      1.0   \n",
       "\n",
       "                      75%       max  \n",
       "ID               15636.75   20964.0  \n",
       "Rating               4.20       5.0  \n",
       "ActingPrice       1299.00   15999.0  \n",
       "NumberOfRatings   1428.00  289973.0  \n",
       "NumberOfReviews    214.25   45448.0  \n",
       "5Star              756.50  151193.0  \n",
       "4Star              310.25   74037.0  \n",
       "3Star              166.00   49924.0  \n",
       "2Star               75.00   12629.0  \n",
       "1Star              120.25   23139.0  \n",
       "Fulfilled            1.00       1.0  "
      ]
     },
     "execution_count": 6,
     "metadata": {},
     "output_type": "execute_result"
    }
   ],
   "source": [
    "test.describe().T"
   ]
  },
  {
   "cell_type": "code",
   "execution_count": 7,
   "metadata": {},
   "outputs": [
    {
     "data": {
      "text/plain": [
       "ID                   int64\n",
       "Rating             float64\n",
       "MainCategory        object\n",
       "Plateform           object\n",
       "ActingPrice          int64\n",
       "Offer              float64\n",
       "NumberOfRatings    float64\n",
       "NumberOfReviews    float64\n",
       "5Star              float64\n",
       "4Star              float64\n",
       "3Star              float64\n",
       "2Star                int64\n",
       "1Star                int64\n",
       "Fulfilled            int64\n",
       "Combo                 bool\n",
       "Category            object\n",
       "dtype: object"
      ]
     },
     "execution_count": 7,
     "metadata": {},
     "output_type": "execute_result"
    }
   ],
   "source": [
    "train.dtypes"
   ]
  },
  {
   "cell_type": "code",
   "execution_count": 8,
   "metadata": {},
   "outputs": [
    {
     "data": {
      "text/plain": [
       "Index(['ID', 'Rating', 'MainCategory', 'Plateform', 'ActingPrice', 'Offer',\n",
       "       'NumberOfRatings', 'NumberOfReviews', '5Star', '4Star', '3Star',\n",
       "       '2Star', '1Star', 'Fulfilled', 'Combo', 'Category'],\n",
       "      dtype='object')"
      ]
     },
     "execution_count": 8,
     "metadata": {},
     "output_type": "execute_result"
    }
   ],
   "source": [
    "train.columns"
   ]
  },
  {
   "cell_type": "code",
   "execution_count": 9,
   "metadata": {},
   "outputs": [],
   "source": [
    "train.drop(\"ID\", axis=1, inplace=True)\n",
    "test_id = test.ID\n",
    "test.drop(\"ID\", axis=1, inplace=True)\n",
    "\n",
    "X = train.drop([\"Offer\"], axis=1)\n",
    "y = train[\"Offer\"]\n",
    "assert X.shape[1] == test.shape[1], \"X and test have different number of columns\""
   ]
  },
  {
   "cell_type": "code",
   "execution_count": 10,
   "metadata": {},
   "outputs": [],
   "source": [
    "columns_to_one_hot = [\"MainCategory\", \"Category\", \"Plateform\", \"Combo\"]\n",
    "columns_to_standardize = [\"ActingPrice\", 'NumberOfRatings', 'NumberOfReviews', '5Star', \n",
    "    '4Star', '3Star', '2Star', '1Star',]"
   ]
  },
  {
   "cell_type": "code",
   "execution_count": 13,
   "metadata": {},
   "outputs": [],
   "source": [
    "X_train, X_test, y_train, y_test = train_test_split(X, y, test_size=0.1, random_state=42)"
   ]
  },
  {
   "cell_type": "code",
   "execution_count": 14,
   "metadata": {},
   "outputs": [
    {
     "data": {
      "text/plain": [
       "(14157, 1573)"
      ]
     },
     "execution_count": 14,
     "metadata": {},
     "output_type": "execute_result"
    }
   ],
   "source": [
    "len(X_train),len(X_test)"
   ]
  },
  {
   "cell_type": "code",
   "execution_count": 15,
   "metadata": {},
   "outputs": [],
   "source": [
    "label_encoder = LabelEncoder()\n",
    "one_hot_encoder = OneHotEncoder(sparse=False)\n",
    "standardizer = StandardScaler()\n",
    "\n",
    "preprocessor = ColumnTransformer(\n",
    "    [\n",
    "        (\"one_hot_encoder\", one_hot_encoder, columns_to_one_hot),\n",
    "        (\"standardizer\", standardizer, columns_to_standardize)],\n",
    "    remainder=\"passthrough\"\n",
    ")"
   ]
  },
  {
   "cell_type": "code",
   "execution_count": 16,
   "metadata": {},
   "outputs": [],
   "source": [
    "preprocessor.fit(X_train)\n",
    "X_train = preprocessor.transform(X_train)\n",
    "X_test = preprocessor.transform(X_test)\n",
    "test_final = preprocessor.transform(test)"
   ]
  },
  {
   "cell_type": "code",
   "execution_count": 18,
   "metadata": {},
   "outputs": [],
   "source": [
    "assert X_train.shape[1] == test_final.shape[1], \"X_train and test have different number of columns\""
   ]
  },
  {
   "cell_type": "markdown",
   "metadata": {},
   "source": [
    "# Models"
   ]
  },
  {
   "cell_type": "markdown",
   "metadata": {},
   "source": [
    "## Base Model"
   ]
  },
  {
   "cell_type": "code",
   "execution_count": 21,
   "metadata": {},
   "outputs": [],
   "source": [
    "def evaluate(model, on=\"test\"):\n",
    "    if on == \"test\":\n",
    "        X, y = X_test, y_test\n",
    "    else:\n",
    "        X, y = X_train, y_train\n",
    "    y_pred = model.predict(X)\n",
    "    print(\"-----------------------------------------------------\")\n",
    "    print(\"R2:\", r2_score(y, y_pred))\n",
    "    print(\"MSE:\", mean_squared_error(y, y_pred))\n",
    "    print(\"MAE:\", mean_absolute_error(y, y_pred))\n",
    "    print(\"RMSE:\", mean_squared_error(y, y_pred) ** 0.5)\n",
    "    print(\"-----------------------------------------------------\")\n",
    "    return y_pred"
   ]
  },
  {
   "cell_type": "code",
   "execution_count": 23,
   "metadata": {},
   "outputs": [
    {
     "name": "stdout",
     "output_type": "stream",
     "text": [
      "-----------------------------------------------------\n",
      "R2: 0.15869169954340134\n",
      "MSE: 295.99595434190053\n",
      "MAE: 13.854730510966307\n",
      "RMSE: 17.2045329591332\n",
      "-----------------------------------------------------\n"
     ]
    }
   ],
   "source": [
    "lr = LinearRegression()\n",
    "lr.fit(X_train, y_train)\n",
    "pred = evaluate(lr)"
   ]
  },
  {
   "cell_type": "code",
   "execution_count": 48,
   "metadata": {},
   "outputs": [
    {
     "name": "stdout",
     "output_type": "stream",
     "text": [
      "-----------------------------------------------------\n",
      "R2: 0.7471895302116716\n",
      "MSE: 88.94584331571191\n",
      "MAE: 6.429136706880908\n",
      "RMSE: 9.431110396751377\n",
      "-----------------------------------------------------\n",
      "-----------------------------------------------------\n",
      "R2: 0.9009702235747971\n",
      "MSE: 36.978122139662645\n",
      "MAE: 4.215822702831295\n",
      "RMSE: 6.080963915339627\n",
      "-----------------------------------------------------\n"
     ]
    }
   ],
   "source": [
    "xgbr = XGBRegressor(n_estimators=2000, max_depth=5, learning_rate=0.05)\n",
    "xgbr.fit(X_train, y_train)\n",
    "y_pred = evaluate(xgbr, on=\"test\")\n",
    "y_pred_t = evaluate(xgbr, on=\"train\")"
   ]
  },
  {
   "cell_type": "code",
   "execution_count": 49,
   "metadata": {},
   "outputs": [
    {
     "name": "stdout",
     "output_type": "stream",
     "text": [
      "-----------------------------------------------------\n",
      "R2: 0.8174701793192585\n",
      "MSE: 64.21913160601139\n",
      "MAE: 4.026656538875659\n",
      "RMSE: 8.013684022096914\n",
      "-----------------------------------------------------\n",
      "-----------------------------------------------------\n",
      "R2: 0.9969790497357569\n",
      "MSE: 1.1280351413637908\n",
      "MAE: 0.22154867483060048\n",
      "RMSE: 1.0620899874133976\n",
      "-----------------------------------------------------\n"
     ]
    }
   ],
   "source": [
    "xgbr = XGBRegressor(n_estimators=2000, max_depth=10, learning_rate=0.1)\n",
    "xgbr.fit(X_train, y_train)\n",
    "y_pred = evaluate(xgbr, on=\"test\")\n",
    "y_pred_t = evaluate(xgbr, on=\"train\")"
   ]
  },
  {
   "cell_type": "code",
   "execution_count": 54,
   "metadata": {},
   "outputs": [
    {
     "name": "stdout",
     "output_type": "stream",
     "text": [
      "-----------------------------------------------------\n",
      "R2: 0.7897493656146988\n",
      "MSE: 73.97209458422282\n",
      "MAE: 5.3898286764214305\n",
      "RMSE: 8.60070314475641\n",
      "-----------------------------------------------------\n",
      "-----------------------------------------------------\n",
      "R2: 0.9496040834761641\n",
      "MSE: 18.81804063211415\n",
      "MAE: 2.898149001973174\n",
      "RMSE: 4.33797655965476\n",
      "-----------------------------------------------------\n"
     ]
    }
   ],
   "source": [
    "rfr = RandomForestRegressor(max_depth=20, n_estimators=4000, random_state=42)\n",
    "rfr.fit(X_train, y_train)\n",
    "y_pred = evaluate(rfr, on=\"test\")\n",
    "y_pred_t = evaluate(rfr, on=\"train\")"
   ]
  },
  {
   "cell_type": "code",
   "execution_count": 52,
   "metadata": {},
   "outputs": [
    {
     "name": "stdout",
     "output_type": "stream",
     "text": [
      "-----------------------------------------------------\n",
      "R2: 0.5923970749471805\n",
      "MSE: 143.40618858518383\n",
      "MAE: 9.001710172436413\n",
      "RMSE: 11.975232297754555\n",
      "-----------------------------------------------------\n",
      "-----------------------------------------------------\n",
      "R2: 0.6483821554259253\n",
      "MSE: 131.29553627706684\n",
      "MAE: 8.650465239083692\n",
      "RMSE: 11.458426431105924\n",
      "-----------------------------------------------------\n"
     ]
    }
   ],
   "source": [
    "rfr = RandomForestRegressor(max_depth=10, n_estimators=3000, random_state=42)\n",
    "rfr.fit(X_train, y_train)\n",
    "y_pred = evaluate(rfr, on=\"test\")\n",
    "y_pred_t = evaluate(rfr, on=\"train\")"
   ]
  },
  {
   "cell_type": "code",
   "execution_count": 35,
   "metadata": {},
   "outputs": [
    {
     "name": "stdout",
     "output_type": "stream",
     "text": [
      "svr On Test Set:\n",
      "R2: 0.8587907093645688\n",
      "MAE: 137.74941703270449\n",
      "RMSE: 255.50752140688238\n",
      "\n",
      "\n",
      "svr On Train Set:\n",
      "R2: 0.8514367193952317\n",
      "MAE: 134.092849309882\n",
      "RMSE: 247.25451472893542\n"
     ]
    }
   ],
   "source": [
    "svr = SVR(kernel=\"rbf\", C=1e3, gamma=0.2)\n",
    "svr.fit(X_train, y_train)\n",
    "y_pred = svr.predict(X_test)\n",
    "print(\"svr On Test Set:\")\n",
    "print(\"R2:\", r2_score(y_test, y_pred))\n",
    "print(\"MAE:\", mean_absolute_error(y_test, y_pred))\n",
    "print(\"RMSE:\", mean_squared_error(y_test, y_pred)**0.5)\n",
    "print(\"\\n\")\n",
    "print(\"svr On Train Set:\")\n",
    "y_pred_t = svr.predict(X_train)\n",
    "print(\"R2:\", r2_score(y_train, y_pred_t))\n",
    "print(\"MAE:\", mean_absolute_error(y_train, y_pred_t))\n",
    "print(\"RMSE:\", mean_squared_error(y_train, y_pred_t)**0.5)"
   ]
  },
  {
   "cell_type": "markdown",
   "metadata": {},
   "source": [
    "Let's do a grid search for the xgbr."
   ]
  },
  {
   "cell_type": "code",
   "execution_count": 17,
   "metadata": {},
   "outputs": [
    {
     "name": "stdout",
     "output_type": "stream",
     "text": [
      "Fitting 3 folds for each of 27 candidates, totalling 81 fits\n",
      "[CV 1/3; 1/27] START booster=gbtree, learning_rate=0.1, max_depth=2, n_estimators=1500[CV 3/3; 1/27] START booster=gbtree, learning_rate=0.1, max_depth=2, n_estimators=1500\n",
      "\n",
      "[CV 2/3; 3/27] START booster=gbtree, learning_rate=0.1, max_depth=2, n_estimators=3000\n",
      "[CV 3/3; 2/27] START booster=gbtree, learning_rate=0.1, max_depth=2, n_estimators=2000\n",
      "[CV 2/3; 2/27] START booster=gbtree, learning_rate=0.1, max_depth=2, n_estimators=2000\n",
      "[CV 1/3; 3/27] START booster=gbtree, learning_rate=0.1, max_depth=2, n_estimators=3000\n",
      "[CV 2/3; 1/27] START booster=gbtree, learning_rate=0.1, max_depth=2, n_estimators=1500\n",
      "[CV 1/3; 2/27] START booster=gbtree, learning_rate=0.1, max_depth=2, n_estimators=2000\n",
      "[CV 2/3; 1/27] END booster=gbtree, learning_rate=0.1, max_depth=2, n_estimators=1500;, score=0.866 total time=  32.0s\n",
      "[CV 3/3; 3/27] START booster=gbtree, learning_rate=0.1, max_depth=2, n_estimators=3000\n",
      "[CV 3/3; 1/27] END booster=gbtree, learning_rate=0.1, max_depth=2, n_estimators=1500;, score=0.856 total time=  33.8s\n",
      "[CV 1/3; 4/27] START booster=gbtree, learning_rate=0.1, max_depth=4, n_estimators=1500\n",
      "[CV 1/3; 1/27] END booster=gbtree, learning_rate=0.1, max_depth=2, n_estimators=1500;, score=0.845 total time=  34.5s\n",
      "[CV 2/3; 4/27] START booster=gbtree, learning_rate=0.1, max_depth=4, n_estimators=1500\n",
      "[CV 1/3; 2/27] END booster=gbtree, learning_rate=0.1, max_depth=2, n_estimators=2000;, score=0.847 total time=  44.1s\n",
      "[CV 3/3; 4/27] START booster=gbtree, learning_rate=0.1, max_depth=4, n_estimators=1500\n",
      "[CV 3/3; 2/27] END booster=gbtree, learning_rate=0.1, max_depth=2, n_estimators=2000;, score=0.857 total time=  45.6s\n",
      "[CV 1/3; 5/27] START booster=gbtree, learning_rate=0.1, max_depth=4, n_estimators=2000\n",
      "[CV 2/3; 2/27] END booster=gbtree, learning_rate=0.1, max_depth=2, n_estimators=2000;, score=0.868 total time=  48.0s\n",
      "[CV 2/3; 5/27] START booster=gbtree, learning_rate=0.1, max_depth=4, n_estimators=2000\n",
      "[CV 1/3; 3/27] END booster=gbtree, learning_rate=0.1, max_depth=2, n_estimators=3000;, score=0.849 total time= 1.3min\n",
      "[CV 3/3; 5/27] START booster=gbtree, learning_rate=0.1, max_depth=4, n_estimators=2000\n",
      "[CV 2/3; 3/27] END booster=gbtree, learning_rate=0.1, max_depth=2, n_estimators=3000;, score=0.870 total time= 1.3min\n",
      "[CV 1/3; 6/27] START booster=gbtree, learning_rate=0.1, max_depth=4, n_estimators=3000\n",
      "[CV 1/3; 4/27] END booster=gbtree, learning_rate=0.1, max_depth=4, n_estimators=1500;, score=0.880 total time= 1.5min\n",
      "[CV 2/3; 6/27] START booster=gbtree, learning_rate=0.1, max_depth=4, n_estimators=3000\n",
      "[CV 3/3; 3/27] END booster=gbtree, learning_rate=0.1, max_depth=2, n_estimators=3000;, score=0.857 total time= 1.7min\n",
      "[CV 3/3; 6/27] START booster=gbtree, learning_rate=0.1, max_depth=4, n_estimators=3000\n",
      "[CV 2/3; 4/27] END booster=gbtree, learning_rate=0.1, max_depth=4, n_estimators=1500;, score=0.896 total time= 1.6min\n",
      "[CV 1/3; 7/27] START booster=gbtree, learning_rate=0.1, max_depth=8, n_estimators=1500\n",
      "[CV 3/3; 4/27] END booster=gbtree, learning_rate=0.1, max_depth=4, n_estimators=1500;, score=0.878 total time= 1.6min\n",
      "[CV 2/3; 7/27] START booster=gbtree, learning_rate=0.1, max_depth=8, n_estimators=1500\n",
      "[CV 2/3; 5/27] END booster=gbtree, learning_rate=0.1, max_depth=4, n_estimators=2000;, score=0.896 total time= 2.0min\n",
      "[CV 3/3; 7/27] START booster=gbtree, learning_rate=0.1, max_depth=8, n_estimators=1500\n",
      "[CV 1/3; 5/27] END booster=gbtree, learning_rate=0.1, max_depth=4, n_estimators=2000;, score=0.881 total time= 2.1min\n",
      "[CV 1/3; 8/27] START booster=gbtree, learning_rate=0.1, max_depth=8, n_estimators=2000\n",
      "[CV 3/3; 5/27] END booster=gbtree, learning_rate=0.1, max_depth=4, n_estimators=2000;, score=0.879 total time= 1.9min\n",
      "[CV 2/3; 8/27] START booster=gbtree, learning_rate=0.1, max_depth=8, n_estimators=2000\n",
      "[CV 1/3; 6/27] END booster=gbtree, learning_rate=0.1, max_depth=4, n_estimators=3000;, score=0.882 total time= 2.7min\n",
      "[CV 3/3; 8/27] START booster=gbtree, learning_rate=0.1, max_depth=8, n_estimators=2000\n",
      "[CV 2/3; 6/27] END booster=gbtree, learning_rate=0.1, max_depth=4, n_estimators=3000;, score=0.897 total time= 2.7min\n",
      "[CV 1/3; 9/27] START booster=gbtree, learning_rate=0.1, max_depth=8, n_estimators=3000\n",
      "[CV 3/3; 6/27] END booster=gbtree, learning_rate=0.1, max_depth=4, n_estimators=3000;, score=0.879 total time= 2.7min\n",
      "[CV 2/3; 9/27] START booster=gbtree, learning_rate=0.1, max_depth=8, n_estimators=3000\n",
      "[CV 1/3; 7/27] END booster=gbtree, learning_rate=0.1, max_depth=8, n_estimators=1500;, score=0.887 total time= 2.9min\n",
      "[CV 3/3; 9/27] START booster=gbtree, learning_rate=0.1, max_depth=8, n_estimators=3000\n",
      "[CV 2/3; 7/27] END booster=gbtree, learning_rate=0.1, max_depth=8, n_estimators=1500;, score=0.897 total time= 3.1min\n",
      "[CV 1/3; 10/27] START booster=gbtree, learning_rate=0.2, max_depth=2, n_estimators=1500\n",
      "[CV 3/3; 7/27] END booster=gbtree, learning_rate=0.1, max_depth=8, n_estimators=1500;, score=0.884 total time= 2.8min\n",
      "[CV 2/3; 10/27] START booster=gbtree, learning_rate=0.2, max_depth=2, n_estimators=1500\n",
      "[CV 1/3; 10/27] END booster=gbtree, learning_rate=0.2, max_depth=2, n_estimators=1500;, score=0.849 total time=  47.5s\n",
      "[CV 3/3; 10/27] START booster=gbtree, learning_rate=0.2, max_depth=2, n_estimators=1500\n",
      "[CV 2/3; 10/27] END booster=gbtree, learning_rate=0.2, max_depth=2, n_estimators=1500;, score=0.870 total time=  51.7s\n",
      "[CV 1/3; 11/27] START booster=gbtree, learning_rate=0.2, max_depth=2, n_estimators=2000\n",
      "[CV 3/3; 10/27] END booster=gbtree, learning_rate=0.2, max_depth=2, n_estimators=1500;, score=0.858 total time=  44.4s\n",
      "[CV 2/3; 11/27] START booster=gbtree, learning_rate=0.2, max_depth=2, n_estimators=2000\n",
      "[CV 1/3; 8/27] END booster=gbtree, learning_rate=0.1, max_depth=8, n_estimators=2000;, score=0.887 total time= 4.3min\n",
      "[CV 3/3; 11/27] START booster=gbtree, learning_rate=0.2, max_depth=2, n_estimators=2000\n",
      "[CV 1/3; 11/27] END booster=gbtree, learning_rate=0.2, max_depth=2, n_estimators=2000;, score=0.849 total time=  56.4s\n",
      "[CV 1/3; 12/27] START booster=gbtree, learning_rate=0.2, max_depth=2, n_estimators=3000\n",
      "[CV 2/3; 8/27] END booster=gbtree, learning_rate=0.1, max_depth=8, n_estimators=2000;, score=0.897 total time= 4.5min\n",
      "[CV 2/3; 12/27] START booster=gbtree, learning_rate=0.2, max_depth=2, n_estimators=3000\n",
      "[CV 2/3; 11/27] END booster=gbtree, learning_rate=0.2, max_depth=2, n_estimators=2000;, score=0.872 total time=  43.9s\n",
      "[CV 3/3; 12/27] START booster=gbtree, learning_rate=0.2, max_depth=2, n_estimators=3000\n",
      "[CV 3/3; 8/27] END booster=gbtree, learning_rate=0.1, max_depth=8, n_estimators=2000;, score=0.884 total time= 3.9min\n",
      "[CV 1/3; 13/27] START booster=gbtree, learning_rate=0.2, max_depth=4, n_estimators=1500\n",
      "[CV 3/3; 11/27] END booster=gbtree, learning_rate=0.2, max_depth=2, n_estimators=2000;, score=0.858 total time=  44.2s\n",
      "[CV 2/3; 13/27] START booster=gbtree, learning_rate=0.2, max_depth=4, n_estimators=1500\n",
      "[CV 1/3; 12/27] END booster=gbtree, learning_rate=0.2, max_depth=2, n_estimators=3000;, score=0.850 total time= 1.3min\n",
      "[CV 3/3; 13/27] START booster=gbtree, learning_rate=0.2, max_depth=4, n_estimators=1500\n",
      "[CV 2/3; 12/27] END booster=gbtree, learning_rate=0.2, max_depth=2, n_estimators=3000;, score=0.873 total time= 1.4min\n",
      "[CV 1/3; 14/27] START booster=gbtree, learning_rate=0.2, max_depth=4, n_estimators=2000\n",
      "[CV 3/3; 12/27] END booster=gbtree, learning_rate=0.2, max_depth=2, n_estimators=3000;, score=0.856 total time= 1.4min\n",
      "[CV 2/3; 14/27] START booster=gbtree, learning_rate=0.2, max_depth=4, n_estimators=2000\n",
      "[CV 1/3; 13/27] END booster=gbtree, learning_rate=0.2, max_depth=4, n_estimators=1500;, score=0.880 total time= 1.4min\n",
      "[CV 3/3; 14/27] START booster=gbtree, learning_rate=0.2, max_depth=4, n_estimators=2000\n",
      "[CV 2/3; 13/27] END booster=gbtree, learning_rate=0.2, max_depth=4, n_estimators=1500;, score=0.895 total time= 1.4min\n",
      "[CV 1/3; 15/27] START booster=gbtree, learning_rate=0.2, max_depth=4, n_estimators=3000\n",
      "[CV 3/3; 13/27] END booster=gbtree, learning_rate=0.2, max_depth=4, n_estimators=1500;, score=0.877 total time= 1.4min\n",
      "[CV 2/3; 15/27] START booster=gbtree, learning_rate=0.2, max_depth=4, n_estimators=3000\n",
      "[CV 1/3; 9/27] END booster=gbtree, learning_rate=0.1, max_depth=8, n_estimators=3000;, score=0.887 total time= 6.0min\n",
      "[CV 3/3; 15/27] START booster=gbtree, learning_rate=0.2, max_depth=4, n_estimators=3000\n",
      "[CV 2/3; 14/27] END booster=gbtree, learning_rate=0.2, max_depth=4, n_estimators=2000;, score=0.894 total time= 1.7min\n",
      "[CV 1/3; 16/27] START booster=gbtree, learning_rate=0.2, max_depth=8, n_estimators=1500\n",
      "[CV 1/3; 14/27] END booster=gbtree, learning_rate=0.2, max_depth=4, n_estimators=2000;, score=0.879 total time= 1.9min\n",
      "[CV 2/3; 16/27] START booster=gbtree, learning_rate=0.2, max_depth=8, n_estimators=1500\n",
      "[CV 2/3; 9/27] END booster=gbtree, learning_rate=0.1, max_depth=8, n_estimators=3000;, score=0.897 total time= 6.1min\n",
      "[CV 3/3; 16/27] START booster=gbtree, learning_rate=0.2, max_depth=8, n_estimators=1500\n",
      "[CV 3/3; 14/27] END booster=gbtree, learning_rate=0.2, max_depth=4, n_estimators=2000;, score=0.877 total time= 1.8min\n",
      "[CV 1/3; 17/27] START booster=gbtree, learning_rate=0.2, max_depth=8, n_estimators=2000\n",
      "[CV 3/3; 9/27] END booster=gbtree, learning_rate=0.1, max_depth=8, n_estimators=3000;, score=0.884 total time= 6.3min\n",
      "[CV 2/3; 17/27] START booster=gbtree, learning_rate=0.2, max_depth=8, n_estimators=2000\n",
      "[CV 1/3; 15/27] END booster=gbtree, learning_rate=0.2, max_depth=4, n_estimators=3000;, score=0.879 total time= 2.7min\n",
      "[CV 3/3; 17/27] START booster=gbtree, learning_rate=0.2, max_depth=8, n_estimators=2000\n",
      "[CV 2/3; 15/27] END booster=gbtree, learning_rate=0.2, max_depth=4, n_estimators=3000;, score=0.894 total time= 2.8min\n",
      "[CV 1/3; 18/27] START booster=gbtree, learning_rate=0.2, max_depth=8, n_estimators=3000\n",
      "[CV 3/3; 15/27] END booster=gbtree, learning_rate=0.2, max_depth=4, n_estimators=3000;, score=0.877 total time= 2.6min\n",
      "[CV 2/3; 18/27] START booster=gbtree, learning_rate=0.2, max_depth=8, n_estimators=3000\n",
      "[CV 1/3; 16/27] END booster=gbtree, learning_rate=0.2, max_depth=8, n_estimators=1500;, score=0.886 total time= 3.1min\n",
      "[CV 3/3; 18/27] START booster=gbtree, learning_rate=0.2, max_depth=8, n_estimators=3000\n",
      "[CV 3/3; 16/27] END booster=gbtree, learning_rate=0.2, max_depth=8, n_estimators=1500;, score=0.881 total time= 3.2min\n",
      "[CV 1/3; 19/27] START booster=gbtree, learning_rate=0.3, max_depth=2, n_estimators=1500\n",
      "[CV 2/3; 16/27] END booster=gbtree, learning_rate=0.2, max_depth=8, n_estimators=1500;, score=0.896 total time= 3.4min\n",
      "[CV 2/3; 19/27] START booster=gbtree, learning_rate=0.3, max_depth=2, n_estimators=1500\n",
      "[CV 1/3; 19/27] END booster=gbtree, learning_rate=0.3, max_depth=2, n_estimators=1500;, score=0.852 total time=  42.8s\n",
      "[CV 3/3; 19/27] START booster=gbtree, learning_rate=0.3, max_depth=2, n_estimators=1500\n",
      "[CV 2/3; 19/27] END booster=gbtree, learning_rate=0.3, max_depth=2, n_estimators=1500;, score=0.871 total time=  43.2s\n",
      "[CV 1/3; 20/27] START booster=gbtree, learning_rate=0.3, max_depth=2, n_estimators=2000\n",
      "[CV 1/3; 17/27] END booster=gbtree, learning_rate=0.2, max_depth=8, n_estimators=2000;, score=0.886 total time= 4.3min\n",
      "[CV 2/3; 20/27] START booster=gbtree, learning_rate=0.3, max_depth=2, n_estimators=2000\n",
      "[CV 2/3; 17/27] END booster=gbtree, learning_rate=0.2, max_depth=8, n_estimators=2000;, score=0.896 total time= 4.1min\n",
      "[CV 3/3; 20/27] START booster=gbtree, learning_rate=0.3, max_depth=2, n_estimators=2000\n",
      "[CV 3/3; 19/27] END booster=gbtree, learning_rate=0.3, max_depth=2, n_estimators=1500;, score=0.859 total time=  47.8s\n",
      "[CV 1/3; 21/27] START booster=gbtree, learning_rate=0.3, max_depth=2, n_estimators=3000\n",
      "[CV 1/3; 20/27] END booster=gbtree, learning_rate=0.3, max_depth=2, n_estimators=2000;, score=0.851 total time=  52.0s\n",
      "[CV 2/3; 21/27] START booster=gbtree, learning_rate=0.3, max_depth=2, n_estimators=3000\n",
      "[CV 3/3; 17/27] END booster=gbtree, learning_rate=0.2, max_depth=8, n_estimators=2000;, score=0.881 total time= 4.0min\n",
      "[CV 3/3; 21/27] START booster=gbtree, learning_rate=0.3, max_depth=2, n_estimators=3000\n",
      "[CV 2/3; 20/27] END booster=gbtree, learning_rate=0.3, max_depth=2, n_estimators=2000;, score=0.872 total time=  47.8s\n",
      "[CV 1/3; 22/27] START booster=gbtree, learning_rate=0.3, max_depth=4, n_estimators=1500\n",
      "[CV 3/3; 20/27] END booster=gbtree, learning_rate=0.3, max_depth=2, n_estimators=2000;, score=0.858 total time=  51.8s\n",
      "[CV 2/3; 22/27] START booster=gbtree, learning_rate=0.3, max_depth=4, n_estimators=1500\n",
      "[CV 1/3; 21/27] END booster=gbtree, learning_rate=0.3, max_depth=2, n_estimators=3000;, score=0.853 total time= 1.4min\n",
      "[CV 3/3; 22/27] START booster=gbtree, learning_rate=0.3, max_depth=4, n_estimators=1500\n",
      "[CV 2/3; 21/27] END booster=gbtree, learning_rate=0.3, max_depth=2, n_estimators=3000;, score=0.872 total time= 1.3min\n",
      "[CV 1/3; 23/27] START booster=gbtree, learning_rate=0.3, max_depth=4, n_estimators=2000\n",
      "[CV 3/3; 21/27] END booster=gbtree, learning_rate=0.3, max_depth=2, n_estimators=3000;, score=0.856 total time= 1.4min\n",
      "[CV 2/3; 23/27] START booster=gbtree, learning_rate=0.3, max_depth=4, n_estimators=2000\n",
      "[CV 1/3; 22/27] END booster=gbtree, learning_rate=0.3, max_depth=4, n_estimators=1500;, score=0.878 total time= 1.4min\n",
      "[CV 3/3; 23/27] START booster=gbtree, learning_rate=0.3, max_depth=4, n_estimators=2000\n",
      "[CV 2/3; 22/27] END booster=gbtree, learning_rate=0.3, max_depth=4, n_estimators=1500;, score=0.894 total time= 1.6min\n",
      "[CV 1/3; 24/27] START booster=gbtree, learning_rate=0.3, max_depth=4, n_estimators=3000\n",
      "[CV 1/3; 18/27] END booster=gbtree, learning_rate=0.2, max_depth=8, n_estimators=3000;, score=0.886 total time= 5.1min\n",
      "[CV 2/3; 24/27] START booster=gbtree, learning_rate=0.3, max_depth=4, n_estimators=3000\n",
      "[CV 3/3; 22/27] END booster=gbtree, learning_rate=0.3, max_depth=4, n_estimators=1500;, score=0.877 total time= 1.4min\n",
      "[CV 3/3; 24/27] START booster=gbtree, learning_rate=0.3, max_depth=4, n_estimators=3000\n",
      "[CV 2/3; 18/27] END booster=gbtree, learning_rate=0.2, max_depth=8, n_estimators=3000;, score=0.896 total time= 5.1min\n",
      "[CV 1/3; 25/27] START booster=gbtree, learning_rate=0.3, max_depth=8, n_estimators=1500\n",
      "[CV 1/3; 23/27] END booster=gbtree, learning_rate=0.3, max_depth=4, n_estimators=2000;, score=0.878 total time= 1.7min\n",
      "[CV 2/3; 25/27] START booster=gbtree, learning_rate=0.3, max_depth=8, n_estimators=1500\n",
      "[CV 3/3; 18/27] END booster=gbtree, learning_rate=0.2, max_depth=8, n_estimators=3000;, score=0.881 total time= 5.2min\n",
      "[CV 3/3; 25/27] START booster=gbtree, learning_rate=0.3, max_depth=8, n_estimators=1500\n",
      "[CV 2/3; 23/27] END booster=gbtree, learning_rate=0.3, max_depth=4, n_estimators=2000;, score=0.894 total time= 1.6min\n",
      "[CV 1/3; 26/27] START booster=gbtree, learning_rate=0.3, max_depth=8, n_estimators=2000\n",
      "[CV 3/3; 23/27] END booster=gbtree, learning_rate=0.3, max_depth=4, n_estimators=2000;, score=0.877 total time= 1.8min\n",
      "[CV 2/3; 26/27] START booster=gbtree, learning_rate=0.3, max_depth=8, n_estimators=2000\n",
      "[CV 2/3; 24/27] END booster=gbtree, learning_rate=0.3, max_depth=4, n_estimators=3000;, score=0.893 total time= 2.7min\n",
      "[CV 3/3; 26/27] START booster=gbtree, learning_rate=0.3, max_depth=8, n_estimators=2000\n",
      "[CV 1/3; 24/27] END booster=gbtree, learning_rate=0.3, max_depth=4, n_estimators=3000;, score=0.878 total time= 2.9min\n",
      "[CV 1/3; 27/27] START booster=gbtree, learning_rate=0.3, max_depth=8, n_estimators=3000\n",
      "[CV 3/3; 24/27] END booster=gbtree, learning_rate=0.3, max_depth=4, n_estimators=3000;, score=0.877 total time= 2.8min\n",
      "[CV 2/3; 27/27] START booster=gbtree, learning_rate=0.3, max_depth=8, n_estimators=3000\n",
      "[CV 1/3; 25/27] END booster=gbtree, learning_rate=0.3, max_depth=8, n_estimators=1500;, score=0.879 total time= 3.2min\n",
      "[CV 3/3; 27/27] START booster=gbtree, learning_rate=0.3, max_depth=8, n_estimators=3000\n",
      "[CV 2/3; 25/27] END booster=gbtree, learning_rate=0.3, max_depth=8, n_estimators=1500;, score=0.901 total time= 3.3min\n",
      "[CV 3/3; 25/27] END booster=gbtree, learning_rate=0.3, max_depth=8, n_estimators=1500;, score=0.880 total time= 3.1min\n",
      "[CV 1/3; 26/27] END booster=gbtree, learning_rate=0.3, max_depth=8, n_estimators=2000;, score=0.879 total time= 3.3min\n",
      "[CV 2/3; 26/27] END booster=gbtree, learning_rate=0.3, max_depth=8, n_estimators=2000;, score=0.901 total time= 3.3min\n",
      "[CV 3/3; 26/27] END booster=gbtree, learning_rate=0.3, max_depth=8, n_estimators=2000;, score=0.880 total time= 2.6min\n",
      "[CV 1/3; 27/27] END booster=gbtree, learning_rate=0.3, max_depth=8, n_estimators=3000;, score=0.879 total time= 2.6min\n",
      "[CV 2/3; 27/27] END booster=gbtree, learning_rate=0.3, max_depth=8, n_estimators=3000;, score=0.901 total time= 2.2min\n",
      "[CV 3/3; 27/27] END booster=gbtree, learning_rate=0.3, max_depth=8, n_estimators=3000;, score=0.880 total time= 1.8min\n"
     ]
    },
    {
     "data": {
      "text/plain": [
       "GridSearchCV(cv=3,\n",
       "             estimator=XGBRegressor(base_score=None, booster=None,\n",
       "                                    colsample_bylevel=None,\n",
       "                                    colsample_bynode=None,\n",
       "                                    colsample_bytree=None,\n",
       "                                    enable_categorical=False, gamma=None,\n",
       "                                    gpu_id=None, importance_type=None,\n",
       "                                    interaction_constraints=None,\n",
       "                                    learning_rate=None, max_delta_step=None,\n",
       "                                    max_depth=None, min_child_weight=None,\n",
       "                                    missing=nan, monotone_constraints=None,\n",
       "                                    n_estimators=100, n_jobs=None,\n",
       "                                    num_parallel_tree=None, predictor=None,\n",
       "                                    random_state=None, reg_alpha=None,\n",
       "                                    reg_lambda=None, scale_pos_weight=None,\n",
       "                                    subsample=None, tree_method=None,\n",
       "                                    validate_parameters=None, verbosity=None),\n",
       "             n_jobs=-1,\n",
       "             param_grid={'booster': ['gbtree'],\n",
       "                         'learning_rate': [0.1, 0.2, 0.3],\n",
       "                         'max_depth': [2, 4, 8],\n",
       "                         'n_estimators': [1500, 2000, 3000]},\n",
       "             verbose=10)"
      ]
     },
     "execution_count": 17,
     "metadata": {},
     "output_type": "execute_result"
    }
   ],
   "source": [
    "from sklearn.model_selection import GridSearchCV\n",
    "params = {\n",
    "    \"n_estimators\": [1500, 2000, 3000],\n",
    "    \"max_depth\": [2, 4, 8],\n",
    "    \"learning_rate\": [0.1,0.2, 0.3],\n",
    "    \"booster\": [\"gbtree\"],\n",
    "}\n",
    "\n",
    "base_model = XGBRegressor()\n",
    "grid_search = GridSearchCV(base_model, params, cv=3, n_jobs=-1, verbose=10)\n",
    "grid_search.fit(X_train, y_train)"
   ]
  },
  {
   "cell_type": "code",
   "execution_count": 18,
   "metadata": {},
   "outputs": [
    {
     "data": {
      "text/plain": [
       "0.8895123915370542"
      ]
     },
     "execution_count": 18,
     "metadata": {},
     "output_type": "execute_result"
    }
   ],
   "source": [
    "grid_search.best_score_"
   ]
  },
  {
   "cell_type": "code",
   "execution_count": 38,
   "metadata": {},
   "outputs": [
    {
     "name": "stdout",
     "output_type": "stream",
     "text": [
      "XGBR On Test Set:\n",
      "R2: 0.9094067675501246\n",
      "MAE: 97.86719559986578\n",
      "RMSE: 204.65385576197573\n",
      "\n",
      "\n",
      "XGBR On Train Set:\n",
      "R2: 0.991287236873442\n",
      "MAE: 37.40795654774622\n",
      "RMSE: 59.877883827092134\n"
     ]
    }
   ],
   "source": [
    "xgbr = XGBRegressor(learning_rate=0.3, max_depth=4, n_estimators=1000, booster=\"gbtree\")\n",
    "xgbr.fit(X_train, y_train)\n",
    "y_pred = xgbr.predict(X_test)\n",
    "print(\"XGBR On Test Set:\")\n",
    "print(\"R2:\", r2_score(y_test, y_pred))\n",
    "print(\"MAE:\", mean_absolute_error(y_test, y_pred))\n",
    "print(\"RMSE:\", mean_squared_error(y_test, y_pred)**0.5)\n",
    "print(\"\\n\")\n",
    "print(\"XGBR On Train Set:\")\n",
    "y_pred_t = xgbr.predict(X_train)\n",
    "print(\"R2:\", r2_score(y_train, y_pred_t))\n",
    "print(\"MAE:\", mean_absolute_error(y_train, y_pred_t))\n",
    "print(\"RMSE:\", mean_squared_error(y_train, y_pred_t)**0.5)"
   ]
  },
  {
   "cell_type": "code",
   "execution_count": 21,
   "metadata": {},
   "outputs": [
    {
     "name": "stdout",
     "output_type": "stream",
     "text": [
      "XGBR On Test Set:\n",
      "R2: 0.9094067675501246\n",
      "MAE: 97.86719559986578\n",
      "MSE: 41883.20067824357\n",
      "\n",
      "\n",
      "XGBR On Train Set:\n",
      "R2: 0.991287236873442\n",
      "MAE: 37.40795654774622\n",
      "MSE: 3585.360971610742\n"
     ]
    }
   ],
   "source": [
    "import numpy as np\n",
    "y_pred = np.abs(xgbr.predict(X_test))\n",
    "print(\"XGBR On Test Set:\")\n",
    "print(\"R2:\", r2_score(y_test, y_pred))\n",
    "print(\"MAE:\", mean_absolute_error(y_test, y_pred))\n",
    "print(\"MSE:\", mean_squared_error(y_test, y_pred))\n",
    "print(\"\\n\")\n",
    "print(\"XGBR On Train Set:\")\n",
    "y_pred_t = np.abs(xgbr.predict(X_train))\n",
    "print(\"R2:\", r2_score(y_train, y_pred_t))\n",
    "print(\"MAE:\", mean_absolute_error(y_train, y_pred_t))\n",
    "print(\"MSE:\", mean_squared_error(y_train, y_pred_t))"
   ]
  },
  {
   "cell_type": "code",
   "execution_count": 56,
   "metadata": {},
   "outputs": [],
   "source": [
    "preds = rfr.predict(test_final)\n",
    "# preds = np.abs(preds)"
   ]
  },
  {
   "cell_type": "code",
   "execution_count": 58,
   "metadata": {},
   "outputs": [],
   "source": [
    "sample = pd.read_csv('data/Sample__submission.csv')"
   ]
  },
  {
   "cell_type": "code",
   "execution_count": 59,
   "metadata": {},
   "outputs": [
    {
     "data": {
      "text/html": [
       "<div>\n",
       "<style scoped>\n",
       "    .dataframe tbody tr th:only-of-type {\n",
       "        vertical-align: middle;\n",
       "    }\n",
       "\n",
       "    .dataframe tbody tr th {\n",
       "        vertical-align: top;\n",
       "    }\n",
       "\n",
       "    .dataframe thead th {\n",
       "        text-align: right;\n",
       "    }\n",
       "</style>\n",
       "<table border=\"1\" class=\"dataframe\">\n",
       "  <thead>\n",
       "    <tr style=\"text-align: right;\">\n",
       "      <th></th>\n",
       "      <th>id</th>\n",
       "      <th>price1</th>\n",
       "    </tr>\n",
       "  </thead>\n",
       "  <tbody>\n",
       "    <tr>\n",
       "      <th>0</th>\n",
       "      <td>19841</td>\n",
       "      <td>193</td>\n",
       "    </tr>\n",
       "    <tr>\n",
       "      <th>1</th>\n",
       "      <td>19157</td>\n",
       "      <td>340</td>\n",
       "    </tr>\n",
       "    <tr>\n",
       "      <th>2</th>\n",
       "      <td>19445</td>\n",
       "      <td>637</td>\n",
       "    </tr>\n",
       "    <tr>\n",
       "      <th>3</th>\n",
       "      <td>8046</td>\n",
       "      <td>679</td>\n",
       "    </tr>\n",
       "    <tr>\n",
       "      <th>4</th>\n",
       "      <td>4571</td>\n",
       "      <td>190</td>\n",
       "    </tr>\n",
       "  </tbody>\n",
       "</table>\n",
       "</div>"
      ],
      "text/plain": [
       "      id  price1\n",
       "0  19841     193\n",
       "1  19157     340\n",
       "2  19445     637\n",
       "3   8046     679\n",
       "4   4571     190"
      ]
     },
     "execution_count": 59,
     "metadata": {},
     "output_type": "execute_result"
    }
   ],
   "source": [
    "sample.head()"
   ]
  },
  {
   "cell_type": "code",
   "execution_count": 60,
   "metadata": {},
   "outputs": [
    {
     "data": {
      "text/plain": [
       "0        999\n",
       "1        499\n",
       "2        999\n",
       "3       2999\n",
       "4        999\n",
       "        ... \n",
       "5239     699\n",
       "5240    1993\n",
       "5241     999\n",
       "5242     499\n",
       "5243     749\n",
       "Name: ActingPrice, Length: 5244, dtype: int64"
      ]
     },
     "execution_count": 60,
     "metadata": {},
     "output_type": "execute_result"
    }
   ],
   "source": [
    "act_price = test[\"ActingPrice\"]\n",
    "act_price"
   ]
  },
  {
   "cell_type": "code",
   "execution_count": 61,
   "metadata": {},
   "outputs": [
    {
     "data": {
      "text/html": [
       "<div>\n",
       "<style scoped>\n",
       "    .dataframe tbody tr th:only-of-type {\n",
       "        vertical-align: middle;\n",
       "    }\n",
       "\n",
       "    .dataframe tbody tr th {\n",
       "        vertical-align: top;\n",
       "    }\n",
       "\n",
       "    .dataframe thead th {\n",
       "        text-align: right;\n",
       "    }\n",
       "</style>\n",
       "<table border=\"1\" class=\"dataframe\">\n",
       "  <thead>\n",
       "    <tr style=\"text-align: right;\">\n",
       "      <th></th>\n",
       "      <th>id</th>\n",
       "      <th>price2</th>\n",
       "    </tr>\n",
       "  </thead>\n",
       "  <tbody>\n",
       "    <tr>\n",
       "      <th>0</th>\n",
       "      <td>2242</td>\n",
       "      <td>57.936235</td>\n",
       "    </tr>\n",
       "    <tr>\n",
       "      <th>1</th>\n",
       "      <td>20532</td>\n",
       "      <td>43.638880</td>\n",
       "    </tr>\n",
       "    <tr>\n",
       "      <th>2</th>\n",
       "      <td>10648</td>\n",
       "      <td>55.079625</td>\n",
       "    </tr>\n",
       "    <tr>\n",
       "      <th>3</th>\n",
       "      <td>20677</td>\n",
       "      <td>60.798651</td>\n",
       "    </tr>\n",
       "    <tr>\n",
       "      <th>4</th>\n",
       "      <td>12593</td>\n",
       "      <td>60.309087</td>\n",
       "    </tr>\n",
       "    <tr>\n",
       "      <th>...</th>\n",
       "      <td>...</td>\n",
       "      <td>...</td>\n",
       "    </tr>\n",
       "    <tr>\n",
       "      <th>5239</th>\n",
       "      <td>14033</td>\n",
       "      <td>46.558344</td>\n",
       "    </tr>\n",
       "    <tr>\n",
       "      <th>5240</th>\n",
       "      <td>297</td>\n",
       "      <td>56.468695</td>\n",
       "    </tr>\n",
       "    <tr>\n",
       "      <th>5241</th>\n",
       "      <td>18733</td>\n",
       "      <td>59.660029</td>\n",
       "    </tr>\n",
       "    <tr>\n",
       "      <th>5242</th>\n",
       "      <td>6162</td>\n",
       "      <td>51.778841</td>\n",
       "    </tr>\n",
       "    <tr>\n",
       "      <th>5243</th>\n",
       "      <td>13574</td>\n",
       "      <td>0.669308</td>\n",
       "    </tr>\n",
       "  </tbody>\n",
       "</table>\n",
       "<p>5244 rows × 2 columns</p>\n",
       "</div>"
      ],
      "text/plain": [
       "         id     price2\n",
       "0      2242  57.936235\n",
       "1     20532  43.638880\n",
       "2     10648  55.079625\n",
       "3     20677  60.798651\n",
       "4     12593  60.309087\n",
       "...     ...        ...\n",
       "5239  14033  46.558344\n",
       "5240    297  56.468695\n",
       "5241  18733  59.660029\n",
       "5242   6162  51.778841\n",
       "5243  13574   0.669308\n",
       "\n",
       "[5244 rows x 2 columns]"
      ]
     },
     "execution_count": 61,
     "metadata": {},
     "output_type": "execute_result"
    }
   ],
   "source": [
    "sub = pd.DataFrame({\"id\": test_id, \"price2\": preds})\n",
    "sub"
   ]
  },
  {
   "cell_type": "code",
   "execution_count": 62,
   "metadata": {},
   "outputs": [
    {
     "data": {
      "text/html": [
       "<div>\n",
       "<style scoped>\n",
       "    .dataframe tbody tr th:only-of-type {\n",
       "        vertical-align: middle;\n",
       "    }\n",
       "\n",
       "    .dataframe tbody tr th {\n",
       "        vertical-align: top;\n",
       "    }\n",
       "\n",
       "    .dataframe thead th {\n",
       "        text-align: right;\n",
       "    }\n",
       "</style>\n",
       "<table border=\"1\" class=\"dataframe\">\n",
       "  <thead>\n",
       "    <tr style=\"text-align: right;\">\n",
       "      <th></th>\n",
       "      <th>id</th>\n",
       "      <th>price2</th>\n",
       "    </tr>\n",
       "  </thead>\n",
       "  <tbody>\n",
       "    <tr>\n",
       "      <th>0</th>\n",
       "      <td>2242</td>\n",
       "      <td>420</td>\n",
       "    </tr>\n",
       "    <tr>\n",
       "      <th>1</th>\n",
       "      <td>20532</td>\n",
       "      <td>281</td>\n",
       "    </tr>\n",
       "    <tr>\n",
       "      <th>2</th>\n",
       "      <td>10648</td>\n",
       "      <td>448</td>\n",
       "    </tr>\n",
       "    <tr>\n",
       "      <th>3</th>\n",
       "      <td>20677</td>\n",
       "      <td>1175</td>\n",
       "    </tr>\n",
       "    <tr>\n",
       "      <th>4</th>\n",
       "      <td>12593</td>\n",
       "      <td>396</td>\n",
       "    </tr>\n",
       "  </tbody>\n",
       "</table>\n",
       "</div>"
      ],
      "text/plain": [
       "      id  price2\n",
       "0   2242     420\n",
       "1  20532     281\n",
       "2  10648     448\n",
       "3  20677    1175\n",
       "4  12593     396"
      ]
     },
     "execution_count": 62,
     "metadata": {},
     "output_type": "execute_result"
    }
   ],
   "source": [
    "sub[\"price2\"] = (act_price-sub[\"price2\"]*act_price/100).astype(int)\n",
    "sub.head()"
   ]
  },
  {
   "cell_type": "code",
   "execution_count": 63,
   "metadata": {},
   "outputs": [
    {
     "data": {
      "text/html": [
       "<div>\n",
       "<style scoped>\n",
       "    .dataframe tbody tr th:only-of-type {\n",
       "        vertical-align: middle;\n",
       "    }\n",
       "\n",
       "    .dataframe tbody tr th {\n",
       "        vertical-align: top;\n",
       "    }\n",
       "\n",
       "    .dataframe thead th {\n",
       "        text-align: right;\n",
       "    }\n",
       "</style>\n",
       "<table border=\"1\" class=\"dataframe\">\n",
       "  <thead>\n",
       "    <tr style=\"text-align: right;\">\n",
       "      <th></th>\n",
       "      <th>id</th>\n",
       "      <th>price1</th>\n",
       "    </tr>\n",
       "  </thead>\n",
       "  <tbody>\n",
       "    <tr>\n",
       "      <th>0</th>\n",
       "      <td>19841</td>\n",
       "      <td>793</td>\n",
       "    </tr>\n",
       "    <tr>\n",
       "      <th>1</th>\n",
       "      <td>19157</td>\n",
       "      <td>637</td>\n",
       "    </tr>\n",
       "    <tr>\n",
       "      <th>2</th>\n",
       "      <td>19445</td>\n",
       "      <td>200</td>\n",
       "    </tr>\n",
       "    <tr>\n",
       "      <th>3</th>\n",
       "      <td>8046</td>\n",
       "      <td>422</td>\n",
       "    </tr>\n",
       "    <tr>\n",
       "      <th>4</th>\n",
       "      <td>4571</td>\n",
       "      <td>1380</td>\n",
       "    </tr>\n",
       "  </tbody>\n",
       "</table>\n",
       "</div>"
      ],
      "text/plain": [
       "      id  price1\n",
       "0  19841     793\n",
       "1  19157     637\n",
       "2  19445     200\n",
       "3   8046     422\n",
       "4   4571    1380"
      ]
     },
     "execution_count": 63,
     "metadata": {},
     "output_type": "execute_result"
    }
   ],
   "source": [
    "sub = pd.merge(sample, sub, on=\"id\")\n",
    "sub.drop(\"price1\", axis=1, inplace=True)\n",
    "sub.columns = [\"id\", \"price1\"]\n",
    "sub.head()"
   ]
  },
  {
   "cell_type": "code",
   "execution_count": 64,
   "metadata": {},
   "outputs": [],
   "source": [
    "sub.to_csv(\"data/submission_using_offer.csv\", index=False)"
   ]
  },
  {
   "cell_type": "code",
   "execution_count": 65,
   "metadata": {},
   "outputs": [
    {
     "name": "stdout",
     "output_type": "stream",
     "text": [
      "Successfully submitted to Final Capstone Project"
     ]
    },
    {
     "name": "stderr",
     "output_type": "stream",
     "text": [
      "\n",
      "  0%|          | 0.00/54.4k [00:00<?, ?B/s]\n",
      " 15%|█▍        | 8.00k/54.4k [00:00<00:00, 67.6kB/s]\n",
      "100%|██████████| 54.4k/54.4k [00:05<00:00, 9.68kB/s]\n"
     ]
    },
    {
     "name": "stdout",
     "output_type": "stream",
     "text": [
      "\n"
     ]
    }
   ],
   "source": [
    "!kaggle competitions submit -c sa2022 -f data/submission_using_offer.csv -m \"\""
   ]
  }
 ],
 "metadata": {
  "kernelspec": {
   "display_name": "Python 3.8.5",
   "language": "python",
   "name": "python3"
  },
  "language_info": {
   "codemirror_mode": {
    "name": "ipython",
    "version": 3
   },
   "file_extension": ".py",
   "mimetype": "text/x-python",
   "name": "python",
   "nbconvert_exporter": "python",
   "pygments_lexer": "ipython3",
   "version": "3.8.5"
  },
  "orig_nbformat": 4,
  "vscode": {
   "interpreter": {
    "hash": "98a06921e42c4ae689d578665f28201be7cad9b45c4149f8887161f1353af971"
   }
  }
 },
 "nbformat": 4,
 "nbformat_minor": 2
}
