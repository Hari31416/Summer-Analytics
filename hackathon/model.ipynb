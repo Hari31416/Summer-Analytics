{
 "cells": [
  {
   "cell_type": "code",
   "execution_count": 1,
   "metadata": {},
   "outputs": [],
   "source": [
    "import pandas as pd\n",
    "from sklearn.preprocessing import LabelEncoder, OneHotEncoder\n",
    "from sklearn.model_selection import train_test_split\n",
    "from sklearn.preprocessing import StandardScaler\n",
    "from sklearn.linear_model import LinearRegression, ElasticNet\n",
    "from sklearn.metrics import mean_squared_error, r2_score, mean_absolute_error\n",
    "from sklearn.tree import DecisionTreeRegressor\n",
    "from sklearn.ensemble import RandomForestRegressor, GradientBoostingRegressor\n",
    "from sklearn.svm import SVR\n",
    "from sklearn.neighbors import KNeighborsRegressor\n",
    "from sklearn.pipeline import Pipeline\n",
    "from sklearn.compose import ColumnTransformer\n",
    "from xgboost import XGBRegressor"
   ]
  },
  {
   "cell_type": "code",
   "execution_count": 13,
   "metadata": {},
   "outputs": [],
   "source": [
    "train = pd.read_csv(\"data/train_prepared.csv\")\n",
    "test = pd.read_csv(\"data/test_prepared.csv\")"
   ]
  },
  {
   "cell_type": "code",
   "execution_count": 14,
   "metadata": {},
   "outputs": [
    {
     "data": {
      "text/plain": [
       "id              int64\n",
       "Rating        float64\n",
       "maincateg      object\n",
       "platform       object\n",
       "price1          int64\n",
       "actprice1       int64\n",
       "norating1     float64\n",
       "noreviews1    float64\n",
       "star_5f       float64\n",
       "star_4f       float64\n",
       "star_3f       float64\n",
       "star_2f         int64\n",
       "star_1f         int64\n",
       "fulfilled1      int64\n",
       "combo            bool\n",
       "category       object\n",
       "dtype: object"
      ]
     },
     "execution_count": 14,
     "metadata": {},
     "output_type": "execute_result"
    }
   ],
   "source": [
    "train.dtypes"
   ]
  },
  {
   "cell_type": "code",
   "execution_count": 4,
   "metadata": {},
   "outputs": [
    {
     "data": {
      "text/plain": [
       "Index(['id', 'Rating', 'maincateg', 'platform', 'price1', 'actprice1',\n",
       "       'norating1', 'noreviews1', 'star_5f', 'star_4f', 'star_3f', 'star_2f',\n",
       "       'star_1f', 'fulfilled1', 'combo', 'category'],\n",
       "      dtype='object')"
      ]
     },
     "execution_count": 4,
     "metadata": {},
     "output_type": "execute_result"
    }
   ],
   "source": [
    "train.columns"
   ]
  },
  {
   "cell_type": "code",
   "execution_count": 15,
   "metadata": {},
   "outputs": [],
   "source": [
    "train.drop(\"id\", axis=1, inplace=True)\n",
    "test_id = test.id\n",
    "test.drop(\"id\", axis=1, inplace=True)\n",
    "\n",
    "X = train.drop([\"price1\"], axis=1)\n",
    "y = train[\"price1\"]\n",
    "assert X.shape[1] == test.shape[1], \"X and test have different number of columns\""
   ]
  },
  {
   "cell_type": "code",
   "execution_count": 16,
   "metadata": {},
   "outputs": [],
   "source": [
    "columns_to_one_hot = [\"maincateg\", \"category\", \"platform\", \"combo\"]\n",
    "columns_to_standardize = [\"actprice1\", 'norating1', 'noreviews1', 'star_5f', \n",
    "    'star_4f', 'star_3f', 'star_2f', 'star_1f',]"
   ]
  },
  {
   "cell_type": "code",
   "execution_count": 17,
   "metadata": {},
   "outputs": [],
   "source": [
    "X_train, X_test, y_train, y_test = train_test_split(X, y, test_size=0.2, random_state=42)"
   ]
  },
  {
   "cell_type": "code",
   "execution_count": 18,
   "metadata": {},
   "outputs": [],
   "source": [
    "label_encoder = LabelEncoder()\n",
    "one_hot_encoder = OneHotEncoder(sparse=False)\n",
    "standardizer = StandardScaler()\n",
    "\n",
    "preprocessor = ColumnTransformer(\n",
    "    [\n",
    "        (\"one_hot_encoder\", one_hot_encoder, columns_to_one_hot),\n",
    "        (\"standardizer\", standardizer, columns_to_standardize)],\n",
    "    remainder=\"passthrough\"\n",
    ")"
   ]
  },
  {
   "cell_type": "code",
   "execution_count": 19,
   "metadata": {},
   "outputs": [],
   "source": [
    "preprocessor.fit(X_train)\n",
    "X_train = preprocessor.transform(X_train)\n",
    "X_test = preprocessor.transform(X_test)\n",
    "test = preprocessor.fit_transform(test)"
   ]
  },
  {
   "cell_type": "code",
   "execution_count": 22,
   "metadata": {},
   "outputs": [],
   "source": [
    "assert X_train.shape[1] == test.shape[1], \"X and test have different number of columns\""
   ]
  },
  {
   "cell_type": "markdown",
   "metadata": {},
   "source": [
    "# Models"
   ]
  },
  {
   "cell_type": "markdown",
   "metadata": {},
   "source": [
    "## Base Model"
   ]
  },
  {
   "cell_type": "code",
   "execution_count": 24,
   "metadata": {},
   "outputs": [
    {
     "name": "stdout",
     "output_type": "stream",
     "text": [
      "Linear Regression On Test Set:\n",
      "R2: 0.8221663908651199\n",
      "MAE: 180.54676573426573\n",
      "MSE: 82216.3039921726\n",
      "\n",
      "\n",
      "Linear Regression On Train Set:\n",
      "R2: 0.804004965782383\n",
      "MAE: 181.19131436745073\n",
      "MSE: 80653.2825587055\n"
     ]
    }
   ],
   "source": [
    "lr = LinearRegression()\n",
    "lr.fit(X_train, y_train)\n",
    "y_pred = lr.predict(X_test)\n",
    "print(\"Linear Regression On Test Set:\")\n",
    "print(\"R2:\", r2_score(y_test, y_pred))\n",
    "print(\"MAE:\", mean_absolute_error(y_test, y_pred))\n",
    "print(\"MSE:\", mean_squared_error(y_test, y_pred))\n",
    "print(\"\\n\")\n",
    "print(\"Linear Regression On Train Set:\")\n",
    "y_pred_t = lr.predict(X_train)\n",
    "print(\"R2:\", r2_score(y_train, y_pred_t))\n",
    "print(\"MAE:\", mean_absolute_error(y_train, y_pred_t))\n",
    "print(\"MSE:\", mean_squared_error(y_train, y_pred_t))"
   ]
  },
  {
   "cell_type": "code",
   "execution_count": 26,
   "metadata": {},
   "outputs": [
    {
     "name": "stdout",
     "output_type": "stream",
     "text": [
      "XGBR On Test Set:\n",
      "R2: 0.9085747914684733\n",
      "MAE: 110.39584102012212\n",
      "MSE: 42267.84112262313\n",
      "\n",
      "\n",
      "XGBR On Train Set:\n",
      "R2: 0.9687509104324868\n",
      "MAE: 75.77798978644272\n",
      "MSE: 12859.211768562198\n"
     ]
    }
   ],
   "source": [
    "xgbr = XGBRegressor(n_estimators=1000, max_depth=4, learning_rate=0.1)\n",
    "xgbr.fit(X_train, y_train)\n",
    "y_pred = xgbr.predict(X_test)\n",
    "print(\"XGBR On Test Set:\")\n",
    "print(\"R2:\", r2_score(y_test, y_pred))\n",
    "print(\"MAE:\", mean_absolute_error(y_test, y_pred))\n",
    "print(\"MSE:\", mean_squared_error(y_test, y_pred))\n",
    "print(\"\\n\")\n",
    "print(\"XGBR On Train Set:\")\n",
    "y_pred_t = xgbr.predict(X_train)\n",
    "print(\"R2:\", r2_score(y_train, y_pred_t))\n",
    "print(\"MAE:\", mean_absolute_error(y_train, y_pred_t))\n",
    "print(\"MSE:\", mean_squared_error(y_train, y_pred_t))"
   ]
  },
  {
   "cell_type": "code",
   "execution_count": 29,
   "metadata": {},
   "outputs": [
    {
     "name": "stdout",
     "output_type": "stream",
     "text": [
      "rfr On Test Set:\n",
      "R2: 0.8843525531555992\n",
      "MAE: 140.4658951892472\n",
      "MSE: 53466.30309047111\n",
      "\n",
      "\n",
      "rfr On Train Set:\n",
      "R2: 0.9036228966954832\n",
      "MAE: 130.1663404402116\n",
      "MSE: 39659.830036194115\n"
     ]
    }
   ],
   "source": [
    "rfr = RandomForestRegressor(n_estimators=1000, max_depth=8)\n",
    "rfr.fit(X_train, y_train)\n",
    "y_pred = rfr.predict(X_test)\n",
    "print(\"rfr On Test Set:\")\n",
    "print(\"R2:\", r2_score(y_test, y_pred))\n",
    "print(\"MAE:\", mean_absolute_error(y_test, y_pred))\n",
    "print(\"MSE:\", mean_squared_error(y_test, y_pred))\n",
    "print(\"\\n\")\n",
    "print(\"rfr On Train Set:\")\n",
    "y_pred_t = rfr.predict(X_train)\n",
    "print(\"R2:\", r2_score(y_train, y_pred_t))\n",
    "print(\"MAE:\", mean_absolute_error(y_train, y_pred_t))\n",
    "print(\"MSE:\", mean_squared_error(y_train, y_pred_t))"
   ]
  },
  {
   "cell_type": "code",
   "execution_count": 30,
   "metadata": {},
   "outputs": [
    {
     "name": "stdout",
     "output_type": "stream",
     "text": [
      "svr On Test Set:\n",
      "R2: 0.41497833269179396\n",
      "MAE: 257.3077333123637\n",
      "MSE: 270468.10485040746\n",
      "\n",
      "\n",
      "svr On Train Set:\n",
      "R2: 0.4266329229337835\n",
      "MAE: 244.90816648362159\n",
      "MSE: 235944.43125092195\n"
     ]
    }
   ],
   "source": [
    "svr = SVR()\n",
    "svr.fit(X_train, y_train)\n",
    "y_pred = svr.predict(X_test)\n",
    "print(\"svr On Test Set:\")\n",
    "print(\"R2:\", r2_score(y_test, y_pred))\n",
    "print(\"MAE:\", mean_absolute_error(y_test, y_pred))\n",
    "print(\"MSE:\", mean_squared_error(y_test, y_pred))\n",
    "print(\"\\n\")\n",
    "print(\"svr On Train Set:\")\n",
    "y_pred_t = svr.predict(X_train)\n",
    "print(\"R2:\", r2_score(y_train, y_pred_t))\n",
    "print(\"MAE:\", mean_absolute_error(y_train, y_pred_t))\n",
    "print(\"MSE:\", mean_squared_error(y_train, y_pred_t))"
   ]
  },
  {
   "cell_type": "markdown",
   "metadata": {},
   "source": [
    "Let's do a grid search for the xgbr."
   ]
  },
  {
   "cell_type": "code",
   "execution_count": 31,
   "metadata": {},
   "outputs": [
    {
     "name": "stdout",
     "output_type": "stream",
     "text": [
      "Fitting 3 folds for each of 81 candidates, totalling 243 fits\n"
     ]
    }
   ],
   "source": [
    "from sklearn.model_selection import GridSearchCV\n",
    "params = {\n",
    "    \"n_estimators\": [500, 1000, 2000],\n",
    "    \"max_depth\": [2, 4, 8],\n",
    "    \"learning_rate\": [0.01, 0.1, 0.3],\n",
    "    \"booster\": [\"gbtree\", \"gblinear\", \"dart\"],\n",
    "}\n",
    "\n",
    "base_model = XGBRegressor()\n",
    "grid_search = GridSearchCV(base_model, params, cv=3, n_jobs=-1, verbose=1)\n",
    "grid_search.fit(X_train, y_train)"
   ]
  },
  {
   "cell_type": "code",
   "execution_count": null,
   "metadata": {},
   "outputs": [],
   "source": []
  }
 ],
 "metadata": {
  "kernelspec": {
   "display_name": "Python 3.8.5",
   "language": "python",
   "name": "python3"
  },
  "language_info": {
   "codemirror_mode": {
    "name": "ipython",
    "version": 3
   },
   "file_extension": ".py",
   "mimetype": "text/x-python",
   "name": "python",
   "nbconvert_exporter": "python",
   "pygments_lexer": "ipython3",
   "version": "3.8.5"
  },
  "orig_nbformat": 4,
  "vscode": {
   "interpreter": {
    "hash": "98a06921e42c4ae689d578665f28201be7cad9b45c4149f8887161f1353af971"
   }
  }
 },
 "nbformat": 4,
 "nbformat_minor": 2
}
